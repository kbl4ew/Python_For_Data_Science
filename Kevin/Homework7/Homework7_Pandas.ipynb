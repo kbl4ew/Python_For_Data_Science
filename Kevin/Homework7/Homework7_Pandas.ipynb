{
 "cells": [
  {
   "cell_type": "markdown",
   "metadata": {},
   "source": [
    "1) Make a DataFrame with one row per issue with the following columns extracted\n",
    "from the issue data:\n",
    "\n",
    "   ``ntitle, created_at, labels, closed_at, user, id``\n",
    "\n",
    "Transform the user values to be simply the 'login' string, so that the user\n",
    "column contains only string usernames.\n",
    "\n",
    "2) Remove duplicate rows by id from the DataFrame you just created using the id\n",
    "column's duplicated method.\n",
    "\n",
    "4) Convert the ``created_at`` and ``closed_at columns`` from string to datetime type.\n",
    "\n",
    "5) Now construct appropriate time series and pandas functions to make the\n",
    "following plots:\n",
    "\n",
    "- Number of issues created by month\n",
    "\n",
    "- Number of distinct users creating issues each month (hint: you can pass a\n",
    "  function to resample's how argument, and there's nothing wrong with having\n",
    "  string values in a TimeSeries)\n",
    "\n",
    "6) Make a table and an accompanying plot illustrating:\n",
    "\n",
    "- The mean number of days it took for issues to be closed by the month they\n",
    "  were opened. In other words, for closed issues created in August 2012, how\n",
    "  long were they open on average? (hint: use the ``total_seconds`` function on the\n",
    "  timedelta objects computed when subtracting datetime objects). Also show the\n",
    "  number of issues in each month in the table.\n",
    "\n",
    "7) Make a DataFrame containing all the comments for all of the issues. You will\n",
    "want to add an ``id`` attribute to each comment while doing so so that each row\n",
    "contains a single comment and has the id of the issue it belongs to.\n",
    "\n",
    "Convert the ``created`` column to datetime format; note you will need to multiply\n",
    "the values (appropriately converted to integers) by 1000000 to get them in\n",
    "nanoseconds and pass to to_datetime.\n",
    "\n",
    "8) For each month, compute a table summarizing the following for each month:\n",
    "\n",
    "- Total number of issue comments\n",
    "- The \"chattiest\" user (most number of comments)\n",
    "- The percentage of total comments made by the chattiest users\n",
    "- The number of distinct participants in the issue comments\n",
    "\n",
    "9) Create a helper ``labels`` table from the issues data with two columns: id and\n",
    "label. If an issue has 3 elements in its 'labels' value, add 3 rows to the\n",
    "table. If an issue does not have any labels, place a single row with None as\n",
    "the label (hint: construct a list of tuples, then make the DataFrame).\n",
    "\n",
    "10) Now, join the issues data with the labels helper table (pandas.merge). Add\n",
    "a column to this table containing the number of days (as a floating point\n",
    "number) it took to close each issue.\n",
    "\n",
    "11) Compute a table containing the average time to close for each label\n",
    "type. Now make a plot comparing mean time to close by month for Enhancement\n",
    "versus Bug issue types."
   ]
  },
  {
   "cell_type": "code",
   "execution_count": 52,
   "metadata": {
    "collapsed": true
   },
   "outputs": [],
   "source": [
    "import numpy as np\n",
    "import pandas as pd"
   ]
  },
  {
   "cell_type": "code",
   "execution_count": 53,
   "metadata": {
    "collapsed": true
   },
   "outputs": [],
   "source": [
    "# Several ways to convert to date\n",
    "from datetime import datetime\n",
    "import dateutil.parser as parser"
   ]
  },
  {
   "cell_type": "code",
   "execution_count": 54,
   "metadata": {
    "collapsed": false
   },
   "outputs": [
    {
     "name": "stdout",
     "output_type": "stream",
     "text": [
      "/Users/kevinli/src/python-seminar/Homework_Solutions/Homework7\r\n"
     ]
    }
   ],
   "source": [
    "!pwd"
   ]
  },
  {
   "cell_type": "code",
   "execution_count": 55,
   "metadata": {
    "collapsed": false
   },
   "outputs": [
    {
     "name": "stdout",
     "output_type": "stream",
     "text": [
      "Homework7_Pandas.ipynb closed.json\r\n"
     ]
    }
   ],
   "source": [
    "!ls"
   ]
  },
  {
   "cell_type": "code",
   "execution_count": 56,
   "metadata": {
    "collapsed": false
   },
   "outputs": [
    {
     "name": "stdout",
     "output_type": "stream",
     "text": [
      "[\r\n",
      "  {\r\n",
      "    \"body\": \"re: pystatsmodels e-mail\\r\\n\\r\\n\\r\\nhi everyone,\\r\\n\\r\\njust getting started with pandas and i was wondering if someone could\\r\\nhelp me out.  do pandas.DataMatrix objects support per item comparison\\r\\noperations?\\r\\n\\r\\ni have a two data matrices, and i want to do something like this:\\r\\n\\r\\ndiv[div > 0.5 * price] = 0\\r\\n\\r\\nthis would work if div and price were numpy.ndarray objects.  any idea\\r\\nhow i would do something like this with pandas.DataMatrix objects?\\r\\n\\r\\nthanks,\\r\\nandy\\r\\n\", \r\n",
      "    \"labels\": [], \r\n",
      "    \"title\": \"Enable element-wise comparison operations in DataMatrix objects\", \r\n",
      "    \"url\": \"https://api.github.com/repos/pydata/pandas/issues/1\", \r\n",
      "    \"labels_url\": \"https://api.github.com/repos/pydata/pandas/issues/1/labels{/name}\", \r\n",
      "    \"created_at\": \"2010-09-29T00:45:31Z\", \r\n",
      "    \"events_url\": \"https://api.github.com/repos/pydata/pandas/issues/1/events\", \r\n",
      "    \"comments_url\": \"https://api.github.com/repos/pydata/pandas/issues/1/comments\", \r\n"
     ]
    }
   ],
   "source": [
    "!head closed.json"
   ]
  },
  {
   "cell_type": "code",
   "execution_count": 57,
   "metadata": {
    "collapsed": false
   },
   "outputs": [],
   "source": [
    "df = pd.read_json('closed.json')"
   ]
  },
  {
   "cell_type": "code",
   "execution_count": 58,
   "metadata": {
    "collapsed": false
   },
   "outputs": [
    {
     "data": {
      "text/plain": [
       "(2968, 19)"
      ]
     },
     "execution_count": 58,
     "metadata": {},
     "output_type": "execute_result"
    }
   ],
   "source": [
    "df.shape # (2968, 19)"
   ]
  },
  {
   "cell_type": "code",
   "execution_count": 59,
   "metadata": {
    "collapsed": false
   },
   "outputs": [
    {
     "data": {
      "text/plain": [
       "Index(['assignee', 'body', 'closed_at', 'comments', 'comments_url',\n",
       "       'created_at', 'events_url', 'html_url', 'id', 'labels', 'labels_url',\n",
       "       'milestone', 'number', 'pull_request', 'state', 'title', 'updated_at',\n",
       "       'url', 'user'],\n",
       "      dtype='object')"
      ]
     },
     "execution_count": 59,
     "metadata": {},
     "output_type": "execute_result"
    }
   ],
   "source": [
    "df.columns"
   ]
  },
  {
   "cell_type": "code",
   "execution_count": 60,
   "metadata": {
    "collapsed": false
   },
   "outputs": [],
   "source": [
    "df2 = df[['title', 'created_at', 'labels', 'closed_at', 'user', 'id']]"
   ]
  },
  {
   "cell_type": "code",
   "execution_count": 61,
   "metadata": {
    "collapsed": false
   },
   "outputs": [
    {
     "data": {
      "text/plain": [
       "{'avatar_url': 'https://secure.gravatar.com/avatar/2c08a3eed709a9d1a2654cea45aa466f?d=https://a248.e.akamai.net/assets.github.com%2Fimages%2Fgravatars%2Fgravatar-user-420.png',\n",
       " 'events_url': 'https://api.github.com/users/wesm/events{/privacy}',\n",
       " 'followers_url': 'https://api.github.com/users/wesm/followers',\n",
       " 'following_url': 'https://api.github.com/users/wesm/following',\n",
       " 'gists_url': 'https://api.github.com/users/wesm/gists{/gist_id}',\n",
       " 'gravatar_id': '2c08a3eed709a9d1a2654cea45aa466f',\n",
       " 'html_url': 'https://github.com/wesm',\n",
       " 'id': 329591,\n",
       " 'login': 'wesm',\n",
       " 'organizations_url': 'https://api.github.com/users/wesm/orgs',\n",
       " 'received_events_url': 'https://api.github.com/users/wesm/received_events',\n",
       " 'repos_url': 'https://api.github.com/users/wesm/repos',\n",
       " 'starred_url': 'https://api.github.com/users/wesm/starred{/owner}{/repo}',\n",
       " 'subscriptions_url': 'https://api.github.com/users/wesm/subscriptions',\n",
       " 'type': 'User',\n",
       " 'url': 'https://api.github.com/users/wesm'}"
      ]
     },
     "execution_count": 61,
     "metadata": {},
     "output_type": "execute_result"
    }
   ],
   "source": [
    "df2.user[0]"
   ]
  },
  {
   "cell_type": "code",
   "execution_count": 62,
   "metadata": {
    "collapsed": false
   },
   "outputs": [
    {
     "data": {
      "text/plain": [
       "dict"
      ]
     },
     "execution_count": 62,
     "metadata": {},
     "output_type": "execute_result"
    }
   ],
   "source": [
    "type(df2.user[0]) # We note that df2.user[0] is a dictionary"
   ]
  },
  {
   "cell_type": "code",
   "execution_count": 63,
   "metadata": {
    "collapsed": false
   },
   "outputs": [],
   "source": [
    "tmp = [df2.user[i]['login'] for i in range(2968)]"
   ]
  },
  {
   "cell_type": "code",
   "execution_count": 64,
   "metadata": {
    "collapsed": false
   },
   "outputs": [
    {
     "name": "stderr",
     "output_type": "stream",
     "text": [
      "//anaconda/lib/python3.5/site-packages/pandas/core/generic.py:2387: SettingWithCopyWarning: \n",
      "A value is trying to be set on a copy of a slice from a DataFrame.\n",
      "Try using .loc[row_indexer,col_indexer] = value instead\n",
      "\n",
      "See the caveats in the documentation: http://pandas.pydata.org/pandas-docs/stable/indexing.html#indexing-view-versus-copy\n",
      "  self[name] = value\n"
     ]
    }
   ],
   "source": [
    "df2.user = tmp"
   ]
  },
  {
   "cell_type": "code",
   "execution_count": 65,
   "metadata": {
    "collapsed": false
   },
   "outputs": [
    {
     "name": "stderr",
     "output_type": "stream",
     "text": [
      "//anaconda/lib/python3.5/site-packages/pandas/core/indexing.py:426: SettingWithCopyWarning: \n",
      "A value is trying to be set on a copy of a slice from a DataFrame.\n",
      "Try using .loc[row_indexer,col_indexer] = value instead\n",
      "\n",
      "See the caveats in the documentation: http://pandas.pydata.org/pandas-docs/stable/indexing.html#indexing-view-versus-copy\n",
      "  self.obj[item] = s\n"
     ]
    }
   ],
   "source": [
    "df2.loc[:,'user'] = tmp"
   ]
  },
  {
   "cell_type": "code",
   "execution_count": 66,
   "metadata": {
    "collapsed": false
   },
   "outputs": [
    {
     "data": {
      "text/plain": [
       "0                  wesm\n",
       "1                  wesm\n",
       "2                  wesm\n",
       "3                  wesm\n",
       "4                  wesm\n",
       "5                  wesm\n",
       "6                  wesm\n",
       "7                  wesm\n",
       "8                  wesm\n",
       "9                  wesm\n",
       "10                 wesm\n",
       "11                 wesm\n",
       "12              andylei\n",
       "13              andylei\n",
       "14              andylei\n",
       "15              andylei\n",
       "16                 wesm\n",
       "17                 wesm\n",
       "18                 wesm\n",
       "19                 wesm\n",
       "20                 wesm\n",
       "21                 wesm\n",
       "22             hector13\n",
       "23             hector13\n",
       "24               surbas\n",
       "25               surbas\n",
       "26                 wesm\n",
       "27                 wesm\n",
       "28                 wesm\n",
       "29                 wesm\n",
       "             ...       \n",
       "2938                y-p\n",
       "2939            cpcloud\n",
       "2940            jreback\n",
       "2941            jreback\n",
       "2942    rafaljozefowicz\n",
       "2943             karmel\n",
       "2944       danielballan\n",
       "2945       danielballan\n",
       "2946            jreback\n",
       "2947             kyleam\n",
       "2948                y-p\n",
       "2949            jreback\n",
       "2950            jreback\n",
       "2951             abudis\n",
       "2952                y-p\n",
       "2953                y-p\n",
       "2954                y-p\n",
       "2955            jreback\n",
       "2956             rla3rd\n",
       "2957            jreback\n",
       "2958            jreback\n",
       "2959            cpcloud\n",
       "2960                y-p\n",
       "2961             kyleam\n",
       "2962      TomAugspurger\n",
       "2963          dieterv77\n",
       "2964            nitraat\n",
       "2965                y-p\n",
       "2966         fonnesbeck\n",
       "2967            cpcloud\n",
       "Name: user, dtype: object"
      ]
     },
     "execution_count": 66,
     "metadata": {},
     "output_type": "execute_result"
    }
   ],
   "source": [
    "df2.user"
   ]
  },
  {
   "cell_type": "code",
   "execution_count": 67,
   "metadata": {
    "collapsed": false
   },
   "outputs": [
    {
     "data": {
      "text/plain": [
       "1      2010-09-29 00:45:31\n",
       "3      2010-09-29 00:50:13\n",
       "5      2010-09-29 00:50:52\n",
       "7      2010-09-29 00:51:27\n",
       "9      2010-09-29 00:57:00\n",
       "11     2010-09-29 05:30:56\n",
       "13     2010-09-29 15:41:55\n",
       "15     2010-09-29 19:45:47\n",
       "17     2010-09-30 22:29:36\n",
       "19     2010-09-30 22:33:14\n",
       "21     2010-09-30 22:34:26\n",
       "23     2010-10-03 17:20:41\n",
       "25     2010-10-07 23:42:34\n",
       "27     2010-10-11 03:19:39\n",
       "29     2010-10-12 16:10:48\n",
       "31     2010-10-12 16:13:04\n",
       "33     2010-10-12 16:13:55\n",
       "35     2010-10-12 16:15:10\n",
       "37     2010-10-22 17:59:31\n",
       "39     2010-11-19 14:50:11\n",
       "41     2010-11-19 18:41:36\n",
       "43     2010-12-14 16:50:11\n",
       "45     2010-12-22 10:37:40\n",
       "47     2010-12-24 07:27:52\n",
       "49     2010-12-24 07:32:39\n",
       "51     2011-01-03 17:15:19\n",
       "53     2011-01-03 23:29:47\n",
       "55     2011-01-11 04:14:15\n",
       "57     2011-01-11 12:15:39\n",
       "59     2011-01-11 12:31:34\n",
       "               ...        \n",
       "2938   2013-04-23 12:52:18\n",
       "2939   2013-04-23 18:17:44\n",
       "2940   2013-04-23 20:38:47\n",
       "2941   2013-04-23 21:05:03\n",
       "2942   2013-04-23 23:02:13\n",
       "2943   2013-04-24 15:31:12\n",
       "2944   2013-04-24 17:01:42\n",
       "2945   2013-04-24 18:17:18\n",
       "2946   2013-04-24 21:30:46\n",
       "2947   2013-04-24 22:07:11\n",
       "2948   2013-04-24 22:39:37\n",
       "2949   2013-04-25 00:05:20\n",
       "2950   2013-04-25 01:10:17\n",
       "2951   2013-04-25 06:40:46\n",
       "2952   2013-04-25 10:49:27\n",
       "2953   2013-04-25 12:29:18\n",
       "2954   2013-04-25 12:53:19\n",
       "2955   2013-04-25 14:17:46\n",
       "2956   2013-04-25 15:48:23\n",
       "2957   2013-04-25 18:40:30\n",
       "2958   2013-04-25 21:27:25\n",
       "2959   2013-04-26 18:11:36\n",
       "2960   2013-04-26 18:51:30\n",
       "2961   2013-04-26 21:14:43\n",
       "2962   2013-04-27 00:53:30\n",
       "2963   2013-04-27 03:19:17\n",
       "2964   2013-04-27 07:54:23\n",
       "2965   2013-04-27 15:50:49\n",
       "2966   2013-04-28 01:10:48\n",
       "2967   2013-04-28 15:27:23\n",
       "Name: created_at, dtype: datetime64[ns]"
      ]
     },
     "execution_count": 67,
     "metadata": {},
     "output_type": "execute_result"
    }
   ],
   "source": [
    "df3.created_at"
   ]
  },
  {
   "cell_type": "code",
   "execution_count": 68,
   "metadata": {
    "collapsed": false
   },
   "outputs": [
    {
     "data": {
      "text/plain": [
       "1      2011-02-19 23:13:48\n",
       "3      2010-12-17 02:57:33\n",
       "5      2011-01-01 23:50:12\n",
       "7      2010-12-11 06:14:32\n",
       "9      2010-12-17 02:46:34\n",
       "11     2010-12-11 06:05:26\n",
       "13     2010-12-11 06:12:00\n",
       "15     2011-06-23 04:50:05\n",
       "17     2011-05-18 02:43:33\n",
       "19     2011-06-23 19:38:51\n",
       "21     2011-02-19 23:46:00\n",
       "23     2010-12-11 22:53:14\n",
       "25     2012-12-12 21:35:57\n",
       "27     2011-02-19 16:13:00\n",
       "29     2010-12-11 06:19:58\n",
       "31     2011-06-23 04:46:14\n",
       "33     2011-07-08 22:15:57\n",
       "35     2011-09-25 05:17:23\n",
       "37     2011-01-11 03:37:14\n",
       "39     2010-12-17 02:45:20\n",
       "41     2010-11-19 18:42:08\n",
       "43     2010-12-15 04:07:42\n",
       "45     2011-01-01 23:16:26\n",
       "47     2010-12-24 16:27:12\n",
       "49     2010-12-24 21:28:59\n",
       "51     2011-01-03 23:23:47\n",
       "53     2011-02-20 00:53:44\n",
       "55     2011-01-29 19:13:49\n",
       "57     2011-06-23 04:47:01\n",
       "59     2011-06-14 14:17:06\n",
       "               ...        \n",
       "2938   2013-04-23 13:16:37\n",
       "2939   2013-04-23 18:43:22\n",
       "2940   2013-04-24 12:49:37\n",
       "2941   2013-04-24 12:49:50\n",
       "2942   2013-04-24 04:07:04\n",
       "2943   2013-04-24 15:50:16\n",
       "2944   2013-04-25 14:25:43\n",
       "2945   2013-04-25 14:25:09\n",
       "2946   2013-04-25 14:24:18\n",
       "2947   2013-04-25 01:56:02\n",
       "2948   2013-04-24 22:39:44\n",
       "2949   2013-04-25 01:55:28\n",
       "2950   2013-04-25 12:29:36\n",
       "2951   2013-04-25 16:11:11\n",
       "2952   2013-04-25 14:38:23\n",
       "2953   2013-04-25 15:25:49\n",
       "2954   2013-04-25 16:09:51\n",
       "2955   2013-04-25 14:38:06\n",
       "2956   2013-04-25 21:57:05\n",
       "2957   2013-04-29 14:37:13\n",
       "2958   2013-04-25 21:56:33\n",
       "2959   2013-04-26 18:52:57\n",
       "2960   2013-04-26 18:52:46\n",
       "2961   2013-04-28 00:55:20\n",
       "2962   2013-04-27 20:14:38\n",
       "2963   2013-04-29 17:43:37\n",
       "2964   2013-04-29 16:40:04\n",
       "2965   2013-04-29 21:54:45\n",
       "2966   2013-04-28 01:30:39\n",
       "2967   2013-04-29 01:04:52\n",
       "Name: closed_at, dtype: datetime64[ns]"
      ]
     },
     "execution_count": 68,
     "metadata": {},
     "output_type": "execute_result"
    }
   ],
   "source": [
    "df3.closed_at #Already converted to datetime type ..."
   ]
  },
  {
   "cell_type": "code",
   "execution_count": 69,
   "metadata": {
    "collapsed": true
   },
   "outputs": [],
   "source": [
    "#----- Task 3: Removing Duplicate Entries -----#"
   ]
  },
  {
   "cell_type": "code",
   "execution_count": 70,
   "metadata": {
    "collapsed": false
   },
   "outputs": [],
   "source": [
    "df3 = df2.drop_duplicates(subset='id', keep = \"last\")"
   ]
  },
  {
   "cell_type": "code",
   "execution_count": 71,
   "metadata": {
    "collapsed": false
   },
   "outputs": [
    {
     "data": {
      "text/plain": [
       "(2968, 6)"
      ]
     },
     "execution_count": 71,
     "metadata": {},
     "output_type": "execute_result"
    }
   ],
   "source": [
    "df2.shape"
   ]
  },
  {
   "cell_type": "code",
   "execution_count": 72,
   "metadata": {
    "collapsed": false
   },
   "outputs": [
    {
     "data": {
      "text/plain": [
       "(2934, 6)"
      ]
     },
     "execution_count": 72,
     "metadata": {},
     "output_type": "execute_result"
    }
   ],
   "source": [
    "df3.shape #Removed 34 duplicated entries"
   ]
  },
  {
   "cell_type": "code",
   "execution_count": 73,
   "metadata": {
    "collapsed": false
   },
   "outputs": [
    {
     "data": {
      "text/plain": [
       "Index(['title', 'created_at', 'labels', 'closed_at', 'user', 'id'], dtype='object')"
      ]
     },
     "execution_count": 73,
     "metadata": {},
     "output_type": "execute_result"
    }
   ],
   "source": [
    "#----- Task 4 -----#\n",
    "df3.columns"
   ]
  },
  {
   "cell_type": "code",
   "execution_count": 74,
   "metadata": {
    "collapsed": false
   },
   "outputs": [
    {
     "data": {
      "text/plain": [
       "Int64Index([   1,    3,    5,    7,    9,   11,   13,   15,   17,   19,\n",
       "            ...\n",
       "            2958, 2959, 2960, 2961, 2962, 2963, 2964, 2965, 2966, 2967],\n",
       "           dtype='int64', length=2934)"
      ]
     },
     "execution_count": 74,
     "metadata": {},
     "output_type": "execute_result"
    }
   ],
   "source": [
    "df3.index"
   ]
  },
  {
   "cell_type": "code",
   "execution_count": 75,
   "metadata": {
    "collapsed": false
   },
   "outputs": [
    {
     "ename": "TypeError",
     "evalue": "Only valid with DatetimeIndex, TimedeltaIndex or PeriodIndex",
     "output_type": "error",
     "traceback": [
      "\u001b[0;31m---------------------------------------------------------------------------\u001b[0m",
      "\u001b[0;31mTypeError\u001b[0m                                 Traceback (most recent call last)",
      "\u001b[0;32m<ipython-input-75-57e2ffd21564>\u001b[0m in \u001b[0;36m<module>\u001b[0;34m()\u001b[0m\n\u001b[0;32m----> 1\u001b[0;31m \u001b[0mdf3\u001b[0m\u001b[0;34m.\u001b[0m\u001b[0mresample\u001b[0m\u001b[0;34m(\u001b[0m\u001b[0;34m'M'\u001b[0m\u001b[0;34m,\u001b[0m \u001b[0mhow\u001b[0m\u001b[0;34m=\u001b[0m\u001b[0;34m{\u001b[0m\u001b[0;34m'created_at'\u001b[0m\u001b[0;34m,\u001b[0m\u001b[0;34m'count'\u001b[0m\u001b[0;34m}\u001b[0m\u001b[0;34m)\u001b[0m\u001b[0;34m\u001b[0m\u001b[0m\n\u001b[0m",
      "\u001b[0;32m//anaconda/lib/python3.5/site-packages/pandas/core/generic.py\u001b[0m in \u001b[0;36mresample\u001b[0;34m(self, rule, how, axis, fill_method, closed, label, convention, kind, loffset, limit, base)\u001b[0m\n\u001b[1;32m   3641\u001b[0m                               \u001b[0mfill_method\u001b[0m\u001b[0;34m=\u001b[0m\u001b[0mfill_method\u001b[0m\u001b[0;34m,\u001b[0m \u001b[0mconvention\u001b[0m\u001b[0;34m=\u001b[0m\u001b[0mconvention\u001b[0m\u001b[0;34m,\u001b[0m\u001b[0;34m\u001b[0m\u001b[0m\n\u001b[1;32m   3642\u001b[0m                               limit=limit, base=base)\n\u001b[0;32m-> 3643\u001b[0;31m         \u001b[0;32mreturn\u001b[0m \u001b[0msampler\u001b[0m\u001b[0;34m.\u001b[0m\u001b[0mresample\u001b[0m\u001b[0;34m(\u001b[0m\u001b[0mself\u001b[0m\u001b[0;34m)\u001b[0m\u001b[0;34m.\u001b[0m\u001b[0m__finalize__\u001b[0m\u001b[0;34m(\u001b[0m\u001b[0mself\u001b[0m\u001b[0;34m)\u001b[0m\u001b[0;34m\u001b[0m\u001b[0m\n\u001b[0m\u001b[1;32m   3644\u001b[0m \u001b[0;34m\u001b[0m\u001b[0m\n\u001b[1;32m   3645\u001b[0m     \u001b[0;32mdef\u001b[0m \u001b[0mfirst\u001b[0m\u001b[0;34m(\u001b[0m\u001b[0mself\u001b[0m\u001b[0;34m,\u001b[0m \u001b[0moffset\u001b[0m\u001b[0;34m)\u001b[0m\u001b[0;34m:\u001b[0m\u001b[0;34m\u001b[0m\u001b[0m\n",
      "\u001b[0;32m//anaconda/lib/python3.5/site-packages/pandas/tseries/resample.py\u001b[0m in \u001b[0;36mresample\u001b[0;34m(self, obj)\u001b[0m\n\u001b[1;32m    100\u001b[0m             \u001b[0;32mreturn\u001b[0m \u001b[0mself\u001b[0m\u001b[0;34m.\u001b[0m\u001b[0mobj\u001b[0m\u001b[0;34m\u001b[0m\u001b[0m\n\u001b[1;32m    101\u001b[0m         \u001b[0;32melse\u001b[0m\u001b[0;34m:\u001b[0m  \u001b[0;31m# pragma: no cover\u001b[0m\u001b[0;34m\u001b[0m\u001b[0m\n\u001b[0;32m--> 102\u001b[0;31m             \u001b[0;32mraise\u001b[0m \u001b[0mTypeError\u001b[0m\u001b[0;34m(\u001b[0m\u001b[0;34m'Only valid with DatetimeIndex, TimedeltaIndex or PeriodIndex'\u001b[0m\u001b[0;34m)\u001b[0m\u001b[0;34m\u001b[0m\u001b[0m\n\u001b[0m\u001b[1;32m    103\u001b[0m \u001b[0;34m\u001b[0m\u001b[0m\n\u001b[1;32m    104\u001b[0m         \u001b[0mrs_axis\u001b[0m \u001b[0;34m=\u001b[0m \u001b[0mrs\u001b[0m\u001b[0;34m.\u001b[0m\u001b[0m_get_axis\u001b[0m\u001b[0;34m(\u001b[0m\u001b[0mself\u001b[0m\u001b[0;34m.\u001b[0m\u001b[0maxis\u001b[0m\u001b[0;34m)\u001b[0m\u001b[0;34m\u001b[0m\u001b[0m\n",
      "\u001b[0;31mTypeError\u001b[0m: Only valid with DatetimeIndex, TimedeltaIndex or PeriodIndex"
     ]
    }
   ],
   "source": [
    "df3.resample('M', how={'created_at','count'})"
   ]
  },
  {
   "cell_type": "code",
   "execution_count": null,
   "metadata": {
    "collapsed": true
   },
   "outputs": [],
   "source": [
    "import pylab\n",
    "import matplotlib.pyplot as plt"
   ]
  },
  {
   "cell_type": "code",
   "execution_count": null,
   "metadata": {
    "collapsed": false
   },
   "outputs": [],
   "source": [
    "%pylab inline"
   ]
  },
  {
   "cell_type": "code",
   "execution_count": 76,
   "metadata": {
    "collapsed": true
   },
   "outputs": [],
   "source": [
    "from pylab import rcParams\n",
    "rcParams['figure.figsize'] = 10, 10"
   ]
  },
  {
   "cell_type": "code",
   "execution_count": 79,
   "metadata": {
    "collapsed": false
   },
   "outputs": [
    {
     "data": {
      "text/html": [
       "<div>\n",
       "<table border=\"1\" class=\"dataframe\">\n",
       "  <thead>\n",
       "    <tr style=\"text-align: right;\">\n",
       "      <th></th>\n",
       "      <th>title</th>\n",
       "      <th>labels</th>\n",
       "      <th>closed_at</th>\n",
       "      <th>user</th>\n",
       "      <th>id</th>\n",
       "    </tr>\n",
       "    <tr>\n",
       "      <th>created_at</th>\n",
       "      <th></th>\n",
       "      <th></th>\n",
       "      <th></th>\n",
       "      <th></th>\n",
       "      <th></th>\n",
       "    </tr>\n",
       "  </thead>\n",
       "  <tbody>\n",
       "    <tr>\n",
       "      <th>2010-09-30</th>\n",
       "      <td>1</td>\n",
       "      <td>1</td>\n",
       "      <td>1</td>\n",
       "      <td>1</td>\n",
       "      <td>1</td>\n",
       "    </tr>\n",
       "    <tr>\n",
       "      <th>2010-10-31</th>\n",
       "      <td>1</td>\n",
       "      <td>1</td>\n",
       "      <td>1</td>\n",
       "      <td>1</td>\n",
       "      <td>1</td>\n",
       "    </tr>\n",
       "    <tr>\n",
       "      <th>2010-11-30</th>\n",
       "      <td>1</td>\n",
       "      <td>1</td>\n",
       "      <td>1</td>\n",
       "      <td>1</td>\n",
       "      <td>1</td>\n",
       "    </tr>\n",
       "    <tr>\n",
       "      <th>2010-12-31</th>\n",
       "      <td>1</td>\n",
       "      <td>1</td>\n",
       "      <td>1</td>\n",
       "      <td>1</td>\n",
       "      <td>1</td>\n",
       "    </tr>\n",
       "    <tr>\n",
       "      <th>2011-01-31</th>\n",
       "      <td>1</td>\n",
       "      <td>1</td>\n",
       "      <td>1</td>\n",
       "      <td>1</td>\n",
       "      <td>1</td>\n",
       "    </tr>\n",
       "    <tr>\n",
       "      <th>2011-02-28</th>\n",
       "      <td>1</td>\n",
       "      <td>1</td>\n",
       "      <td>1</td>\n",
       "      <td>1</td>\n",
       "      <td>1</td>\n",
       "    </tr>\n",
       "    <tr>\n",
       "      <th>2011-03-31</th>\n",
       "      <td>1</td>\n",
       "      <td>1</td>\n",
       "      <td>1</td>\n",
       "      <td>1</td>\n",
       "      <td>1</td>\n",
       "    </tr>\n",
       "    <tr>\n",
       "      <th>2011-04-30</th>\n",
       "      <td>NaN</td>\n",
       "      <td>NaN</td>\n",
       "      <td>NaN</td>\n",
       "      <td>NaN</td>\n",
       "      <td>NaN</td>\n",
       "    </tr>\n",
       "    <tr>\n",
       "      <th>2011-05-31</th>\n",
       "      <td>1</td>\n",
       "      <td>1</td>\n",
       "      <td>1</td>\n",
       "      <td>1</td>\n",
       "      <td>1</td>\n",
       "    </tr>\n",
       "    <tr>\n",
       "      <th>2011-06-30</th>\n",
       "      <td>1</td>\n",
       "      <td>1</td>\n",
       "      <td>1</td>\n",
       "      <td>1</td>\n",
       "      <td>1</td>\n",
       "    </tr>\n",
       "    <tr>\n",
       "      <th>2011-07-31</th>\n",
       "      <td>1</td>\n",
       "      <td>1</td>\n",
       "      <td>1</td>\n",
       "      <td>1</td>\n",
       "      <td>1</td>\n",
       "    </tr>\n",
       "    <tr>\n",
       "      <th>2011-08-31</th>\n",
       "      <td>1</td>\n",
       "      <td>1</td>\n",
       "      <td>1</td>\n",
       "      <td>1</td>\n",
       "      <td>1</td>\n",
       "    </tr>\n",
       "    <tr>\n",
       "      <th>2011-09-30</th>\n",
       "      <td>1</td>\n",
       "      <td>1</td>\n",
       "      <td>1</td>\n",
       "      <td>1</td>\n",
       "      <td>1</td>\n",
       "    </tr>\n",
       "    <tr>\n",
       "      <th>2011-10-31</th>\n",
       "      <td>2</td>\n",
       "      <td>2</td>\n",
       "      <td>2</td>\n",
       "      <td>2</td>\n",
       "      <td>2</td>\n",
       "    </tr>\n",
       "    <tr>\n",
       "      <th>2011-11-30</th>\n",
       "      <td>3</td>\n",
       "      <td>3</td>\n",
       "      <td>3</td>\n",
       "      <td>3</td>\n",
       "      <td>3</td>\n",
       "    </tr>\n",
       "    <tr>\n",
       "      <th>2011-12-31</th>\n",
       "      <td>1</td>\n",
       "      <td>1</td>\n",
       "      <td>1</td>\n",
       "      <td>1</td>\n",
       "      <td>1</td>\n",
       "    </tr>\n",
       "    <tr>\n",
       "      <th>2012-01-31</th>\n",
       "      <td>1</td>\n",
       "      <td>1</td>\n",
       "      <td>1</td>\n",
       "      <td>1</td>\n",
       "      <td>1</td>\n",
       "    </tr>\n",
       "    <tr>\n",
       "      <th>2012-02-29</th>\n",
       "      <td>1</td>\n",
       "      <td>1</td>\n",
       "      <td>1</td>\n",
       "      <td>1</td>\n",
       "      <td>1</td>\n",
       "    </tr>\n",
       "    <tr>\n",
       "      <th>2012-03-31</th>\n",
       "      <td>2</td>\n",
       "      <td>2</td>\n",
       "      <td>2</td>\n",
       "      <td>2</td>\n",
       "      <td>2</td>\n",
       "    </tr>\n",
       "    <tr>\n",
       "      <th>2012-04-30</th>\n",
       "      <td>1</td>\n",
       "      <td>1</td>\n",
       "      <td>1</td>\n",
       "      <td>1</td>\n",
       "      <td>1</td>\n",
       "    </tr>\n",
       "    <tr>\n",
       "      <th>2012-05-31</th>\n",
       "      <td>1</td>\n",
       "      <td>1</td>\n",
       "      <td>1</td>\n",
       "      <td>1</td>\n",
       "      <td>1</td>\n",
       "    </tr>\n",
       "    <tr>\n",
       "      <th>2012-06-30</th>\n",
       "      <td>1</td>\n",
       "      <td>1</td>\n",
       "      <td>1</td>\n",
       "      <td>1</td>\n",
       "      <td>1</td>\n",
       "    </tr>\n",
       "    <tr>\n",
       "      <th>2012-07-31</th>\n",
       "      <td>1</td>\n",
       "      <td>1</td>\n",
       "      <td>1</td>\n",
       "      <td>1</td>\n",
       "      <td>1</td>\n",
       "    </tr>\n",
       "    <tr>\n",
       "      <th>2012-08-31</th>\n",
       "      <td>1</td>\n",
       "      <td>1</td>\n",
       "      <td>1</td>\n",
       "      <td>1</td>\n",
       "      <td>1</td>\n",
       "    </tr>\n",
       "    <tr>\n",
       "      <th>2012-09-30</th>\n",
       "      <td>1</td>\n",
       "      <td>1</td>\n",
       "      <td>1</td>\n",
       "      <td>1</td>\n",
       "      <td>1</td>\n",
       "    </tr>\n",
       "    <tr>\n",
       "      <th>2012-10-31</th>\n",
       "      <td>1</td>\n",
       "      <td>1</td>\n",
       "      <td>1</td>\n",
       "      <td>1</td>\n",
       "      <td>1</td>\n",
       "    </tr>\n",
       "    <tr>\n",
       "      <th>2012-11-30</th>\n",
       "      <td>1</td>\n",
       "      <td>1</td>\n",
       "      <td>1</td>\n",
       "      <td>1</td>\n",
       "      <td>1</td>\n",
       "    </tr>\n",
       "    <tr>\n",
       "      <th>2012-12-31</th>\n",
       "      <td>1</td>\n",
       "      <td>1</td>\n",
       "      <td>1</td>\n",
       "      <td>1</td>\n",
       "      <td>1</td>\n",
       "    </tr>\n",
       "    <tr>\n",
       "      <th>2013-01-31</th>\n",
       "      <td>1</td>\n",
       "      <td>1</td>\n",
       "      <td>1</td>\n",
       "      <td>1</td>\n",
       "      <td>1</td>\n",
       "    </tr>\n",
       "    <tr>\n",
       "      <th>2013-02-28</th>\n",
       "      <td>1</td>\n",
       "      <td>1</td>\n",
       "      <td>1</td>\n",
       "      <td>1</td>\n",
       "      <td>1</td>\n",
       "    </tr>\n",
       "    <tr>\n",
       "      <th>2013-03-31</th>\n",
       "      <td>1</td>\n",
       "      <td>1</td>\n",
       "      <td>1</td>\n",
       "      <td>1</td>\n",
       "      <td>1</td>\n",
       "    </tr>\n",
       "    <tr>\n",
       "      <th>2013-04-30</th>\n",
       "      <td>1</td>\n",
       "      <td>1</td>\n",
       "      <td>1</td>\n",
       "      <td>1</td>\n",
       "      <td>1</td>\n",
       "    </tr>\n",
       "  </tbody>\n",
       "</table>\n",
       "</div>"
      ],
      "text/plain": [
       "            title  labels  closed_at  user  id\n",
       "created_at                                    \n",
       "2010-09-30      1       1          1     1   1\n",
       "2010-10-31      1       1          1     1   1\n",
       "2010-11-30      1       1          1     1   1\n",
       "2010-12-31      1       1          1     1   1\n",
       "2011-01-31      1       1          1     1   1\n",
       "2011-02-28      1       1          1     1   1\n",
       "2011-03-31      1       1          1     1   1\n",
       "2011-04-30    NaN     NaN        NaN   NaN NaN\n",
       "2011-05-31      1       1          1     1   1\n",
       "2011-06-30      1       1          1     1   1\n",
       "2011-07-31      1       1          1     1   1\n",
       "2011-08-31      1       1          1     1   1\n",
       "2011-09-30      1       1          1     1   1\n",
       "2011-10-31      2       2          2     2   2\n",
       "2011-11-30      3       3          3     3   3\n",
       "2011-12-31      1       1          1     1   1\n",
       "2012-01-31      1       1          1     1   1\n",
       "2012-02-29      1       1          1     1   1\n",
       "2012-03-31      2       2          2     2   2\n",
       "2012-04-30      1       1          1     1   1\n",
       "2012-05-31      1       1          1     1   1\n",
       "2012-06-30      1       1          1     1   1\n",
       "2012-07-31      1       1          1     1   1\n",
       "2012-08-31      1       1          1     1   1\n",
       "2012-09-30      1       1          1     1   1\n",
       "2012-10-31      1       1          1     1   1\n",
       "2012-11-30      1       1          1     1   1\n",
       "2012-12-31      1       1          1     1   1\n",
       "2013-01-31      1       1          1     1   1\n",
       "2013-02-28      1       1          1     1   1\n",
       "2013-03-31      1       1          1     1   1\n",
       "2013-04-30      1       1          1     1   1"
      ]
     },
     "execution_count": 79,
     "metadata": {},
     "output_type": "execute_result"
    }
   ],
   "source": [
    "tmp2.resample('M', how='max')"
   ]
  },
  {
   "cell_type": "code",
   "execution_count": 78,
   "metadata": {
    "collapsed": false,
    "scrolled": true
   },
   "outputs": [],
   "source": [
    "tmp2 = df3.groupby('created_at').count()\n",
    "tmp3 = tmp2.resample('M', how='sum')\n"
   ]
  },
  {
   "cell_type": "code",
   "execution_count": 81,
   "metadata": {
    "collapsed": false
   },
   "outputs": [
    {
     "data": {
      "text/html": [
       "<div>\n",
       "<table border=\"1\" class=\"dataframe\">\n",
       "  <thead>\n",
       "    <tr style=\"text-align: right;\">\n",
       "      <th></th>\n",
       "      <th>title</th>\n",
       "      <th>labels</th>\n",
       "      <th>closed_at</th>\n",
       "      <th>user</th>\n",
       "      <th>id</th>\n",
       "    </tr>\n",
       "    <tr>\n",
       "      <th>created_at</th>\n",
       "      <th></th>\n",
       "      <th></th>\n",
       "      <th></th>\n",
       "      <th></th>\n",
       "      <th></th>\n",
       "    </tr>\n",
       "  </thead>\n",
       "  <tbody>\n",
       "    <tr>\n",
       "      <th>2010-09-30</th>\n",
       "      <td>11</td>\n",
       "      <td>11</td>\n",
       "      <td>11</td>\n",
       "      <td>11</td>\n",
       "      <td>11</td>\n",
       "    </tr>\n",
       "    <tr>\n",
       "      <th>2010-10-31</th>\n",
       "      <td>8</td>\n",
       "      <td>8</td>\n",
       "      <td>8</td>\n",
       "      <td>8</td>\n",
       "      <td>8</td>\n",
       "    </tr>\n",
       "    <tr>\n",
       "      <th>2010-11-30</th>\n",
       "      <td>2</td>\n",
       "      <td>2</td>\n",
       "      <td>2</td>\n",
       "      <td>2</td>\n",
       "      <td>2</td>\n",
       "    </tr>\n",
       "    <tr>\n",
       "      <th>2010-12-31</th>\n",
       "      <td>4</td>\n",
       "      <td>4</td>\n",
       "      <td>4</td>\n",
       "      <td>4</td>\n",
       "      <td>4</td>\n",
       "    </tr>\n",
       "    <tr>\n",
       "      <th>2011-01-31</th>\n",
       "      <td>9</td>\n",
       "      <td>9</td>\n",
       "      <td>9</td>\n",
       "      <td>9</td>\n",
       "      <td>9</td>\n",
       "    </tr>\n",
       "    <tr>\n",
       "      <th>2011-02-28</th>\n",
       "      <td>2</td>\n",
       "      <td>2</td>\n",
       "      <td>2</td>\n",
       "      <td>2</td>\n",
       "      <td>2</td>\n",
       "    </tr>\n",
       "    <tr>\n",
       "      <th>2011-03-31</th>\n",
       "      <td>2</td>\n",
       "      <td>2</td>\n",
       "      <td>2</td>\n",
       "      <td>2</td>\n",
       "      <td>2</td>\n",
       "    </tr>\n",
       "    <tr>\n",
       "      <th>2011-04-30</th>\n",
       "      <td>NaN</td>\n",
       "      <td>NaN</td>\n",
       "      <td>NaN</td>\n",
       "      <td>NaN</td>\n",
       "      <td>NaN</td>\n",
       "    </tr>\n",
       "    <tr>\n",
       "      <th>2011-05-31</th>\n",
       "      <td>7</td>\n",
       "      <td>7</td>\n",
       "      <td>7</td>\n",
       "      <td>7</td>\n",
       "      <td>7</td>\n",
       "    </tr>\n",
       "    <tr>\n",
       "      <th>2011-06-30</th>\n",
       "      <td>9</td>\n",
       "      <td>9</td>\n",
       "      <td>9</td>\n",
       "      <td>9</td>\n",
       "      <td>9</td>\n",
       "    </tr>\n",
       "    <tr>\n",
       "      <th>2011-07-31</th>\n",
       "      <td>30</td>\n",
       "      <td>30</td>\n",
       "      <td>30</td>\n",
       "      <td>30</td>\n",
       "      <td>30</td>\n",
       "    </tr>\n",
       "    <tr>\n",
       "      <th>2011-08-31</th>\n",
       "      <td>31</td>\n",
       "      <td>31</td>\n",
       "      <td>31</td>\n",
       "      <td>31</td>\n",
       "      <td>31</td>\n",
       "    </tr>\n",
       "    <tr>\n",
       "      <th>2011-09-30</th>\n",
       "      <td>66</td>\n",
       "      <td>66</td>\n",
       "      <td>66</td>\n",
       "      <td>66</td>\n",
       "      <td>66</td>\n",
       "    </tr>\n",
       "    <tr>\n",
       "      <th>2011-10-31</th>\n",
       "      <td>118</td>\n",
       "      <td>118</td>\n",
       "      <td>118</td>\n",
       "      <td>118</td>\n",
       "      <td>118</td>\n",
       "    </tr>\n",
       "    <tr>\n",
       "      <th>2011-11-30</th>\n",
       "      <td>110</td>\n",
       "      <td>110</td>\n",
       "      <td>110</td>\n",
       "      <td>110</td>\n",
       "      <td>110</td>\n",
       "    </tr>\n",
       "    <tr>\n",
       "      <th>2011-12-31</th>\n",
       "      <td>125</td>\n",
       "      <td>125</td>\n",
       "      <td>125</td>\n",
       "      <td>125</td>\n",
       "      <td>125</td>\n",
       "    </tr>\n",
       "    <tr>\n",
       "      <th>2012-01-31</th>\n",
       "      <td>154</td>\n",
       "      <td>154</td>\n",
       "      <td>154</td>\n",
       "      <td>154</td>\n",
       "      <td>154</td>\n",
       "    </tr>\n",
       "    <tr>\n",
       "      <th>2012-02-29</th>\n",
       "      <td>101</td>\n",
       "      <td>101</td>\n",
       "      <td>101</td>\n",
       "      <td>101</td>\n",
       "      <td>101</td>\n",
       "    </tr>\n",
       "    <tr>\n",
       "      <th>2012-03-31</th>\n",
       "      <td>126</td>\n",
       "      <td>126</td>\n",
       "      <td>126</td>\n",
       "      <td>126</td>\n",
       "      <td>126</td>\n",
       "    </tr>\n",
       "    <tr>\n",
       "      <th>2012-04-30</th>\n",
       "      <td>171</td>\n",
       "      <td>171</td>\n",
       "      <td>171</td>\n",
       "      <td>171</td>\n",
       "      <td>171</td>\n",
       "    </tr>\n",
       "    <tr>\n",
       "      <th>2012-05-31</th>\n",
       "      <td>179</td>\n",
       "      <td>179</td>\n",
       "      <td>179</td>\n",
       "      <td>179</td>\n",
       "      <td>179</td>\n",
       "    </tr>\n",
       "    <tr>\n",
       "      <th>2012-06-30</th>\n",
       "      <td>169</td>\n",
       "      <td>169</td>\n",
       "      <td>169</td>\n",
       "      <td>169</td>\n",
       "      <td>169</td>\n",
       "    </tr>\n",
       "    <tr>\n",
       "      <th>2012-07-31</th>\n",
       "      <td>141</td>\n",
       "      <td>141</td>\n",
       "      <td>141</td>\n",
       "      <td>141</td>\n",
       "      <td>141</td>\n",
       "    </tr>\n",
       "    <tr>\n",
       "      <th>2012-08-31</th>\n",
       "      <td>102</td>\n",
       "      <td>102</td>\n",
       "      <td>102</td>\n",
       "      <td>102</td>\n",
       "      <td>102</td>\n",
       "    </tr>\n",
       "    <tr>\n",
       "      <th>2012-09-30</th>\n",
       "      <td>139</td>\n",
       "      <td>139</td>\n",
       "      <td>139</td>\n",
       "      <td>139</td>\n",
       "      <td>139</td>\n",
       "    </tr>\n",
       "    <tr>\n",
       "      <th>2012-10-31</th>\n",
       "      <td>113</td>\n",
       "      <td>113</td>\n",
       "      <td>113</td>\n",
       "      <td>113</td>\n",
       "      <td>113</td>\n",
       "    </tr>\n",
       "    <tr>\n",
       "      <th>2012-11-30</th>\n",
       "      <td>216</td>\n",
       "      <td>216</td>\n",
       "      <td>216</td>\n",
       "      <td>216</td>\n",
       "      <td>216</td>\n",
       "    </tr>\n",
       "    <tr>\n",
       "      <th>2012-12-31</th>\n",
       "      <td>175</td>\n",
       "      <td>175</td>\n",
       "      <td>175</td>\n",
       "      <td>175</td>\n",
       "      <td>175</td>\n",
       "    </tr>\n",
       "    <tr>\n",
       "      <th>2013-01-31</th>\n",
       "      <td>130</td>\n",
       "      <td>130</td>\n",
       "      <td>130</td>\n",
       "      <td>130</td>\n",
       "      <td>130</td>\n",
       "    </tr>\n",
       "    <tr>\n",
       "      <th>2013-02-28</th>\n",
       "      <td>130</td>\n",
       "      <td>130</td>\n",
       "      <td>130</td>\n",
       "      <td>130</td>\n",
       "      <td>130</td>\n",
       "    </tr>\n",
       "    <tr>\n",
       "      <th>2013-03-31</th>\n",
       "      <td>212</td>\n",
       "      <td>212</td>\n",
       "      <td>212</td>\n",
       "      <td>212</td>\n",
       "      <td>212</td>\n",
       "    </tr>\n",
       "    <tr>\n",
       "      <th>2013-04-30</th>\n",
       "      <td>142</td>\n",
       "      <td>142</td>\n",
       "      <td>142</td>\n",
       "      <td>142</td>\n",
       "      <td>142</td>\n",
       "    </tr>\n",
       "  </tbody>\n",
       "</table>\n",
       "</div>"
      ],
      "text/plain": [
       "            title  labels  closed_at  user   id\n",
       "created_at                                     \n",
       "2010-09-30     11      11         11    11   11\n",
       "2010-10-31      8       8          8     8    8\n",
       "2010-11-30      2       2          2     2    2\n",
       "2010-12-31      4       4          4     4    4\n",
       "2011-01-31      9       9          9     9    9\n",
       "2011-02-28      2       2          2     2    2\n",
       "2011-03-31      2       2          2     2    2\n",
       "2011-04-30    NaN     NaN        NaN   NaN  NaN\n",
       "2011-05-31      7       7          7     7    7\n",
       "2011-06-30      9       9          9     9    9\n",
       "2011-07-31     30      30         30    30   30\n",
       "2011-08-31     31      31         31    31   31\n",
       "2011-09-30     66      66         66    66   66\n",
       "2011-10-31    118     118        118   118  118\n",
       "2011-11-30    110     110        110   110  110\n",
       "2011-12-31    125     125        125   125  125\n",
       "2012-01-31    154     154        154   154  154\n",
       "2012-02-29    101     101        101   101  101\n",
       "2012-03-31    126     126        126   126  126\n",
       "2012-04-30    171     171        171   171  171\n",
       "2012-05-31    179     179        179   179  179\n",
       "2012-06-30    169     169        169   169  169\n",
       "2012-07-31    141     141        141   141  141\n",
       "2012-08-31    102     102        102   102  102\n",
       "2012-09-30    139     139        139   139  139\n",
       "2012-10-31    113     113        113   113  113\n",
       "2012-11-30    216     216        216   216  216\n",
       "2012-12-31    175     175        175   175  175\n",
       "2013-01-31    130     130        130   130  130\n",
       "2013-02-28    130     130        130   130  130\n",
       "2013-03-31    212     212        212   212  212\n",
       "2013-04-30    142     142        142   142  142"
      ]
     },
     "execution_count": 81,
     "metadata": {},
     "output_type": "execute_result"
    }
   ],
   "source": [
    "tmp3"
   ]
  },
  {
   "cell_type": "code",
   "execution_count": null,
   "metadata": {
    "collapsed": false
   },
   "outputs": [],
   "source": [
    "plt.plot(tmp3)\n",
    "plt.title('Number of issues created by month')\n",
    "plt.xlabel('Time (Month)')\n",
    "plt.ylabel('No. of Issues')\n"
   ]
  },
  {
   "cell_type": "code",
   "execution_count": null,
   "metadata": {
    "collapsed": true
   },
   "outputs": [],
   "source": [
    "# Creating own aggregation function to count distincy users\n",
    "def distinct_users(x):\n",
    "    return \n",
    "df3.resample('M', how=distinct_users)"
   ]
  },
  {
   "cell_type": "code",
   "execution_count": null,
   "metadata": {
    "collapsed": false
   },
   "outputs": [],
   "source": [
    "type(df3)"
   ]
  },
  {
   "cell_type": "code",
   "execution_count": null,
   "metadata": {
    "collapsed": false
   },
   "outputs": [],
   "source": [
    "tt = df3.groupby(['created_at', 'user']).count()\n",
    "#tt1 = tt.groupby()\n",
    "print(tt)"
   ]
  },
  {
   "cell_type": "code",
   "execution_count": null,
   "metadata": {
    "collapsed": false
   },
   "outputs": [],
   "source": [
    "tmp4 = df3.groupby('created_at').count()\n",
    "tmp5 = (df3.groupby(['user'])).nunique()\n",
    "tmp56 = tmp5.resample('M', how='sum')"
   ]
  },
  {
   "cell_type": "code",
   "execution_count": null,
   "metadata": {
    "collapsed": true
   },
   "outputs": [],
   "source": []
  }
 ],
 "metadata": {
  "kernelspec": {
   "display_name": "Python 3",
   "language": "python",
   "name": "python3"
  },
  "language_info": {
   "codemirror_mode": {
    "name": "ipython",
    "version": 3
   },
   "file_extension": ".py",
   "mimetype": "text/x-python",
   "name": "python",
   "nbconvert_exporter": "python",
   "pygments_lexer": "ipython3",
   "version": "3.5.1"
  }
 },
 "nbformat": 4,
 "nbformat_minor": 0
}
