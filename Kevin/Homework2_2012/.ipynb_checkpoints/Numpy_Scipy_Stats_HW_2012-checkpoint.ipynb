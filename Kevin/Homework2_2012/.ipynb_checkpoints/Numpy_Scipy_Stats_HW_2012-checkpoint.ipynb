{
 "cells": [
  {
   "cell_type": "markdown",
   "metadata": {},
   "source": [
    "Rejection Sampling\n",
    "Rejection sampling is a basic Monte Carlo technique to generate observations from a specified\n",
    "distribution with probability density function (pdf) f(x). In practice, it is used to\n",
    "draw random variables from a target distribution, f(x), when directly sampling from that\n",
    "distribution is difficult. The basic idea is to instead sample from a reference distribution,\n",
    "g(x), which a) is easy to draw from and b) satisfies the condition that g(x) > 0 whenever\n",
    "f(x) > 0, and to then selectively accept samples such that sampling from f is achieved.\n",
    "The basic rejection sampling algorithm is the following:"
   ]
  },
  {
   "cell_type": "markdown",
   "metadata": {},
   "source": [
    "Begin with a reference distribution, g and a scalar M such that f(x) < Mg(x) for all\n",
    "x.\n",
    "• Until a specified number of samples is achieved:\n",
    "1. Sample a candidate, xc, from g(x) and a value u from a uniform distribution over\n",
    "[0, 1] (Hint: See scipy.stats.uniform)\n",
    "2. if u < f(x_c)\n",
    "M g(x_c)\n",
    "then accept xc as a sample from f(x), else reject xc."
   ]
  },
  {
   "cell_type": "markdown",
   "metadata": {},
   "source": [
    "# Part a"
   ]
  },
  {
   "cell_type": "code",
   "execution_count": 2,
   "metadata": {
    "collapsed": true
   },
   "outputs": [],
   "source": [
    "import numpy as np\n",
    "import scipy.stats\n",
    "from scipy.stats import norm\n",
    "import matplotlib\n",
    "import matplotlib.pyplot as plt\n",
    "import math"
   ]
  },
  {
   "cell_type": "code",
   "execution_count": 17,
   "metadata": {
    "collapsed": false
   },
   "outputs": [
    {
     "data": {
      "text/plain": [
       "-0.10396372109857019"
      ]
     },
     "execution_count": 17,
     "metadata": {},
     "output_type": "execute_result"
    }
   ],
   "source": [
    "norm.rvs()"
   ]
  },
  {
   "cell_type": "code",
   "execution_count": 21,
   "metadata": {
    "collapsed": false
   },
   "outputs": [
    {
     "data": {
      "text/plain": [
       "-1.6838231466346709"
      ]
     },
     "execution_count": 21,
     "metadata": {},
     "output_type": "execute_result"
    }
   ],
   "source": [
    "norm.rvs(size = 3)[0]"
   ]
  },
  {
   "cell_type": "code",
   "execution_count": 59,
   "metadata": {
    "collapsed": false
   },
   "outputs": [
    {
     "name": "stdout",
     "output_type": "stream",
     "text": [
      "samples: \n",
      " [0.10120609488256978, 1.8051121923811371, 2.5201782310743286, 1.0649172611738409, 1.9355214765192972, 1.1341238674436556, 1.8458376590971355, 0.53333013364278903, 1.1071856006072591, 0.60623429953501884, 2.1647044047422686, 1.3225165026987613, 1.0154520263907036, 0.81495928394871886, 0.9890031041051548, 2.3019075581188835, 1.5269606266067264, 0.29040155017586022, 1.6802875000749284, 1.3925092181100676] \n",
      " m =  2 \n",
      " % accepted 18.181818181818183 %\n"
     ]
    },
    {
     "data": {
      "text/plain": [
       "[0.10120609488256978,\n",
       " 1.8051121923811371,\n",
       " 2.5201782310743286,\n",
       " 1.0649172611738409,\n",
       " 1.9355214765192972,\n",
       " 1.1341238674436556,\n",
       " 1.8458376590971355,\n",
       " 0.53333013364278903,\n",
       " 1.1071856006072591,\n",
       " 0.60623429953501884,\n",
       " 2.1647044047422686,\n",
       " 1.3225165026987613,\n",
       " 1.0154520263907036,\n",
       " 0.81495928394871886,\n",
       " 0.9890031041051548,\n",
       " 2.3019075581188835,\n",
       " 1.5269606266067264,\n",
       " 0.29040155017586022,\n",
       " 1.6802875000749284,\n",
       " 1.3925092181100676]"
      ]
     },
     "execution_count": 59,
     "metadata": {},
     "output_type": "execute_result"
    }
   ],
   "source": [
    "#############################################################\n",
    "###--------------- Target Distribution -------------------###\n",
    "#############################################################\n",
    "\n",
    "def target_func(x):\n",
    "    '''\n",
    "    Input: scalar\n",
    "    Description: a sample target function\n",
    "    '''\n",
    "    return(x/5)\n",
    "\n",
    "def oneD_rej_sample(target_dist, ref_dist, sample_size, m):\n",
    "    '''\n",
    "    Input: \n",
    "        target_dist - target distribution\n",
    "        ref_dist - reference distribution\n",
    "        sample_size - desired sample size\n",
    "        m - scalar m such that f(x) < m g(x)\n",
    "    Output: a list of samples, prints the value of m, and the percentage of samples that were accepted\n",
    "    Description:\n",
    "    '''\n",
    "    samples = []      # Initializing samples\n",
    "    rejects = []      # Initializing rejected samples\n",
    "    \n",
    "    ref = ref_dist\n",
    "    tar = target_dist\n",
    "    n = sample_size\n",
    "    \n",
    "    while len(samples) < n:\n",
    "        x = ref.rvs(size = 1)[0]\n",
    "        u = scipy.stats.uniform.rvs(size=1)[0]\n",
    "        #------- Rejection Sampling Step --------#\n",
    "        if u < (tar(x)/float(m*ref.pdf(x))): \n",
    "            samples.append(x)\n",
    "        else:\n",
    "            rejects.append(x)\n",
    "        \n",
    "        perc = 100*(len(samples)/(len(samples) + len(rejects)))\n",
    "        \n",
    "    print(\"samples: \\n\", samples, \"\\n\", \"m = \", m, \"\\n\", \"% accepted\", perc, \"%\")\n",
    "    return(samples)\n",
    "    \n",
    "oneD_rej_sample(target_func, scipy.stats.norm(0,1), 20, 2)\n",
    "    "
   ]
  },
  {
   "cell_type": "code",
   "execution_count": 60,
   "metadata": {
    "collapsed": false
   },
   "outputs": [
    {
     "data": {
      "text/plain": [
       "-1.4242811012593402"
      ]
     },
     "execution_count": 60,
     "metadata": {},
     "output_type": "execute_result"
    }
   ],
   "source": [
    "scipy.stats.norm(0,1).rvs()"
   ]
  },
  {
   "cell_type": "code",
   "execution_count": 54,
   "metadata": {
    "collapsed": false
   },
   "outputs": [],
   "source": [
    "scipy.stats.norm?"
   ]
  },
  {
   "cell_type": "code",
   "execution_count": null,
   "metadata": {
    "collapsed": true
   },
   "outputs": [],
   "source": []
  }
 ],
 "metadata": {
  "kernelspec": {
   "display_name": "Python 3",
   "language": "python",
   "name": "python3"
  },
  "language_info": {
   "codemirror_mode": {
    "name": "ipython",
    "version": 3
   },
   "file_extension": ".py",
   "mimetype": "text/x-python",
   "name": "python",
   "nbconvert_exporter": "python",
   "pygments_lexer": "ipython3",
   "version": "3.5.1"
  }
 },
 "nbformat": 4,
 "nbformat_minor": 0
}
