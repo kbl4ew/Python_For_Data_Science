{
 "cells": [
  {
   "cell_type": "code",
   "execution_count": null,
   "metadata": {
    "collapsed": true
   },
   "outputs": [],
   "source": [
    "# @param x, a float\n",
    "# @param n, a integer\n",
    "# @return a float\n",
    "def pow(x, n):\n",
    "    if x==0 or x==1 or n==1:\n",
    "        return x # We have the problem of 0^0 (that is not \n",
    "                 # well-defined), we choose to return 0\n",
    "    if x==-1:\n",
    "        if n%2 ==0:\n",
    "            return 1\n",
    "        else:\n",
    "            return -1\n",
    "    if n==0:\n",
    "        return 1\n",
    "    if n<0:\n",
    "        return 1/pow(x,-n)\n",
    "    val = pow(x,n//2)\n",
    "    if n%2 ==0:\n",
    "        return val*val\n",
    "    return val*val*x"
   ]
  }
 ],
 "metadata": {
  "kernelspec": {
   "display_name": "Python 3",
   "language": "python",
   "name": "python3"
  },
  "language_info": {
   "codemirror_mode": {
    "name": "ipython",
    "version": 3
   },
   "file_extension": ".py",
   "mimetype": "text/x-python",
   "name": "python",
   "nbconvert_exporter": "python",
   "pygments_lexer": "ipython3",
   "version": "3.5.1"
  }
 },
 "nbformat": 4,
 "nbformat_minor": 0
}
