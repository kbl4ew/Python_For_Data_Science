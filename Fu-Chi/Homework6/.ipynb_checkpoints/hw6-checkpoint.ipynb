{
 "cells": [
  {
   "cell_type": "code",
   "execution_count": 12,
   "metadata": {
    "collapsed": true
   },
   "outputs": [],
   "source": [
    "import sqlite3\n",
    "import pandas as pd\n",
    "#from numpy import loadtxt"
   ]
  },
  {
   "cell_type": "code",
   "execution_count": null,
   "metadata": {
    "collapsed": true
   },
   "outputs": [],
   "source": [
    "##### ==================== Task 1 ====================== ######"
   ]
  },
  {
   "cell_type": "code",
   "execution_count": 5,
   "metadata": {
    "collapsed": false
   },
   "outputs": [
    {
     "data": {
      "text/plain": [
       "'/Users/farahshih/Documents/Codes/Python_For_Data_Science/Fu-Chi/Homework6'"
      ]
     },
     "execution_count": 5,
     "metadata": {},
     "output_type": "execute_result"
    }
   ],
   "source": [
    "pwd"
   ]
  },
  {
   "cell_type": "code",
   "execution_count": 6,
   "metadata": {
    "collapsed": false
   },
   "outputs": [
    {
     "name": "stdout",
     "output_type": "stream",
     "text": [
      "\u001b[31mICAO_airports.csv\u001b[m\u001b[m*   \u001b[31mhw_6-databasing.pdf\u001b[m\u001b[m*\r\n",
      "Untitled.ipynb       \u001b[31mtop_airports.csv\u001b[m\u001b[m*\r\n"
     ]
    }
   ],
   "source": [
    "ls"
   ]
  },
  {
   "cell_type": "code",
   "execution_count": 9,
   "metadata": {
    "collapsed": false
   },
   "outputs": [
    {
     "name": "stdout",
     "output_type": "stream",
     "text": [
      "City,FAA,IATA,ICAO,Airport,Role,Enplanements\r\n",
      "Atlanta,ATL,ATL,KATL,Hartsfield-Jackson Atlanta International Airport,P-L,43130585\r\n",
      "Chicago,ORD,ORD,KORD,Chicago O'Hare International Airport,P-L,32171831\r\n",
      "Los Angeles,LAX,LAX,KLAX,Los Angeles International Airport,P-L,30528737\r\n",
      "Dallas-Fort Worth,DFW,DFW,KDFW,Dallas/Fort Worth International Airport,P-L,27100656\r\n",
      "Denver,DEN,DEN,KDEN,Denver International Airport,P-L,25241962\r\n",
      "New York,JFK,JFK,KJFK,John F. Kennedy International Airport,P-L,22934047\r\n",
      "San Francisco,SFO,SFO,KSFO,San Francisco International Airport,P-L,20038679\r\n",
      "Houston,IAH,IAH,KIAH,George Bush Intercontinental Airport,P-L,19528631\r\n",
      "Las Vegas,LAS,LAS,KLAS,McCarran International Airport,P-L,18996738\r\n"
     ]
    }
   ],
   "source": [
    "!head top_airports.csv"
   ]
  },
  {
   "cell_type": "code",
   "execution_count": 7,
   "metadata": {
    "collapsed": false
   },
   "outputs": [
    {
     "name": "stdout",
     "output_type": "stream",
     "text": [
      "\"id\",\"ident\",\"type\",\"name\",\"latitude_deg\",\"longitude_deg\",\"elevation_ft\",\"continent\",\"iso_country\",\"iso_region\",\"municipality\",\"scheduled_service\",\"gps_code\",\"iata_code\",\"local_code\",\"home_link\",\"wikipedia_link\",\"keywords\"\r\n",
      "6523,\"00A\",\"heliport\",\"Total Rf Heliport\",40.07080078125,-74.9336013793945,11,\"NA\",\"US\",\"US-PA\",\"Bensalem\",\"no\",\"00A\",,\"00A\",,,\r\n",
      "6524,\"00AK\",\"small_airport\",\"Lowell Field\",59.94919968,-151.695999146,450,\"NA\",\"US\",\"US-AK\",\"Anchor Point\",\"no\",\"00AK\",,\"00AK\",,,\r\n",
      "6525,\"00AL\",\"small_airport\",\"Epps Airpark\",34.8647994995117,-86.7703018188477,820,\"NA\",\"US\",\"US-AL\",\"Harvest\",\"no\",\"00AL\",,\"00AL\",,,\r\n",
      "6526,\"00AR\",\"heliport\",\"Newport Hospital & Clinic Heliport\",35.608699798584,-91.2548980712891,237,\"NA\",\"US\",\"US-AR\",\"Newport\",\"no\",\"00AR\",,\"00AR\",,,\r\n",
      "6527,\"00AZ\",\"small_airport\",\"Cordes Airport\",34.3055992126465,-112.165000915527,3810,\"NA\",\"US\",\"US-AZ\",\"Cordes\",\"no\",\"00AZ\",,\"00AZ\",,,\r\n",
      "6528,\"00CA\",\"small_airport\",\"Goldstone /Gts/ Airport\",35.3504981995,-116.888000488,3038,\"NA\",\"US\",\"US-CA\",\"Barstow\",\"no\",\"00CA\",,\"00CA\",,,\r\n",
      "6529,\"00CO\",\"small_airport\",\"Cass Field\",40.622200012207,-104.34400177002,4830,\"NA\",\"US\",\"US-CO\",\"Briggsdale\",\"no\",\"00CO\",,\"00CO\",,,\r\n",
      "6531,\"00FA\",\"small_airport\",\"Grass Patch Airport\",28.6455001831055,-82.2190017700195,53,\"NA\",\"US\",\"US-FL\",\"Bushnell\",\"no\",\"00FA\",,\"00FA\",,,\r\n",
      "6532,\"00FD\",\"heliport\",\"Ringhaver Heliport\",28.8465995788574,-82.3453979492188,25,\"NA\",\"US\",\"US-FL\",\"Riverview\",\"no\",\"00FD\",,\"00FD\",,,\r\n"
     ]
    }
   ],
   "source": [
    "!head ICAO_airports.csv"
   ]
  },
  {
   "cell_type": "code",
   "execution_count": 20,
   "metadata": {
    "collapsed": false
   },
   "outputs": [],
   "source": [
    "top_airports = pd.read_csv(\"top_airports.csv\")\n",
    "ICAO_airports = pd.read_csv(\"ICAO_airports.csv\")"
   ]
  },
  {
   "cell_type": "code",
   "execution_count": 18,
   "metadata": {
    "collapsed": false
   },
   "outputs": [
    {
     "data": {
      "text/html": [
       "<div>\n",
       "<table border=\"1\" class=\"dataframe\">\n",
       "  <thead>\n",
       "    <tr style=\"text-align: right;\">\n",
       "      <th></th>\n",
       "      <th>City</th>\n",
       "      <th>FAA</th>\n",
       "      <th>IATA</th>\n",
       "      <th>ICAO</th>\n",
       "      <th>Airport</th>\n",
       "      <th>Role</th>\n",
       "      <th>Enplanements</th>\n",
       "    </tr>\n",
       "  </thead>\n",
       "  <tbody>\n",
       "    <tr>\n",
       "      <th>0</th>\n",
       "      <td>Atlanta</td>\n",
       "      <td>ATL</td>\n",
       "      <td>ATL</td>\n",
       "      <td>KATL</td>\n",
       "      <td>Hartsfield-Jackson Atlanta International Airport</td>\n",
       "      <td>P-L</td>\n",
       "      <td>43130585</td>\n",
       "    </tr>\n",
       "    <tr>\n",
       "      <th>1</th>\n",
       "      <td>Chicago</td>\n",
       "      <td>ORD</td>\n",
       "      <td>ORD</td>\n",
       "      <td>KORD</td>\n",
       "      <td>Chicago O'Hare International Airport</td>\n",
       "      <td>P-L</td>\n",
       "      <td>32171831</td>\n",
       "    </tr>\n",
       "    <tr>\n",
       "      <th>2</th>\n",
       "      <td>Los Angeles</td>\n",
       "      <td>LAX</td>\n",
       "      <td>LAX</td>\n",
       "      <td>KLAX</td>\n",
       "      <td>Los Angeles International Airport</td>\n",
       "      <td>P-L</td>\n",
       "      <td>30528737</td>\n",
       "    </tr>\n",
       "    <tr>\n",
       "      <th>3</th>\n",
       "      <td>Dallas-Fort Worth</td>\n",
       "      <td>DFW</td>\n",
       "      <td>DFW</td>\n",
       "      <td>KDFW</td>\n",
       "      <td>Dallas/Fort Worth International Airport</td>\n",
       "      <td>P-L</td>\n",
       "      <td>27100656</td>\n",
       "    </tr>\n",
       "    <tr>\n",
       "      <th>4</th>\n",
       "      <td>Denver</td>\n",
       "      <td>DEN</td>\n",
       "      <td>DEN</td>\n",
       "      <td>KDEN</td>\n",
       "      <td>Denver International Airport</td>\n",
       "      <td>P-L</td>\n",
       "      <td>25241962</td>\n",
       "    </tr>\n",
       "    <tr>\n",
       "      <th>5</th>\n",
       "      <td>New York</td>\n",
       "      <td>JFK</td>\n",
       "      <td>JFK</td>\n",
       "      <td>KJFK</td>\n",
       "      <td>John F. Kennedy International Airport</td>\n",
       "      <td>P-L</td>\n",
       "      <td>22934047</td>\n",
       "    </tr>\n",
       "  </tbody>\n",
       "</table>\n",
       "</div>"
      ],
      "text/plain": [
       "                City  FAA IATA  ICAO  \\\n",
       "0            Atlanta  ATL  ATL  KATL   \n",
       "1            Chicago  ORD  ORD  KORD   \n",
       "2        Los Angeles  LAX  LAX  KLAX   \n",
       "3  Dallas-Fort Worth  DFW  DFW  KDFW   \n",
       "4             Denver  DEN  DEN  KDEN   \n",
       "5           New York  JFK  JFK  KJFK   \n",
       "\n",
       "                                            Airport Role  Enplanements  \n",
       "0  Hartsfield-Jackson Atlanta International Airport  P-L      43130585  \n",
       "1              Chicago O'Hare International Airport  P-L      32171831  \n",
       "2                 Los Angeles International Airport  P-L      30528737  \n",
       "3           Dallas/Fort Worth International Airport  P-L      27100656  \n",
       "4                      Denver International Airport  P-L      25241962  \n",
       "5             John F. Kennedy International Airport  P-L      22934047  "
      ]
     },
     "execution_count": 18,
     "metadata": {},
     "output_type": "execute_result"
    }
   ],
   "source": [
    "top_airports.head(6)"
   ]
  },
  {
   "cell_type": "code",
   "execution_count": 21,
   "metadata": {
    "collapsed": false
   },
   "outputs": [
    {
     "data": {
      "text/html": [
       "<div>\n",
       "<table border=\"1\" class=\"dataframe\">\n",
       "  <thead>\n",
       "    <tr style=\"text-align: right;\">\n",
       "      <th></th>\n",
       "      <th>id</th>\n",
       "      <th>ident</th>\n",
       "      <th>type</th>\n",
       "      <th>name</th>\n",
       "      <th>latitude_deg</th>\n",
       "      <th>longitude_deg</th>\n",
       "      <th>elevation_ft</th>\n",
       "      <th>continent</th>\n",
       "      <th>iso_country</th>\n",
       "      <th>iso_region</th>\n",
       "      <th>municipality</th>\n",
       "      <th>scheduled_service</th>\n",
       "      <th>gps_code</th>\n",
       "      <th>iata_code</th>\n",
       "      <th>local_code</th>\n",
       "      <th>home_link</th>\n",
       "      <th>wikipedia_link</th>\n",
       "      <th>keywords</th>\n",
       "    </tr>\n",
       "  </thead>\n",
       "  <tbody>\n",
       "    <tr>\n",
       "      <th>0</th>\n",
       "      <td>6523</td>\n",
       "      <td>00A</td>\n",
       "      <td>heliport</td>\n",
       "      <td>Total Rf Heliport</td>\n",
       "      <td>40.070801</td>\n",
       "      <td>-74.933601</td>\n",
       "      <td>11.0</td>\n",
       "      <td>NaN</td>\n",
       "      <td>US</td>\n",
       "      <td>US-PA</td>\n",
       "      <td>Bensalem</td>\n",
       "      <td>no</td>\n",
       "      <td>00A</td>\n",
       "      <td>NaN</td>\n",
       "      <td>00A</td>\n",
       "      <td>NaN</td>\n",
       "      <td>NaN</td>\n",
       "      <td>NaN</td>\n",
       "    </tr>\n",
       "    <tr>\n",
       "      <th>1</th>\n",
       "      <td>6524</td>\n",
       "      <td>00AK</td>\n",
       "      <td>small_airport</td>\n",
       "      <td>Lowell Field</td>\n",
       "      <td>59.949200</td>\n",
       "      <td>-151.695999</td>\n",
       "      <td>450.0</td>\n",
       "      <td>NaN</td>\n",
       "      <td>US</td>\n",
       "      <td>US-AK</td>\n",
       "      <td>Anchor Point</td>\n",
       "      <td>no</td>\n",
       "      <td>00AK</td>\n",
       "      <td>NaN</td>\n",
       "      <td>00AK</td>\n",
       "      <td>NaN</td>\n",
       "      <td>NaN</td>\n",
       "      <td>NaN</td>\n",
       "    </tr>\n",
       "    <tr>\n",
       "      <th>2</th>\n",
       "      <td>6525</td>\n",
       "      <td>00AL</td>\n",
       "      <td>small_airport</td>\n",
       "      <td>Epps Airpark</td>\n",
       "      <td>34.864799</td>\n",
       "      <td>-86.770302</td>\n",
       "      <td>820.0</td>\n",
       "      <td>NaN</td>\n",
       "      <td>US</td>\n",
       "      <td>US-AL</td>\n",
       "      <td>Harvest</td>\n",
       "      <td>no</td>\n",
       "      <td>00AL</td>\n",
       "      <td>NaN</td>\n",
       "      <td>00AL</td>\n",
       "      <td>NaN</td>\n",
       "      <td>NaN</td>\n",
       "      <td>NaN</td>\n",
       "    </tr>\n",
       "    <tr>\n",
       "      <th>3</th>\n",
       "      <td>6526</td>\n",
       "      <td>00AR</td>\n",
       "      <td>heliport</td>\n",
       "      <td>Newport Hospital &amp; Clinic Heliport</td>\n",
       "      <td>35.608700</td>\n",
       "      <td>-91.254898</td>\n",
       "      <td>237.0</td>\n",
       "      <td>NaN</td>\n",
       "      <td>US</td>\n",
       "      <td>US-AR</td>\n",
       "      <td>Newport</td>\n",
       "      <td>no</td>\n",
       "      <td>00AR</td>\n",
       "      <td>NaN</td>\n",
       "      <td>00AR</td>\n",
       "      <td>NaN</td>\n",
       "      <td>NaN</td>\n",
       "      <td>NaN</td>\n",
       "    </tr>\n",
       "    <tr>\n",
       "      <th>4</th>\n",
       "      <td>6527</td>\n",
       "      <td>00AZ</td>\n",
       "      <td>small_airport</td>\n",
       "      <td>Cordes Airport</td>\n",
       "      <td>34.305599</td>\n",
       "      <td>-112.165001</td>\n",
       "      <td>3810.0</td>\n",
       "      <td>NaN</td>\n",
       "      <td>US</td>\n",
       "      <td>US-AZ</td>\n",
       "      <td>Cordes</td>\n",
       "      <td>no</td>\n",
       "      <td>00AZ</td>\n",
       "      <td>NaN</td>\n",
       "      <td>00AZ</td>\n",
       "      <td>NaN</td>\n",
       "      <td>NaN</td>\n",
       "      <td>NaN</td>\n",
       "    </tr>\n",
       "    <tr>\n",
       "      <th>5</th>\n",
       "      <td>6528</td>\n",
       "      <td>00CA</td>\n",
       "      <td>small_airport</td>\n",
       "      <td>Goldstone /Gts/ Airport</td>\n",
       "      <td>35.350498</td>\n",
       "      <td>-116.888000</td>\n",
       "      <td>3038.0</td>\n",
       "      <td>NaN</td>\n",
       "      <td>US</td>\n",
       "      <td>US-CA</td>\n",
       "      <td>Barstow</td>\n",
       "      <td>no</td>\n",
       "      <td>00CA</td>\n",
       "      <td>NaN</td>\n",
       "      <td>00CA</td>\n",
       "      <td>NaN</td>\n",
       "      <td>NaN</td>\n",
       "      <td>NaN</td>\n",
       "    </tr>\n",
       "  </tbody>\n",
       "</table>\n",
       "</div>"
      ],
      "text/plain": [
       "     id ident           type                                name  \\\n",
       "0  6523   00A       heliport                   Total Rf Heliport   \n",
       "1  6524  00AK  small_airport                        Lowell Field   \n",
       "2  6525  00AL  small_airport                        Epps Airpark   \n",
       "3  6526  00AR       heliport  Newport Hospital & Clinic Heliport   \n",
       "4  6527  00AZ  small_airport                      Cordes Airport   \n",
       "5  6528  00CA  small_airport             Goldstone /Gts/ Airport   \n",
       "\n",
       "   latitude_deg  longitude_deg  elevation_ft continent iso_country iso_region  \\\n",
       "0     40.070801     -74.933601          11.0       NaN          US      US-PA   \n",
       "1     59.949200    -151.695999         450.0       NaN          US      US-AK   \n",
       "2     34.864799     -86.770302         820.0       NaN          US      US-AL   \n",
       "3     35.608700     -91.254898         237.0       NaN          US      US-AR   \n",
       "4     34.305599    -112.165001        3810.0       NaN          US      US-AZ   \n",
       "5     35.350498    -116.888000        3038.0       NaN          US      US-CA   \n",
       "\n",
       "   municipality scheduled_service gps_code iata_code local_code home_link  \\\n",
       "0      Bensalem                no      00A       NaN        00A       NaN   \n",
       "1  Anchor Point                no     00AK       NaN       00AK       NaN   \n",
       "2       Harvest                no     00AL       NaN       00AL       NaN   \n",
       "3       Newport                no     00AR       NaN       00AR       NaN   \n",
       "4        Cordes                no     00AZ       NaN       00AZ       NaN   \n",
       "5       Barstow                no     00CA       NaN       00CA       NaN   \n",
       "\n",
       "  wikipedia_link keywords  \n",
       "0            NaN      NaN  \n",
       "1            NaN      NaN  \n",
       "2            NaN      NaN  \n",
       "3            NaN      NaN  \n",
       "4            NaN      NaN  \n",
       "5            NaN      NaN  "
      ]
     },
     "execution_count": 21,
     "metadata": {},
     "output_type": "execute_result"
    }
   ],
   "source": [
    "ICAO_airports.head(6)"
   ]
  },
  {
   "cell_type": "code",
   "execution_count": 26,
   "metadata": {
    "collapsed": false
   },
   "outputs": [],
   "source": [
    "top_airports.to_sql?"
   ]
  },
  {
   "cell_type": "code",
   "execution_count": 24,
   "metadata": {
    "collapsed": false
   },
   "outputs": [
    {
     "data": {
      "text/plain": [
       "<sqlite3.Cursor at 0x114959030>"
      ]
     },
     "execution_count": 24,
     "metadata": {},
     "output_type": "execute_result"
    }
   ],
   "source": [
    "connection = sqlite3.connect(\"weather.db\")\n",
    "cursor = connection.cursor()\n",
    "cursor.execute('''DROP TABLE IF EXISTS TOPairports''')\n",
    "sql_cmd = \"\"\"CREATE TABLE TOPairports (City TEXT, FAA TEXT, IATA TEXT, ICAO TEXT, Airport TEXT, Role TEXT, Enplanements INT)\"\"\"\n",
    "cursor.execute(sql_cmd)"
   ]
  },
  {
   "cell_type": "code",
   "execution_count": 29,
   "metadata": {
    "collapsed": false
   },
   "outputs": [],
   "source": [
    "## read data into sqlite db\n",
    "top_airports.to_sql(\"TOPairports\", connection, if_exists='append', index=False)"
   ]
  }
 ],
 "metadata": {
  "kernelspec": {
   "display_name": "Python 3",
   "language": "python",
   "name": "python3"
  },
  "language_info": {
   "codemirror_mode": {
    "name": "ipython",
    "version": 3
   },
   "file_extension": ".py",
   "mimetype": "text/x-python",
   "name": "python",
   "nbconvert_exporter": "python",
   "pygments_lexer": "ipython3",
   "version": "3.5.1"
  }
 },
 "nbformat": 4,
 "nbformat_minor": 0
}
