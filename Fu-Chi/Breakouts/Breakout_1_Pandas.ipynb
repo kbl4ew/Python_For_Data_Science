{
 "cells": [
  {
   "cell_type": "markdown",
   "metadata": {},
   "source": [
    "Breakout session: SF Home sales\n",
    "Get the data (SFShousing.csv):\n",
    "http://bit.ly/16e8TfA\n",
    "Hints: frequency for resampling 'M' : Monthly\n",
    "how=['mean', 'count']"
   ]
  },
  {
   "cell_type": "markdown",
   "metadata": {},
   "source": [
    "1. Read this data into a pandas dataframe. Convert the dates into the index and the dollar amounts of homesale prices (\"Sale_Amount\") into float values.\n",
    "2. What were the total number of sales per month?\n",
    "3. What was the average, min and max housing price per month?\n",
    "4. (bonus) What was the average housing price for all houses sold over $100,000?"
   ]
  },
  {
   "cell_type": "code",
   "execution_count": 1,
   "metadata": {
    "collapsed": false
   },
   "outputs": [],
   "source": [
    "import pandas as pd\n",
    "import matplotlib.pyplot as plt"
   ]
  },
  {
   "cell_type": "code",
   "execution_count": 2,
   "metadata": {
    "collapsed": false
   },
   "outputs": [
    {
     "name": "stdout",
     "output_type": "stream",
     "text": [
      "Populating the interactive namespace from numpy and matplotlib\n"
     ]
    }
   ],
   "source": [
    "%pylab inline"
   ]
  },
  {
   "cell_type": "code",
   "execution_count": 3,
   "metadata": {
    "collapsed": false
   },
   "outputs": [
    {
     "name": "stdout",
     "output_type": "stream",
     "text": [
      "Breakout_1_Pandas.ipynb\n",
      "SFHousing.csv\n"
     ]
    }
   ],
   "source": [
    "!ls"
   ]
  },
  {
   "cell_type": "code",
   "execution_count": 4,
   "metadata": {
    "collapsed": true
   },
   "outputs": [],
   "source": [
    "### ----------------- Task 1 -------------------- ###\n",
    "# Read this data into a pandas dataframe. Convert the dates into the index and the dollar amounts of homesale prices \n",
    "# (\"Sale_Amount\") into float values."
   ]
  },
  {
   "cell_type": "code",
   "execution_count": 5,
   "metadata": {
    "collapsed": true
   },
   "outputs": [],
   "source": [
    "SFH = pd.read_csv(\"SFHousing.csv\")"
   ]
  },
  {
   "cell_type": "code",
   "execution_count": 6,
   "metadata": {
    "collapsed": false
   },
   "outputs": [
    {
     "data": {
      "text/html": [
       "<div>\n",
       "<table border=\"1\" class=\"dataframe\">\n",
       "  <thead>\n",
       "    <tr style=\"text-align: right;\">\n",
       "      <th></th>\n",
       "      <th>APN</th>\n",
       "      <th>ADDRESS</th>\n",
       "      <th>Date_Sale</th>\n",
       "      <th>Sale_Amount</th>\n",
       "      <th>Num_Bedrooms</th>\n",
       "      <th>BLKLOT</th>\n",
       "    </tr>\n",
       "  </thead>\n",
       "  <tbody>\n",
       "    <tr>\n",
       "      <th>0</th>\n",
       "      <td>3570 101</td>\n",
       "      <td>566 SOUTH VAN NESS AVE #3</td>\n",
       "      <td>1/3/2012</td>\n",
       "      <td>$425,500</td>\n",
       "      <td>2</td>\n",
       "      <td>3570101</td>\n",
       "    </tr>\n",
       "    <tr>\n",
       "      <th>1</th>\n",
       "      <td>3719 181</td>\n",
       "      <td>301 MISSION ST #22E</td>\n",
       "      <td>1/3/2012</td>\n",
       "      <td>$1,160,000</td>\n",
       "      <td>2</td>\n",
       "      <td>3719181</td>\n",
       "    </tr>\n",
       "    <tr>\n",
       "      <th>2</th>\n",
       "      <td>8704 277</td>\n",
       "      <td>300 BERRY ST # 1612</td>\n",
       "      <td>1/3/2012</td>\n",
       "      <td>$774,025</td>\n",
       "      <td>2</td>\n",
       "      <td>8704277</td>\n",
       "    </tr>\n",
       "  </tbody>\n",
       "</table>\n",
       "</div>"
      ],
      "text/plain": [
       "        APN                    ADDRESS Date_Sale  Sale_Amount  Num_Bedrooms  \\\n",
       "0  3570 101  566 SOUTH VAN NESS AVE #3  1/3/2012    $425,500              2   \n",
       "1  3719 181        301 MISSION ST #22E  1/3/2012  $1,160,000              2   \n",
       "2  8704 277        300 BERRY ST # 1612  1/3/2012    $774,025              2   \n",
       "\n",
       "    BLKLOT  \n",
       "0  3570101  \n",
       "1  3719181  \n",
       "2  8704277  "
      ]
     },
     "execution_count": 6,
     "metadata": {},
     "output_type": "execute_result"
    }
   ],
   "source": [
    "SFH.head(3)"
   ]
  },
  {
   "cell_type": "code",
   "execution_count": 7,
   "metadata": {
    "collapsed": false
   },
   "outputs": [
    {
     "data": {
      "text/plain": [
       "APN             object\n",
       "ADDRESS         object\n",
       "Date_Sale       object\n",
       "Sale_Amount     object\n",
       "Num_Bedrooms     int64\n",
       "BLKLOT          object\n",
       "dtype: object"
      ]
     },
     "execution_count": 7,
     "metadata": {},
     "output_type": "execute_result"
    }
   ],
   "source": [
    "SFH.dtypes"
   ]
  },
  {
   "cell_type": "code",
   "execution_count": 8,
   "metadata": {
    "collapsed": false
   },
   "outputs": [],
   "source": [
    "SFH.Date_Sale = pd.to_datetime(SFH.Date_Sale)"
   ]
  },
  {
   "cell_type": "code",
   "execution_count": 9,
   "metadata": {
    "collapsed": false
   },
   "outputs": [
    {
     "data": {
      "text/plain": [
       "APN                     object\n",
       "ADDRESS                 object\n",
       "Date_Sale       datetime64[ns]\n",
       "Sale_Amount             object\n",
       "Num_Bedrooms             int64\n",
       "BLKLOT                  object\n",
       "dtype: object"
      ]
     },
     "execution_count": 9,
     "metadata": {},
     "output_type": "execute_result"
    }
   ],
   "source": [
    "SFH.dtypes"
   ]
  },
  {
   "cell_type": "code",
   "execution_count": 10,
   "metadata": {
    "collapsed": false
   },
   "outputs": [],
   "source": [
    "SFH.set_index(\"Date_Sale\", inplace=True)"
   ]
  },
  {
   "cell_type": "code",
   "execution_count": 11,
   "metadata": {
    "collapsed": false
   },
   "outputs": [
    {
     "data": {
      "text/html": [
       "<div>\n",
       "<table border=\"1\" class=\"dataframe\">\n",
       "  <thead>\n",
       "    <tr style=\"text-align: right;\">\n",
       "      <th></th>\n",
       "      <th>APN</th>\n",
       "      <th>ADDRESS</th>\n",
       "      <th>Sale_Amount</th>\n",
       "      <th>Num_Bedrooms</th>\n",
       "      <th>BLKLOT</th>\n",
       "    </tr>\n",
       "    <tr>\n",
       "      <th>Date_Sale</th>\n",
       "      <th></th>\n",
       "      <th></th>\n",
       "      <th></th>\n",
       "      <th></th>\n",
       "      <th></th>\n",
       "    </tr>\n",
       "  </thead>\n",
       "  <tbody>\n",
       "    <tr>\n",
       "      <th>2012-01-03</th>\n",
       "      <td>3570 101</td>\n",
       "      <td>566 SOUTH VAN NESS AVE #3</td>\n",
       "      <td>$425,500</td>\n",
       "      <td>2</td>\n",
       "      <td>3570101</td>\n",
       "    </tr>\n",
       "    <tr>\n",
       "      <th>2012-01-03</th>\n",
       "      <td>3719 181</td>\n",
       "      <td>301 MISSION ST #22E</td>\n",
       "      <td>$1,160,000</td>\n",
       "      <td>2</td>\n",
       "      <td>3719181</td>\n",
       "    </tr>\n",
       "    <tr>\n",
       "      <th>2012-01-03</th>\n",
       "      <td>8704 277</td>\n",
       "      <td>300 BERRY ST # 1612</td>\n",
       "      <td>$774,025</td>\n",
       "      <td>2</td>\n",
       "      <td>8704277</td>\n",
       "    </tr>\n",
       "  </tbody>\n",
       "</table>\n",
       "</div>"
      ],
      "text/plain": [
       "                 APN                    ADDRESS  Sale_Amount  Num_Bedrooms  \\\n",
       "Date_Sale                                                                    \n",
       "2012-01-03  3570 101  566 SOUTH VAN NESS AVE #3    $425,500              2   \n",
       "2012-01-03  3719 181        301 MISSION ST #22E  $1,160,000              2   \n",
       "2012-01-03  8704 277        300 BERRY ST # 1612    $774,025              2   \n",
       "\n",
       "             BLKLOT  \n",
       "Date_Sale            \n",
       "2012-01-03  3570101  \n",
       "2012-01-03  3719181  \n",
       "2012-01-03  8704277  "
      ]
     },
     "execution_count": 11,
     "metadata": {},
     "output_type": "execute_result"
    }
   ],
   "source": [
    "SFH.head(3)"
   ]
  },
  {
   "cell_type": "code",
   "execution_count": 12,
   "metadata": {
    "collapsed": false
   },
   "outputs": [
    {
     "data": {
      "text/plain": [
       "str"
      ]
     },
     "execution_count": 12,
     "metadata": {},
     "output_type": "execute_result"
    }
   ],
   "source": [
    "type(SFH.Sale_Amount[0])"
   ]
  },
  {
   "cell_type": "code",
   "execution_count": 15,
   "metadata": {
    "collapsed": false
   },
   "outputs": [],
   "source": [
    "SFH['Sale_Amount'] = SFH['Sale_Amount'].replace( '[\\$,]','', regex=True)"
   ]
  },
  {
   "cell_type": "code",
   "execution_count": 16,
   "metadata": {
    "collapsed": false
   },
   "outputs": [],
   "source": [
    "SFH['Sale_Amount'] = SFH['Sale_Amount'].astype(float)"
   ]
  },
  {
   "cell_type": "code",
   "execution_count": 18,
   "metadata": {
    "collapsed": false
   },
   "outputs": [
    {
     "data": {
      "text/plain": [
       "Date_Sale\n",
       "2012-01-03     425500\n",
       "2012-01-03    1160000\n",
       "2012-01-03     774025\n",
       "Name: Sale_Amount, dtype: float64"
      ]
     },
     "execution_count": 18,
     "metadata": {},
     "output_type": "execute_result"
    }
   ],
   "source": [
    "SFH['Sale_Amount'].head(3)"
   ]
  },
  {
   "cell_type": "code",
   "execution_count": 17,
   "metadata": {
    "collapsed": false
   },
   "outputs": [
    {
     "data": {
      "text/plain": [
       "numpy.float64"
      ]
     },
     "execution_count": 17,
     "metadata": {},
     "output_type": "execute_result"
    }
   ],
   "source": [
    "type(SFH.Sale_Amount[0])"
   ]
  },
  {
   "cell_type": "code",
   "execution_count": 19,
   "metadata": {
    "collapsed": true
   },
   "outputs": [],
   "source": [
    "### --------------------- Task2 ------------------------- ###\n",
    "# What were the total number of sales per month?"
   ]
  },
  {
   "cell_type": "code",
   "execution_count": 20,
   "metadata": {
    "collapsed": false
   },
   "outputs": [
    {
     "data": {
      "text/html": [
       "<div>\n",
       "<table border=\"1\" class=\"dataframe\">\n",
       "  <thead>\n",
       "    <tr style=\"text-align: right;\">\n",
       "      <th></th>\n",
       "      <th>APN</th>\n",
       "      <th>ADDRESS</th>\n",
       "      <th>Sale_Amount</th>\n",
       "      <th>Num_Bedrooms</th>\n",
       "      <th>BLKLOT</th>\n",
       "    </tr>\n",
       "    <tr>\n",
       "      <th>Date_Sale</th>\n",
       "      <th></th>\n",
       "      <th></th>\n",
       "      <th></th>\n",
       "      <th></th>\n",
       "      <th></th>\n",
       "    </tr>\n",
       "  </thead>\n",
       "  <tbody>\n",
       "    <tr>\n",
       "      <th>2012-01-03</th>\n",
       "      <td>3570 101</td>\n",
       "      <td>566 SOUTH VAN NESS AVE #3</td>\n",
       "      <td>425500</td>\n",
       "      <td>2</td>\n",
       "      <td>3570101</td>\n",
       "    </tr>\n",
       "    <tr>\n",
       "      <th>2012-01-03</th>\n",
       "      <td>3719 181</td>\n",
       "      <td>301 MISSION ST #22E</td>\n",
       "      <td>1160000</td>\n",
       "      <td>2</td>\n",
       "      <td>3719181</td>\n",
       "    </tr>\n",
       "    <tr>\n",
       "      <th>2012-01-03</th>\n",
       "      <td>8704 277</td>\n",
       "      <td>300 BERRY ST # 1612</td>\n",
       "      <td>774025</td>\n",
       "      <td>2</td>\n",
       "      <td>8704277</td>\n",
       "    </tr>\n",
       "  </tbody>\n",
       "</table>\n",
       "</div>"
      ],
      "text/plain": [
       "                 APN                    ADDRESS  Sale_Amount  Num_Bedrooms  \\\n",
       "Date_Sale                                                                    \n",
       "2012-01-03  3570 101  566 SOUTH VAN NESS AVE #3       425500             2   \n",
       "2012-01-03  3719 181        301 MISSION ST #22E      1160000             2   \n",
       "2012-01-03  8704 277        300 BERRY ST # 1612       774025             2   \n",
       "\n",
       "             BLKLOT  \n",
       "Date_Sale            \n",
       "2012-01-03  3570101  \n",
       "2012-01-03  3719181  \n",
       "2012-01-03  8704277  "
      ]
     },
     "execution_count": 20,
     "metadata": {},
     "output_type": "execute_result"
    }
   ],
   "source": [
    "SFH.head(3)"
   ]
  },
  {
   "cell_type": "code",
   "execution_count": 21,
   "metadata": {
    "collapsed": false
   },
   "outputs": [
    {
     "data": {
      "text/plain": [
       "Date_Sale\n",
       "2012-01-31     53476237\n",
       "2012-02-29     60943387\n",
       "2012-03-31     89563230\n",
       "2012-04-30    109142657\n",
       "2012-05-31    142617135\n",
       "2012-06-30    124199434\n",
       "2012-07-31    107375065\n",
       "2012-08-31    354300447\n",
       "2012-09-30    112736091\n",
       "2012-10-31     70321138\n",
       "2012-11-30     48159305\n",
       "2012-12-31      3735000\n",
       "Freq: M, Name: Sale_Amount, dtype: float64"
      ]
     },
     "execution_count": 21,
     "metadata": {},
     "output_type": "execute_result"
    }
   ],
   "source": [
    "SFH['Sale_Amount'].resample('M',sum)"
   ]
  },
  {
   "cell_type": "code",
   "execution_count": 22,
   "metadata": {
    "collapsed": true
   },
   "outputs": [],
   "source": [
    "t2 = SFH['Sale_Amount'].resample('M',sum)"
   ]
  },
  {
   "cell_type": "code",
   "execution_count": 23,
   "metadata": {
    "collapsed": true
   },
   "outputs": [],
   "source": [
    "from pylab import rcParams\n",
    "rcParams['figure.figsize'] = 12, 8"
   ]
  },
  {
   "cell_type": "code",
   "execution_count": 24,
   "metadata": {
    "collapsed": false
   },
   "outputs": [
    {
     "data": {
      "text/plain": [
       "<matplotlib.text.Text at 0xa9aef245f8>"
      ]
     },
     "execution_count": 24,
     "metadata": {},
     "output_type": "execute_result"
    },
    {
     "data": {
      "image/png": "[encoded data removed]",
      "text/plain": [
       "<matplotlib.figure.Figure at 0xa9aee56e10>"
      ]
     },
     "metadata": {},
     "output_type": "display_data"
    }
   ],
   "source": [
    "plt.plot(t2)\n",
    "plt.title('Total number of sales amount per month')\n",
    "plt.xlabel('Period(month)')\n",
    "plt.ylabel('Total Sales')"
   ]
  },
  {
   "cell_type": "code",
   "execution_count": 25,
   "metadata": {
    "collapsed": true
   },
   "outputs": [],
   "source": [
    "### ------------- Task 3 ------------------------- ###\n",
    "# What was the average, min and max housing price per month?"
   ]
  },
  {
   "cell_type": "code",
   "execution_count": 26,
   "metadata": {
    "collapsed": false
   },
   "outputs": [
    {
     "data": {
      "text/plain": [
       "Date_Sale\n",
       "2012-01-31       1500\n",
       "2012-02-29      92500\n",
       "2012-03-31      10000\n",
       "2012-04-30      29000\n",
       "2012-05-31     245000\n",
       "2012-06-30     208000\n",
       "2012-07-31     208000\n",
       "2012-08-31     208000\n",
       "2012-09-30     119000\n",
       "2012-10-31     208000\n",
       "2012-11-30     430000\n",
       "2012-12-31    1800000\n",
       "Freq: M, Name: Sale_Amount, dtype: float64"
      ]
     },
     "execution_count": 26,
     "metadata": {},
     "output_type": "execute_result"
    }
   ],
   "source": [
    "SFH['Sale_Amount'].resample('M', how = 'min')"
   ]
  },
  {
   "cell_type": "code",
   "execution_count": 27,
   "metadata": {
    "collapsed": false
   },
   "outputs": [
    {
     "data": {
      "text/plain": [
       "Date_Sale\n",
       "2012-01-31     2004000\n",
       "2012-02-29     2750000\n",
       "2012-03-31     2515000\n",
       "2012-04-30     3800000\n",
       "2012-05-31     4750000\n",
       "2012-06-30     1998000\n",
       "2012-07-31     6000000\n",
       "2012-08-31    16600000\n",
       "2012-09-30     5100000\n",
       "2012-10-31     3500000\n",
       "2012-11-30     2200000\n",
       "2012-12-31     1935000\n",
       "Freq: M, Name: Sale_Amount, dtype: float64"
      ]
     },
     "execution_count": 27,
     "metadata": {},
     "output_type": "execute_result"
    }
   ],
   "source": [
    "SFH['Sale_Amount'].resample('M', how='max')"
   ]
  },
  {
   "cell_type": "code",
   "execution_count": 28,
   "metadata": {
    "collapsed": false
   },
   "outputs": [
    {
     "data": {
      "text/plain": [
       "Date_Sale\n",
       "2012-01-31     786415.250000\n",
       "2012-02-29     743212.036585\n",
       "2012-03-31     852983.142857\n",
       "2012-04-30     873141.256000\n",
       "2012-05-31    1041000.985401\n",
       "2012-06-30     850681.054795\n",
       "2012-07-31    1073750.650000\n",
       "2012-08-31    2013070.721591\n",
       "2012-09-30    1084000.875000\n",
       "2012-10-31     963303.260274\n",
       "2012-11-30     982842.959184\n",
       "2012-12-31    1867500.000000\n",
       "Freq: M, Name: Sale_Amount, dtype: float64"
      ]
     },
     "execution_count": 28,
     "metadata": {},
     "output_type": "execute_result"
    }
   ],
   "source": [
    "SFH['Sale_Amount'].resample('M', how='mean')"
   ]
  },
  {
   "cell_type": "code",
   "execution_count": 29,
   "metadata": {
    "collapsed": false
   },
   "outputs": [
    {
     "data": {
      "text/html": [
       "<div>\n",
       "<table border=\"1\" class=\"dataframe\">\n",
       "  <thead>\n",
       "    <tr style=\"text-align: right;\">\n",
       "      <th></th>\n",
       "      <th>Average</th>\n",
       "      <th>Maximum</th>\n",
       "      <th>Minimum</th>\n",
       "    </tr>\n",
       "    <tr>\n",
       "      <th>Date_Sale</th>\n",
       "      <th></th>\n",
       "      <th></th>\n",
       "      <th></th>\n",
       "    </tr>\n",
       "  </thead>\n",
       "  <tbody>\n",
       "    <tr>\n",
       "      <th>2012-01-31</th>\n",
       "      <td>786415.250000</td>\n",
       "      <td>2004000</td>\n",
       "      <td>1500</td>\n",
       "    </tr>\n",
       "    <tr>\n",
       "      <th>2012-02-29</th>\n",
       "      <td>743212.036585</td>\n",
       "      <td>2750000</td>\n",
       "      <td>92500</td>\n",
       "    </tr>\n",
       "    <tr>\n",
       "      <th>2012-03-31</th>\n",
       "      <td>852983.142857</td>\n",
       "      <td>2515000</td>\n",
       "      <td>10000</td>\n",
       "    </tr>\n",
       "    <tr>\n",
       "      <th>2012-04-30</th>\n",
       "      <td>873141.256000</td>\n",
       "      <td>3800000</td>\n",
       "      <td>29000</td>\n",
       "    </tr>\n",
       "    <tr>\n",
       "      <th>2012-05-31</th>\n",
       "      <td>1041000.985401</td>\n",
       "      <td>4750000</td>\n",
       "      <td>245000</td>\n",
       "    </tr>\n",
       "    <tr>\n",
       "      <th>2012-06-30</th>\n",
       "      <td>850681.054795</td>\n",
       "      <td>1998000</td>\n",
       "      <td>208000</td>\n",
       "    </tr>\n",
       "    <tr>\n",
       "      <th>2012-07-31</th>\n",
       "      <td>1073750.650000</td>\n",
       "      <td>6000000</td>\n",
       "      <td>208000</td>\n",
       "    </tr>\n",
       "    <tr>\n",
       "      <th>2012-08-31</th>\n",
       "      <td>2013070.721591</td>\n",
       "      <td>16600000</td>\n",
       "      <td>208000</td>\n",
       "    </tr>\n",
       "    <tr>\n",
       "      <th>2012-09-30</th>\n",
       "      <td>1084000.875000</td>\n",
       "      <td>5100000</td>\n",
       "      <td>119000</td>\n",
       "    </tr>\n",
       "    <tr>\n",
       "      <th>2012-10-31</th>\n",
       "      <td>963303.260274</td>\n",
       "      <td>3500000</td>\n",
       "      <td>208000</td>\n",
       "    </tr>\n",
       "    <tr>\n",
       "      <th>2012-11-30</th>\n",
       "      <td>982842.959184</td>\n",
       "      <td>2200000</td>\n",
       "      <td>430000</td>\n",
       "    </tr>\n",
       "    <tr>\n",
       "      <th>2012-12-31</th>\n",
       "      <td>1867500.000000</td>\n",
       "      <td>1935000</td>\n",
       "      <td>1800000</td>\n",
       "    </tr>\n",
       "  </tbody>\n",
       "</table>\n",
       "</div>"
      ],
      "text/plain": [
       "                   Average   Maximum  Minimum\n",
       "Date_Sale                                    \n",
       "2012-01-31   786415.250000   2004000     1500\n",
       "2012-02-29   743212.036585   2750000    92500\n",
       "2012-03-31   852983.142857   2515000    10000\n",
       "2012-04-30   873141.256000   3800000    29000\n",
       "2012-05-31  1041000.985401   4750000   245000\n",
       "2012-06-30   850681.054795   1998000   208000\n",
       "2012-07-31  1073750.650000   6000000   208000\n",
       "2012-08-31  2013070.721591  16600000   208000\n",
       "2012-09-30  1084000.875000   5100000   119000\n",
       "2012-10-31   963303.260274   3500000   208000\n",
       "2012-11-30   982842.959184   2200000   430000\n",
       "2012-12-31  1867500.000000   1935000  1800000"
      ]
     },
     "execution_count": 29,
     "metadata": {},
     "output_type": "execute_result"
    }
   ],
   "source": [
    "SFH['Sale_Amount'].resample('M', how={'Average':'mean', 'Maximum':'max', 'Minimum':'min' })"
   ]
  },
  {
   "cell_type": "code",
   "execution_count": 30,
   "metadata": {
    "collapsed": true
   },
   "outputs": [],
   "source": [
    "t3 = SFH['Sale_Amount'].resample('M', how={'Average':'mean', 'Maximum':'max', 'Minimum':'min' })"
   ]
  },
  {
   "cell_type": "code",
   "execution_count": 31,
   "metadata": {
    "collapsed": false
   },
   "outputs": [
    {
     "data": {
      "text/plain": [
       "<matplotlib.legend.Legend at 0xa9af525c50>"
      ]
     },
     "execution_count": 31,
     "metadata": {},
     "output_type": "execute_result"
    },
    {
     "data": {
      "image/png": "[encoded data removed]",
      "text/plain": [
       "<matplotlib.figure.Figure at 0xa9af0ceac8>"
      ]
     },
     "metadata": {},
     "output_type": "display_data"
    }
   ],
   "source": [
    "p1, = plt.plot(t3['Average'])\n",
    "p2, = plt.plot(t3['Maximum'])\n",
    "p3, = plt.plot(t3['Minimum'])\n",
    "legend([p1, p2, p3], [\"Average\", \"Maximum\", \"Minimum\"])"
   ]
  },
  {
   "cell_type": "code",
   "execution_count": 32,
   "metadata": {
    "collapsed": true
   },
   "outputs": [],
   "source": [
    "### ----------------- Task 4 ------------------------ ###\n",
    "#(bonus) What was the average housing price for all houses sold over $1,000,000?"
   ]
  },
  {
   "cell_type": "code",
   "execution_count": 33,
   "metadata": {
    "collapsed": false
   },
   "outputs": [
    {
     "data": {
      "text/plain": [
       "(1167, 5)"
      ]
     },
     "execution_count": 33,
     "metadata": {},
     "output_type": "execute_result"
    }
   ],
   "source": [
    "SFH.shape"
   ]
  },
  {
   "cell_type": "code",
   "execution_count": 34,
   "metadata": {
    "collapsed": false
   },
   "outputs": [],
   "source": [
    "Over1000 = SFH[SFH['Sale_Amount'] > 1000000]"
   ]
  },
  {
   "cell_type": "code",
   "execution_count": 35,
   "metadata": {
    "collapsed": false
   },
   "outputs": [
    {
     "data": {
      "text/plain": [
       "(339, 5)"
      ]
     },
     "execution_count": 35,
     "metadata": {},
     "output_type": "execute_result"
    }
   ],
   "source": [
    "Over1000.shape"
   ]
  },
  {
   "cell_type": "code",
   "execution_count": 36,
   "metadata": {
    "collapsed": false
   },
   "outputs": [
    {
     "data": {
      "text/plain": [
       "2081109.5929203539"
      ]
     },
     "execution_count": 36,
     "metadata": {},
     "output_type": "execute_result"
    }
   ],
   "source": [
    "Over1000.Sale_Amount.mean()"
   ]
  },
  {
   "cell_type": "code",
   "execution_count": 37,
   "metadata": {
    "collapsed": false
   },
   "outputs": [
    {
     "data": {
      "text/plain": [
       "Date_Sale\n",
       "2012-01-31    1467266.666667\n",
       "2012-02-29    1474153.846154\n",
       "2012-03-31    1463141.785714\n",
       "2012-04-30    1396667.472222\n",
       "2012-05-31    1695281.632653\n",
       "2012-06-30    1444393.939394\n",
       "2012-07-31    1878427.419355\n",
       "2012-08-31    4832233.833333\n",
       "2012-09-30    1593454.785714\n",
       "2012-10-31    1510637.500000\n",
       "2012-11-30    1393539.062500\n",
       "2012-12-31    1867500.000000\n",
       "Freq: M, Name: Sale_Amount, dtype: float64"
      ]
     },
     "execution_count": 37,
     "metadata": {},
     "output_type": "execute_result"
    }
   ],
   "source": [
    "Over1000['Sale_Amount'].resample('M', how='mean')"
   ]
  },
  {
   "cell_type": "code",
   "execution_count": 38,
   "metadata": {
    "collapsed": true
   },
   "outputs": [],
   "source": [
    "t4 = Over1000['Sale_Amount'].resample('M', how='mean')"
   ]
  },
  {
   "cell_type": "code",
   "execution_count": 39,
   "metadata": {
    "collapsed": false
   },
   "outputs": [
    {
     "data": {
      "text/plain": [
       "<matplotlib.text.Text at 0xa9af5667f0>"
      ]
     },
     "execution_count": 39,
     "metadata": {},
     "output_type": "execute_result"
    },
    {
     "data": {
      "image/png": "[encoded data removed]",
      "text/plain": [
       "<matplotlib.figure.Figure at 0xa9af549c88>"
      ]
     },
     "metadata": {},
     "output_type": "display_data"
    }
   ],
   "source": [
    "plt.plot(t4)\n",
    "plt.title('Average Sales for Sales Amount over $1,000,000')\n",
    "plt.xlabel('Period(month)')\n",
    "plt.ylabel('Average Sales')"
   ]
  }
 ],
 "metadata": {
  "kernelspec": {
   "display_name": "Python 3",
   "language": "python",
   "name": "python3"
  },
  "language_info": {
   "codemirror_mode": {
    "name": "ipython",
    "version": 3
   },
   "file_extension": ".py",
   "mimetype": "text/x-python",
   "name": "python",
   "nbconvert_exporter": "python",
   "pygments_lexer": "ipython3",
   "version": "3.5.1"
  }
 },
 "nbformat": 4,
 "nbformat_minor": 0
}
