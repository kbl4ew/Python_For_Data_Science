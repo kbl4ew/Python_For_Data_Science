{
 "cells": [
  {
   "cell_type": "markdown",
   "metadata": {},
   "source": [
    "## Rejection Sampling\n",
    "Rejection sampling is a basic Monte Carlo technique to generate observations from a spec-\n",
    "i\f",
    "ed distribution with probability density function (pdf) f(x). In practice, it is used to\n",
    "draw random variables from a target distribution, f(x), when directly sampling from that\n",
    "distribution is di\u000ecult. The basic idea is to instead sample from a reference distribution,\n",
    "g(x), which a) is easy to draw from and b) satis\f",
    "es the condition that g(x) > 0 whenever\n",
    "f(x) > 0, and to then selectively accept samples such that sampling from f is achieved."
   ]
  },
  {
   "cell_type": "code",
   "execution_count": 1,
   "metadata": {
    "collapsed": true
   },
   "outputs": [],
   "source": [
    "# Shiman Ding\n",
    "# 07/09/2016\n",
    "\n",
    "import numpy as np\n",
    "import scipy.stats\n",
    "from scipy.stats import norm\n",
    "import matplotlib\n",
    "import matplotlib.pyplot as plt\n",
    "import math"
   ]
  },
  {
   "cell_type": "markdown",
   "metadata": {},
   "source": [
    "## HW 2-1\n",
    "Write a 1-D rejection sampler in python using tools from scipy.stats. The sampler\n",
    "should take as input: the functional form of the target distribution, a reference distribution in the form of a scipy.stats object (e.g. scipy.stats.norm(0,1)), and the\n",
    "number of samples desired. It should output the samples, the value of M, and the\n",
    "proportion of samples that was accepted."
   ]
  },
  {
   "cell_type": "code",
   "execution_count": 14,
   "metadata": {
    "collapsed": false
   },
   "outputs": [
    {
     "data": {
      "text/plain": [
       "2.3263478740408408"
      ]
     },
     "execution_count": 14,
     "metadata": {},
     "output_type": "execute_result"
    }
   ],
   "source": [
    "norm.cdf(3)        # cumulative density function\n",
    "norm.rvs(size = 3)         # generate random variables\n",
    "norm.ppf(0.99)     # inverse density"
   ]
  },
  {
   "cell_type": "code",
   "execution_count": 244,
   "metadata": {
    "collapsed": false
   },
   "outputs": [],
   "source": [
    "def Rej_sampler_1D(target_f, ref_g, n=10):\n",
    "    \n",
    "    # determine M:\n",
    "    # generate 500 samples, find the largest ratio and modified by ratio 1.1\n",
    "    u = scipy.stats.uniform.rvs(size = 500)\n",
    "    x = ref_g.ppf(u)\n",
    "    ratio = ref_g.pdf(x) / target_f(x)\n",
    "    print(\"Obtained M\")\n",
    "    M = 1.1 * max(ratio)\n",
    "    accepts = []\n",
    "    rejects = []\n",
    "    # modify cauchy ratio, because M could be infty\n",
    "    if (ref_g == scipy.stats.cauchy):\n",
    "        M = 100\n",
    "        print(M)\n",
    "    while(len(accepts) < n):\n",
    "        u = scipy.stats.uniform.rvs()\n",
    "        x = ref_g.rvs()\n",
    "        if (target_f(x) / ref_g.pdf(x) / M > u):\n",
    "            accepts.append(x)\n",
    "        else:\n",
    "            rejects.append(x)\n",
    "    accept_ratio = float(len(accepts))/(len(rejects)+len(accepts))\n",
    "    return(M,accepts, accept_ratio)"
   ]
  },
  {
   "cell_type": "code",
   "execution_count": 245,
   "metadata": {
    "collapsed": true
   },
   "outputs": [],
   "source": [
    "def target(x):\n",
    "    return norm.pdf(x)"
   ]
  },
  {
   "cell_type": "markdown",
   "metadata": {},
   "source": [
    "# 2-2 \n",
    "Using CAUCHY to approximate LAPLACE"
   ]
  },
  {
   "cell_type": "code",
   "execution_count": 246,
   "metadata": {
    "collapsed": true
   },
   "outputs": [],
   "source": [
    "def laplace(x, mu=0.0, b=1.0):\n",
    "    return (0.5/b * np.exp(-abs(x-mu)/b))"
   ]
  },
  {
   "cell_type": "code",
   "execution_count": 247,
   "metadata": {
    "collapsed": false
   },
   "outputs": [
    {
     "name": "stdout",
     "output_type": "stream",
     "text": [
      "Obtained M\n",
      "100\n"
     ]
    }
   ],
   "source": [
    "a,b,c = Rej_sampler_1D(laplace, scipy.stats.cauchy, 1000)"
   ]
  },
  {
   "cell_type": "code",
   "execution_count": 249,
   "metadata": {
    "collapsed": false
   },
   "outputs": [
    {
     "name": "stdout",
     "output_type": "stream",
     "text": [
      "Populating the interactive namespace from numpy and matplotlib\n"
     ]
    },
    {
     "data": {
      "image/png": "[encoded data removed]",
      "text/plain": [
       "<matplotlib.figure.Figure at 0x184f9048>"
      ]
     },
     "metadata": {},
     "output_type": "display_data"
    }
   ],
   "source": [
    "%pylab inline\n",
    "\n",
    "fig=plt.figure()\n",
    "ax=fig.add_subplot(111)\n",
    "ax.hist(b, bins=50, normed = True)\n",
    "\n",
    "x = np.arange(-4, 3, 0.005)\n",
    "laplace_pdf = np.arange(-4, 3, 0.005)\n",
    "for i in range(0,len(x)):\n",
    "    laplace_pdf[i] = scipy.stats.laplace.pdf(float(x[i]))\n",
    "ax.plot(x,laplace_pdf, 'r--', linewidth=3)\n",
    "\n",
    "plt.title(\"Cauchy Reject Sampling VS Laplace\")\n",
    "plt.show()"
   ]
  },
  {
   "cell_type": "code",
   "execution_count": 250,
   "metadata": {
    "collapsed": false
   },
   "outputs": [
    {
     "data": {
      "text/plain": [
       "1.057737584189247e-11"
      ]
     },
     "execution_count": 250,
     "metadata": {},
     "output_type": "execute_result"
    }
   ],
   "source": [
    "# Kolmogorov-Smirnov test to see difference between RS and laplace\n",
    "u = scipy.stats.uniform.rvs(size = 500)\n",
    "x = laplace(u)\n",
    "d,p = scipy.stats.ks_2samp(b, x)\n",
    "p"
   ]
  },
  {
   "cell_type": "code",
   "execution_count": 232,
   "metadata": {
    "collapsed": false
   },
   "outputs": [
    {
     "data": {
      "text/plain": [
       "0.19349845201238391"
      ]
     },
     "execution_count": 232,
     "metadata": {},
     "output_type": "execute_result"
    }
   ],
   "source": [
    "# acceptance rate, this is determined by M\n",
    "c"
   ]
  },
  {
   "cell_type": "markdown",
   "metadata": {},
   "source": [
    "#2-3\n",
    "Using student-t distribution to approximate Laplace distribution"
   ]
  },
  {
   "cell_type": "code",
   "execution_count": 261,
   "metadata": {
    "collapsed": false
   },
   "outputs": [
    {
     "data": {
      "text/plain": [
       "-1.6171100363148705"
      ]
     },
     "execution_count": 261,
     "metadata": {},
     "output_type": "execute_result"
    }
   ],
   "source": [
    "scipy.stats.t(df=2).rvs()"
   ]
  },
  {
   "cell_type": "code",
   "execution_count": 262,
   "metadata": {
    "collapsed": false
   },
   "outputs": [
    {
     "name": "stdout",
     "output_type": "stream",
     "text": [
      "Obtained M\n"
     ]
    }
   ],
   "source": [
    "M2,sample,ratio = Rej_sampler_1D(laplace, scipy.stats.t(df=2), 1000)"
   ]
  },
  {
   "cell_type": "code",
   "execution_count": 265,
   "metadata": {
    "collapsed": false
   },
   "outputs": [
    {
     "data": {
      "image/png": "[encoded data removed]",
      "text/plain": [
       "<matplotlib.figure.Figure at 0x17b78a90>"
      ]
     },
     "metadata": {},
     "output_type": "display_data"
    }
   ],
   "source": [
    "fig=plt.figure()\n",
    "ax=fig.add_subplot(111)\n",
    "ax.hist(sample, bins=50, normed = True)\n",
    "\n",
    "x = np.arange(-4, 10, 0.005)\n",
    "laplace_pdf = np.arange(-4, 10, 0.005)\n",
    "for i in range(0,len(x)):\n",
    "    laplace_pdf[i] = scipy.stats.laplace.pdf(float(x[i]))\n",
    "ax.plot(x,laplace_pdf, 'r--', linewidth=3)\n",
    "\n",
    "plt.title(\"student-t Reject Sampling VS Laplace\")\n",
    "plt.show()"
   ]
  },
  {
   "cell_type": "code",
   "execution_count": 266,
   "metadata": {
    "collapsed": false
   },
   "outputs": [
    {
     "data": {
      "text/plain": [
       "3.2787477684374113e-37"
      ]
     },
     "execution_count": 266,
     "metadata": {},
     "output_type": "execute_result"
    }
   ],
   "source": [
    "u = scipy.stats.uniform.rvs(size = 500)\n",
    "x = laplace(u)\n",
    "d,p = scipy.stats.ks_2samp(sample, x)\n",
    "p"
   ]
  },
  {
   "cell_type": "code",
   "execution_count": 268,
   "metadata": {
    "collapsed": false
   },
   "outputs": [
    {
     "data": {
      "text/plain": [
       "0.2655337227827934"
      ]
     },
     "execution_count": 268,
     "metadata": {},
     "output_type": "execute_result"
    }
   ],
   "source": [
    "# acceptance ratio\n",
    "ratio"
   ]
  },
  {
   "cell_type": "code",
   "execution_count": null,
   "metadata": {
    "collapsed": true
   },
   "outputs": [],
   "source": []
  }
 ],
 "metadata": {
  "kernelspec": {
   "display_name": "Python 2",
   "language": "python",
   "name": "python2"
  },
  "language_info": {
   "codemirror_mode": {
    "name": "ipython",
    "version": 2
   },
   "file_extension": ".py",
   "mimetype": "text/x-python",
   "name": "python",
   "nbconvert_exporter": "python",
   "pygments_lexer": "ipython2",
   "version": "2.7.11"
  }
 },
 "nbformat": 4,
 "nbformat_minor": 0
}
