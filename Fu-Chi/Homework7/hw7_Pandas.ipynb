{
 "cells": [
  {
   "cell_type": "code",
   "execution_count": 1,
   "metadata": {
    "collapsed": true
   },
   "outputs": [],
   "source": [
    "# Pandas and Timeseries\n",
    "# Download a dump of data about closed GitHub issues for the pandas project here:\n",
    "# https://www.dropbox.com/s/pe6dqooznrfynii/closed.json\n",
    "# Use the built-in json library to read this file into memory. Each element in the list contains information about a GitHub \n",
    "# issue and all developer comments that were made on it in the 'comments' field."
   ]
  },
  {
   "cell_type": "code",
   "execution_count": 2,
   "metadata": {
    "collapsed": false
   },
   "outputs": [],
   "source": [
    "import matplotlib.pyplot as plt"
   ]
  },
  {
   "cell_type": "code",
   "execution_count": 3,
   "metadata": {
    "collapsed": false
   },
   "outputs": [
    {
     "name": "stdout",
     "output_type": "stream",
     "text": [
      "Populating the interactive namespace from numpy and matplotlib\n"
     ]
    }
   ],
   "source": [
    "%pylab inline"
   ]
  },
  {
   "cell_type": "code",
   "execution_count": 4,
   "metadata": {
    "collapsed": true
   },
   "outputs": [],
   "source": [
    "import json\n",
    "import pandas as pd\n",
    "import numpy as np\n",
    "from datetime import datetime"
   ]
  },
  {
   "cell_type": "code",
   "execution_count": 5,
   "metadata": {
    "collapsed": false
   },
   "outputs": [
    {
     "data": {
      "text/plain": [
       "'/Users/farahshih/Documents/Codes/Python_For_Data_Science/Fu-Chi/Homework7'"
      ]
     },
     "execution_count": 5,
     "metadata": {},
     "output_type": "execute_result"
    }
   ],
   "source": [
    "pwd"
   ]
  },
  {
   "cell_type": "code",
   "execution_count": 6,
   "metadata": {
    "collapsed": false
   },
   "outputs": [
    {
     "name": "stdout",
     "output_type": "stream",
     "text": [
      "closed.json      hw7_Pandas.ipynb\r\n"
     ]
    }
   ],
   "source": [
    "!ls"
   ]
  },
  {
   "cell_type": "code",
   "execution_count": 7,
   "metadata": {
    "collapsed": false
   },
   "outputs": [
    {
     "name": "stdout",
     "output_type": "stream",
     "text": [
      "[\r\n",
      "  {\r\n",
      "    \"body\": \"re: pystatsmodels e-mail\\r\\n\\r\\n\\r\\nhi everyone,\\r\\n\\r\\njust getting started with pandas and i was wondering if someone could\\r\\nhelp me out.  do pandas.DataMatrix objects support per item comparison\\r\\noperations?\\r\\n\\r\\ni have a two data matrices, and i want to do something like this:\\r\\n\\r\\ndiv[div > 0.5 * price] = 0\\r\\n\\r\\nthis would work if div and price were numpy.ndarray objects.  any idea\\r\\nhow i would do something like this with pandas.DataMatrix objects?\\r\\n\\r\\nthanks,\\r\\nandy\\r\\n\", \r\n",
      "    \"labels\": [], \r\n",
      "    \"title\": \"Enable element-wise comparison operations in DataMatrix objects\", \r\n",
      "    \"url\": \"https://api.github.com/repos/pydata/pandas/issues/1\", \r\n",
      "    \"labels_url\": \"https://api.github.com/repos/pydata/pandas/issues/1/labels{/name}\", \r\n",
      "    \"created_at\": \"2010-09-29T00:45:31Z\", \r\n",
      "    \"events_url\": \"https://api.github.com/repos/pydata/pandas/issues/1/events\", \r\n",
      "    \"comments_url\": \"https://api.github.com/repos/pydata/pandas/issues/1/comments\", \r\n"
     ]
    }
   ],
   "source": [
    "!head closed.json"
   ]
  },
  {
   "cell_type": "code",
   "execution_count": 8,
   "metadata": {
    "collapsed": false
   },
   "outputs": [
    {
     "data": {
      "text/html": [
       "<div>\n",
       "<table border=\"1\" class=\"dataframe\">\n",
       "  <thead>\n",
       "    <tr style=\"text-align: right;\">\n",
       "      <th></th>\n",
       "      <th>title</th>\n",
       "      <th>created_at</th>\n",
       "      <th>labels</th>\n",
       "      <th>closed_at</th>\n",
       "      <th>user</th>\n",
       "      <th>id</th>\n",
       "    </tr>\n",
       "  </thead>\n",
       "  <tbody>\n",
       "    <tr>\n",
       "      <th>0</th>\n",
       "      <td>Enable element-wise comparison operations in D...</td>\n",
       "      <td>2010-09-29T00:45:31Z</td>\n",
       "      <td>[]</td>\n",
       "      <td>2011-02-19T23:13:48Z</td>\n",
       "      <td>wesm</td>\n",
       "      <td>337721</td>\n",
       "    </tr>\n",
       "    <tr>\n",
       "      <th>1</th>\n",
       "      <td>Enable element-wise comparison operations in D...</td>\n",
       "      <td>2010-09-29T00:45:31Z</td>\n",
       "      <td>[]</td>\n",
       "      <td>2011-02-19T23:13:48Z</td>\n",
       "      <td>wesm</td>\n",
       "      <td>337721</td>\n",
       "    </tr>\n",
       "    <tr>\n",
       "      <th>2</th>\n",
       "      <td>reindex_like function</td>\n",
       "      <td>2010-09-29T00:50:13Z</td>\n",
       "      <td>[]</td>\n",
       "      <td>2010-12-17T02:57:33Z</td>\n",
       "      <td>wesm</td>\n",
       "      <td>337726</td>\n",
       "    </tr>\n",
       "  </tbody>\n",
       "</table>\n",
       "</div>"
      ],
      "text/plain": [
       "                                               title            created_at  \\\n",
       "0  Enable element-wise comparison operations in D...  2010-09-29T00:45:31Z   \n",
       "1  Enable element-wise comparison operations in D...  2010-09-29T00:45:31Z   \n",
       "2                              reindex_like function  2010-09-29T00:50:13Z   \n",
       "\n",
       "  labels             closed_at  user      id  \n",
       "0     []  2011-02-19T23:13:48Z  wesm  337721  \n",
       "1     []  2011-02-19T23:13:48Z  wesm  337721  \n",
       "2     []  2010-12-17T02:57:33Z  wesm  337726  "
      ]
     },
     "execution_count": 8,
     "metadata": {},
     "output_type": "execute_result"
    }
   ],
   "source": [
    "### ------ Task 1 ---------- ###\n",
    "# Make a DataFrame with one row per issue with the following columns extracted from the issue data:\n",
    "# title, created_at, labels, closed_at, user, id\n",
    "# Transform the user values to be simply the 'login' string, so that the user column contains only string usernames.\n",
    "with open('closed.json') as data_file:    \n",
    "    data = json.load(data_file)\n",
    "\n",
    "data = pd.DataFrame(data, columns=[\"title\", \"created_at\", \"labels\", \"closed_at\", \"user\", \"id\"])\n",
    "for i in range(len(data.index)):\n",
    "    data.loc[i,'user'] = data.loc[i,'user']['login']\n",
    "data.head(3)"
   ]
  },
  {
   "cell_type": "code",
   "execution_count": 9,
   "metadata": {
    "collapsed": false
   },
   "outputs": [
    {
     "data": {
      "text/plain": [
       "(2968, 19)"
      ]
     },
     "execution_count": 9,
     "metadata": {},
     "output_type": "execute_result"
    }
   ],
   "source": [
    "## Another way of reading data\n",
    "df = pd.read_json('closed.json')\n",
    "df.shape # (2968, 19)"
   ]
  },
  {
   "cell_type": "code",
   "execution_count": 10,
   "metadata": {
    "collapsed": false
   },
   "outputs": [
    {
     "data": {
      "text/plain": [
       "Index(['assignee', 'body', 'closed_at', 'comments', 'comments_url',\n",
       "       'created_at', 'events_url', 'html_url', 'id', 'labels', 'labels_url',\n",
       "       'milestone', 'number', 'pull_request', 'state', 'title', 'updated_at',\n",
       "       'url', 'user'],\n",
       "      dtype='object')"
      ]
     },
     "execution_count": 10,
     "metadata": {},
     "output_type": "execute_result"
    }
   ],
   "source": [
    "df.columns"
   ]
  },
  {
   "cell_type": "code",
   "execution_count": 11,
   "metadata": {
    "collapsed": false
   },
   "outputs": [
    {
     "data": {
      "text/plain": [
       "dict"
      ]
     },
     "execution_count": 11,
     "metadata": {},
     "output_type": "execute_result"
    }
   ],
   "source": [
    "df2 = df[['title', 'created_at', 'labels', 'closed_at', 'user', 'id']]\n",
    "df2.user[0]\n",
    "type(df2.user[0]) # We note that df2.user[0] is a dictionary"
   ]
  },
  {
   "cell_type": "code",
   "execution_count": 12,
   "metadata": {
    "collapsed": false
   },
   "outputs": [
    {
     "data": {
      "text/html": [
       "<div>\n",
       "<table border=\"1\" class=\"dataframe\">\n",
       "  <thead>\n",
       "    <tr style=\"text-align: right;\">\n",
       "      <th></th>\n",
       "      <th>title</th>\n",
       "      <th>created_at</th>\n",
       "      <th>labels</th>\n",
       "      <th>closed_at</th>\n",
       "      <th>user</th>\n",
       "      <th>id</th>\n",
       "    </tr>\n",
       "  </thead>\n",
       "  <tbody>\n",
       "    <tr>\n",
       "      <th>0</th>\n",
       "      <td>Enable element-wise comparison operations in D...</td>\n",
       "      <td>2010-09-29T00:45:31Z</td>\n",
       "      <td>[]</td>\n",
       "      <td>2011-02-19T23:13:48Z</td>\n",
       "      <td>wesm</td>\n",
       "      <td>337721</td>\n",
       "    </tr>\n",
       "    <tr>\n",
       "      <th>2</th>\n",
       "      <td>reindex_like function</td>\n",
       "      <td>2010-09-29T00:50:13Z</td>\n",
       "      <td>[]</td>\n",
       "      <td>2010-12-17T02:57:33Z</td>\n",
       "      <td>wesm</td>\n",
       "      <td>337726</td>\n",
       "    </tr>\n",
       "    <tr>\n",
       "      <th>4</th>\n",
       "      <td>Binary operations on int DataMatrix</td>\n",
       "      <td>2010-09-29T00:50:52Z</td>\n",
       "      <td>[]</td>\n",
       "      <td>2011-01-01T23:50:12Z</td>\n",
       "      <td>wesm</td>\n",
       "      <td>337728</td>\n",
       "    </tr>\n",
       "  </tbody>\n",
       "</table>\n",
       "</div>"
      ],
      "text/plain": [
       "                                               title            created_at  \\\n",
       "0  Enable element-wise comparison operations in D...  2010-09-29T00:45:31Z   \n",
       "2                              reindex_like function  2010-09-29T00:50:13Z   \n",
       "4                Binary operations on int DataMatrix  2010-09-29T00:50:52Z   \n",
       "\n",
       "  labels             closed_at  user      id  \n",
       "0     []  2011-02-19T23:13:48Z  wesm  337721  \n",
       "2     []  2010-12-17T02:57:33Z  wesm  337726  \n",
       "4     []  2011-01-01T23:50:12Z  wesm  337728  "
      ]
     },
     "execution_count": 12,
     "metadata": {},
     "output_type": "execute_result"
    }
   ],
   "source": [
    "### ------ Task 2 ---------- ###\n",
    "# Remove duplicate rows by id from the DataFrame you just created using the id column's duplicated method.\n",
    "data_cl = data.drop_duplicates([\"id\"])\n",
    "data_cl.head(3)"
   ]
  },
  {
   "cell_type": "code",
   "execution_count": 13,
   "metadata": {
    "collapsed": true
   },
   "outputs": [],
   "source": [
    "### ------ Task 4 ---------- ###\n",
    "# Convert the created_at and closed_at columns from string to datetime type."
   ]
  },
  {
   "cell_type": "code",
   "execution_count": 14,
   "metadata": {
    "collapsed": false
   },
   "outputs": [
    {
     "data": {
      "text/plain": [
       "title         object\n",
       "created_at    object\n",
       "labels        object\n",
       "closed_at     object\n",
       "user          object\n",
       "id             int64\n",
       "dtype: object"
      ]
     },
     "execution_count": 14,
     "metadata": {},
     "output_type": "execute_result"
    }
   ],
   "source": [
    "data_cl.dtypes"
   ]
  },
  {
   "cell_type": "code",
   "execution_count": 15,
   "metadata": {
    "collapsed": false
   },
   "outputs": [
    {
     "data": {
      "text/plain": [
       "Int64Index([   0,    2,    4,    6,    8,   10,   12,   14,   16,   18,\n",
       "            ...\n",
       "            2958, 2959, 2960, 2961, 2962, 2963, 2964, 2965, 2966, 2967],\n",
       "           dtype='int64', length=2934)"
      ]
     },
     "execution_count": 15,
     "metadata": {},
     "output_type": "execute_result"
    }
   ],
   "source": [
    "data_cl.index"
   ]
  },
  {
   "cell_type": "code",
   "execution_count": 16,
   "metadata": {
    "collapsed": false
   },
   "outputs": [
    {
     "name": "stderr",
     "output_type": "stream",
     "text": [
      "/Users/farahshih/anaconda/lib/python3.5/site-packages/ipykernel/__main__.py:1: SettingWithCopyWarning: \n",
      "A value is trying to be set on a copy of a slice from a DataFrame.\n",
      "Try using .loc[row_indexer,col_indexer] = value instead\n",
      "\n",
      "See the caveats in the documentation: http://pandas.pydata.org/pandas-docs/stable/indexing.html#indexing-view-versus-copy\n",
      "  if __name__ == '__main__':\n",
      "/Users/farahshih/anaconda/lib/python3.5/site-packages/ipykernel/__main__.py:2: SettingWithCopyWarning: \n",
      "A value is trying to be set on a copy of a slice from a DataFrame.\n",
      "Try using .loc[row_indexer,col_indexer] = value instead\n",
      "\n",
      "See the caveats in the documentation: http://pandas.pydata.org/pandas-docs/stable/indexing.html#indexing-view-versus-copy\n",
      "  from ipykernel import kernelapp as app\n"
     ]
    },
    {
     "data": {
      "text/plain": [
       "title                 object\n",
       "created_at    datetime64[ns]\n",
       "labels                object\n",
       "closed_at     datetime64[ns]\n",
       "user                  object\n",
       "id                     int64\n",
       "dtype: object"
      ]
     },
     "execution_count": 16,
     "metadata": {},
     "output_type": "execute_result"
    }
   ],
   "source": [
    "data_cl['created_at'] = pd.to_datetime(data_cl['created_at'], format='%Y-%m-%d %H:%M:%S')\n",
    "data_cl['closed_at'] = pd.to_datetime(data_cl['closed_at'], format='%Y-%m-%d %H:%M:%S')\n",
    "data_cl.dtypes"
   ]
  },
  {
   "cell_type": "code",
   "execution_count": 17,
   "metadata": {
    "collapsed": false
   },
   "outputs": [],
   "source": [
    "# data_cl['created_at'] =pd.to_datetime(data_cl['created_at'], format='%Y-%m-%d %H:%M:%S')\n",
    "# data_cl['created_at'] = data_cl['created_at'].apply(lambda x: pd.to_datetime(x,format='%Y-%m-%d %H:%M:%S'))\n",
    "# data_cl.loc[:,'created_at'] = data_cl.created_at.apply(lambda x: pd.to_datetime(x,format='%Y-%m-%d %H:%M:%S'))"
   ]
  },
  {
   "cell_type": "code",
   "execution_count": 18,
   "metadata": {
    "collapsed": false
   },
   "outputs": [
    {
     "data": {
      "text/html": [
       "<div>\n",
       "<table border=\"1\" class=\"dataframe\">\n",
       "  <thead>\n",
       "    <tr style=\"text-align: right;\">\n",
       "      <th></th>\n",
       "      <th>title</th>\n",
       "      <th>created_at</th>\n",
       "      <th>labels</th>\n",
       "      <th>closed_at</th>\n",
       "      <th>user</th>\n",
       "      <th>id</th>\n",
       "    </tr>\n",
       "  </thead>\n",
       "  <tbody>\n",
       "    <tr>\n",
       "      <th>0</th>\n",
       "      <td>Enable element-wise comparison operations in D...</td>\n",
       "      <td>2010-09-29 00:45:31</td>\n",
       "      <td>[]</td>\n",
       "      <td>2011-02-19 23:13:48</td>\n",
       "      <td>wesm</td>\n",
       "      <td>337721</td>\n",
       "    </tr>\n",
       "    <tr>\n",
       "      <th>2</th>\n",
       "      <td>reindex_like function</td>\n",
       "      <td>2010-09-29 00:50:13</td>\n",
       "      <td>[]</td>\n",
       "      <td>2010-12-17 02:57:33</td>\n",
       "      <td>wesm</td>\n",
       "      <td>337726</td>\n",
       "    </tr>\n",
       "    <tr>\n",
       "      <th>4</th>\n",
       "      <td>Binary operations on int DataMatrix</td>\n",
       "      <td>2010-09-29 00:50:52</td>\n",
       "      <td>[]</td>\n",
       "      <td>2011-01-01 23:50:12</td>\n",
       "      <td>wesm</td>\n",
       "      <td>337728</td>\n",
       "    </tr>\n",
       "  </tbody>\n",
       "</table>\n",
       "</div>"
      ],
      "text/plain": [
       "                                               title          created_at  \\\n",
       "0  Enable element-wise comparison operations in D... 2010-09-29 00:45:31   \n",
       "2                              reindex_like function 2010-09-29 00:50:13   \n",
       "4                Binary operations on int DataMatrix 2010-09-29 00:50:52   \n",
       "\n",
       "  labels           closed_at  user      id  \n",
       "0     [] 2011-02-19 23:13:48  wesm  337721  \n",
       "2     [] 2010-12-17 02:57:33  wesm  337726  \n",
       "4     [] 2011-01-01 23:50:12  wesm  337728  "
      ]
     },
     "execution_count": 18,
     "metadata": {},
     "output_type": "execute_result"
    }
   ],
   "source": [
    "data_cl.head(3)"
   ]
  },
  {
   "cell_type": "code",
   "execution_count": 19,
   "metadata": {
    "collapsed": true
   },
   "outputs": [],
   "source": [
    "### -------- Task 5 --------- ###\n",
    "# Now construct appropriate time series and pandas functions to make the following plots:\n",
    "# Number of issues created by month"
   ]
  },
  {
   "cell_type": "code",
   "execution_count": 20,
   "metadata": {
    "collapsed": false
   },
   "outputs": [
    {
     "data": {
      "text/html": [
       "<div>\n",
       "<table border=\"1\" class=\"dataframe\">\n",
       "  <thead>\n",
       "    <tr style=\"text-align: right;\">\n",
       "      <th></th>\n",
       "      <th>title</th>\n",
       "      <th>labels</th>\n",
       "      <th>closed_at</th>\n",
       "      <th>user</th>\n",
       "      <th>id</th>\n",
       "    </tr>\n",
       "    <tr>\n",
       "      <th>created_at</th>\n",
       "      <th></th>\n",
       "      <th></th>\n",
       "      <th></th>\n",
       "      <th></th>\n",
       "      <th></th>\n",
       "    </tr>\n",
       "  </thead>\n",
       "  <tbody>\n",
       "    <tr>\n",
       "      <th>2010-09-29 00:45:31</th>\n",
       "      <td>1</td>\n",
       "      <td>1</td>\n",
       "      <td>1</td>\n",
       "      <td>1</td>\n",
       "      <td>1</td>\n",
       "    </tr>\n",
       "    <tr>\n",
       "      <th>2010-09-29 00:50:13</th>\n",
       "      <td>1</td>\n",
       "      <td>1</td>\n",
       "      <td>1</td>\n",
       "      <td>1</td>\n",
       "      <td>1</td>\n",
       "    </tr>\n",
       "    <tr>\n",
       "      <th>2010-09-29 00:50:52</th>\n",
       "      <td>1</td>\n",
       "      <td>1</td>\n",
       "      <td>1</td>\n",
       "      <td>1</td>\n",
       "      <td>1</td>\n",
       "    </tr>\n",
       "  </tbody>\n",
       "</table>\n",
       "</div>"
      ],
      "text/plain": [
       "                     title  labels  closed_at  user  id\n",
       "created_at                                             \n",
       "2010-09-29 00:45:31      1       1          1     1   1\n",
       "2010-09-29 00:50:13      1       1          1     1   1\n",
       "2010-09-29 00:50:52      1       1          1     1   1"
      ]
     },
     "execution_count": 20,
     "metadata": {},
     "output_type": "execute_result"
    }
   ],
   "source": [
    "tmp2 = data_cl.groupby('created_at').count()\n",
    "tmp2.head(3)"
   ]
  },
  {
   "cell_type": "code",
   "execution_count": 21,
   "metadata": {
    "collapsed": false
   },
   "outputs": [
    {
     "name": "stderr",
     "output_type": "stream",
     "text": [
      "/Users/farahshih/anaconda/lib/python3.5/site-packages/ipykernel/__main__.py:1: FutureWarning: how in .resample() is deprecated\n",
      "the new syntax is .resample(...).sum()\n",
      "  if __name__ == '__main__':\n"
     ]
    },
    {
     "data": {
      "text/html": [
       "<div>\n",
       "<table border=\"1\" class=\"dataframe\">\n",
       "  <thead>\n",
       "    <tr style=\"text-align: right;\">\n",
       "      <th></th>\n",
       "      <th>title</th>\n",
       "      <th>labels</th>\n",
       "      <th>closed_at</th>\n",
       "      <th>user</th>\n",
       "      <th>id</th>\n",
       "    </tr>\n",
       "    <tr>\n",
       "      <th>created_at</th>\n",
       "      <th></th>\n",
       "      <th></th>\n",
       "      <th></th>\n",
       "      <th></th>\n",
       "      <th></th>\n",
       "    </tr>\n",
       "  </thead>\n",
       "  <tbody>\n",
       "    <tr>\n",
       "      <th>2010-09-30</th>\n",
       "      <td>11.0</td>\n",
       "      <td>11.0</td>\n",
       "      <td>11.0</td>\n",
       "      <td>11.0</td>\n",
       "      <td>11.0</td>\n",
       "    </tr>\n",
       "    <tr>\n",
       "      <th>2010-10-31</th>\n",
       "      <td>8.0</td>\n",
       "      <td>8.0</td>\n",
       "      <td>8.0</td>\n",
       "      <td>8.0</td>\n",
       "      <td>8.0</td>\n",
       "    </tr>\n",
       "    <tr>\n",
       "      <th>2010-11-30</th>\n",
       "      <td>2.0</td>\n",
       "      <td>2.0</td>\n",
       "      <td>2.0</td>\n",
       "      <td>2.0</td>\n",
       "      <td>2.0</td>\n",
       "    </tr>\n",
       "  </tbody>\n",
       "</table>\n",
       "</div>"
      ],
      "text/plain": [
       "            title  labels  closed_at  user    id\n",
       "created_at                                      \n",
       "2010-09-30   11.0    11.0       11.0  11.0  11.0\n",
       "2010-10-31    8.0     8.0        8.0   8.0   8.0\n",
       "2010-11-30    2.0     2.0        2.0   2.0   2.0"
      ]
     },
     "execution_count": 21,
     "metadata": {},
     "output_type": "execute_result"
    }
   ],
   "source": [
    "tmp3 = tmp2.resample('M', how='sum')  ## 'M' means aggregate by month, 'D' means day, 'H' = hour, '3T' = 3 minutes, '30S' = 30 sec.\n",
    "tmp3.head(3)\n",
    "## Another way is to set a new column as \"Year+Month\" and directly groupby that column"
   ]
  },
  {
   "cell_type": "code",
   "execution_count": 22,
   "metadata": {
    "collapsed": true
   },
   "outputs": [],
   "source": [
    "from pylab import rcParams\n",
    "rcParams['figure.figsize'] = 10, 10"
   ]
  },
  {
   "cell_type": "code",
   "execution_count": 23,
   "metadata": {
    "collapsed": false
   },
   "outputs": [
    {
     "data": {
      "text/plain": [
       "<matplotlib.text.Text at 0x116e396d8>"
      ]
     },
     "execution_count": 23,
     "metadata": {},
     "output_type": "execute_result"
    },
    {
     "data": {
      "image/png": "[encoded data removed]",
      "text/plain": [
       "<matplotlib.figure.Figure at 0x116c5ca90>"
      ]
     },
     "metadata": {},
     "output_type": "display_data"
    }
   ],
   "source": [
    "plt.plot(tmp3) \n",
    "plt.title('Number of issues created by month')\n",
    "plt.xlabel('Time (Month)')\n",
    "plt.ylabel('No. of Issues')"
   ]
  },
  {
   "cell_type": "code",
   "execution_count": 24,
   "metadata": {
    "collapsed": true
   },
   "outputs": [],
   "source": [
    "# 5) Now construct appropriate time series and pandas functions to make the following plots:\n",
    "# Number of distinct users creating issues each month (hint: you can pass a function to resample's how argument, and there's nothing \n",
    "# wrong with having string values in a TimeSeries)"
   ]
  },
  {
   "cell_type": "code",
   "execution_count": 25,
   "metadata": {
    "collapsed": false
   },
   "outputs": [
    {
     "data": {
      "text/plain": [
       "created_at\n",
       "2010-09-29 00:45:31    1\n",
       "2010-09-29 00:50:13    1\n",
       "2010-09-29 00:50:52    1\n",
       "Name: user, dtype: int64"
      ]
     },
     "execution_count": 25,
     "metadata": {},
     "output_type": "execute_result"
    }
   ],
   "source": [
    "test = data_cl.groupby(['created_at']).user.nunique()\n",
    "test.head(3)"
   ]
  },
  {
   "cell_type": "code",
   "execution_count": 26,
   "metadata": {
    "collapsed": true
   },
   "outputs": [],
   "source": [
    "data_cl.set_index('created_at', inplace=True) ## setting \"created_at\" as the index"
   ]
  },
  {
   "cell_type": "code",
   "execution_count": 27,
   "metadata": {
    "collapsed": false
   },
   "outputs": [],
   "source": [
    "#data_cl.index[2].month\n",
    "#data_cl.index[2].date"
   ]
  },
  {
   "cell_type": "code",
   "execution_count": 28,
   "metadata": {
    "collapsed": false
   },
   "outputs": [
    {
     "name": "stderr",
     "output_type": "stream",
     "text": [
      "/Users/farahshih/anaconda/lib/python3.5/site-packages/ipykernel/__main__.py:1: FutureWarning: how in .resample() is deprecated\n",
      "the new syntax is .resample(...)..apply(<func>)\n",
      "  if __name__ == '__main__':\n"
     ]
    },
    {
     "data": {
      "text/plain": [
       "created_at\n",
       "2010-09-30    2\n",
       "2010-10-31    3\n",
       "2010-11-30    2\n",
       "Freq: M, Name: user, dtype: int64"
      ]
     },
     "execution_count": 28,
     "metadata": {},
     "output_type": "execute_result"
    }
   ],
   "source": [
    "tmp4 = data_cl.user.resample('M',lambda x: x.nunique())\n",
    "tmp4.head(3)"
   ]
  },
  {
   "cell_type": "code",
   "execution_count": 29,
   "metadata": {
    "collapsed": false
   },
   "outputs": [
    {
     "data": {
      "text/plain": [
       "<matplotlib.text.Text at 0x117a154a8>"
      ]
     },
     "execution_count": 29,
     "metadata": {},
     "output_type": "execute_result"
    },
    {
     "data": {
      "image/png": "[encoded data removed]",
      "text/plain": [
       "<matplotlib.figure.Figure at 0x1173771d0>"
      ]
     },
     "metadata": {},
     "output_type": "display_data"
    }
   ],
   "source": [
    "plt.plot(tmp4)\n",
    "plt.title('Number of distinck users creating issues each month')\n",
    "plt.xlabel('Time(week)')\n",
    "plt.ylabel('Number of distinct users')"
   ]
  },
  {
   "cell_type": "code",
   "execution_count": 30,
   "metadata": {
    "collapsed": true
   },
   "outputs": [],
   "source": [
    "### ------------ Task 6 -----------------\n",
    "# Make a table and an accompanying plot illustrating:\n",
    "# The mean number of days it took for issues to be closed by the month they were opened. In other words, for closed issues created \n",
    "# in August 2012, how long were they open on average? (hint: use the total_seconds function on the timedelta objects computed when \n",
    "# subtracting datetime objects). Also show the number of issues in each month in the table."
   ]
  },
  {
   "cell_type": "code",
   "execution_count": 31,
   "metadata": {
    "collapsed": false
   },
   "outputs": [],
   "source": [
    "data_cl = data_cl.reset_index()"
   ]
  },
  {
   "cell_type": "code",
   "execution_count": 32,
   "metadata": {
    "collapsed": false
   },
   "outputs": [
    {
     "data": {
      "text/html": [
       "<div>\n",
       "<table border=\"1\" class=\"dataframe\">\n",
       "  <thead>\n",
       "    <tr style=\"text-align: right;\">\n",
       "      <th></th>\n",
       "      <th>created_at</th>\n",
       "      <th>title</th>\n",
       "      <th>labels</th>\n",
       "      <th>closed_at</th>\n",
       "      <th>user</th>\n",
       "      <th>id</th>\n",
       "    </tr>\n",
       "  </thead>\n",
       "  <tbody>\n",
       "    <tr>\n",
       "      <th>0</th>\n",
       "      <td>2010-09-29 00:45:31</td>\n",
       "      <td>Enable element-wise comparison operations in D...</td>\n",
       "      <td>[]</td>\n",
       "      <td>2011-02-19 23:13:48</td>\n",
       "      <td>wesm</td>\n",
       "      <td>337721</td>\n",
       "    </tr>\n",
       "    <tr>\n",
       "      <th>1</th>\n",
       "      <td>2010-09-29 00:50:13</td>\n",
       "      <td>reindex_like function</td>\n",
       "      <td>[]</td>\n",
       "      <td>2010-12-17 02:57:33</td>\n",
       "      <td>wesm</td>\n",
       "      <td>337726</td>\n",
       "    </tr>\n",
       "    <tr>\n",
       "      <th>2</th>\n",
       "      <td>2010-09-29 00:50:52</td>\n",
       "      <td>Binary operations on int DataMatrix</td>\n",
       "      <td>[]</td>\n",
       "      <td>2011-01-01 23:50:12</td>\n",
       "      <td>wesm</td>\n",
       "      <td>337728</td>\n",
       "    </tr>\n",
       "  </tbody>\n",
       "</table>\n",
       "</div>"
      ],
      "text/plain": [
       "           created_at                                              title  \\\n",
       "0 2010-09-29 00:45:31  Enable element-wise comparison operations in D...   \n",
       "1 2010-09-29 00:50:13                              reindex_like function   \n",
       "2 2010-09-29 00:50:52                Binary operations on int DataMatrix   \n",
       "\n",
       "  labels           closed_at  user      id  \n",
       "0     [] 2011-02-19 23:13:48  wesm  337721  \n",
       "1     [] 2010-12-17 02:57:33  wesm  337726  \n",
       "2     [] 2011-01-01 23:50:12  wesm  337728  "
      ]
     },
     "execution_count": 32,
     "metadata": {},
     "output_type": "execute_result"
    }
   ],
   "source": [
    "data_cl.head(3)"
   ]
  },
  {
   "cell_type": "code",
   "execution_count": 33,
   "metadata": {
    "collapsed": false
   },
   "outputs": [
    {
     "data": {
      "text/plain": [
       "12436097.0"
      ]
     },
     "execution_count": 33,
     "metadata": {},
     "output_type": "execute_result"
    }
   ],
   "source": [
    "test = data_cl.closed_at[0] - data_cl.created_at[0]\n",
    "test.total_seconds()"
   ]
  },
  {
   "cell_type": "code",
   "execution_count": 34,
   "metadata": {
    "collapsed": false
   },
   "outputs": [],
   "source": [
    "data_cl[\"ttl_period\"] = (data_cl.closed_at[:] - data_cl.created_at[:])"
   ]
  },
  {
   "cell_type": "code",
   "execution_count": 35,
   "metadata": {
    "collapsed": false
   },
   "outputs": [
    {
     "data": {
      "text/html": [
       "<div>\n",
       "<table border=\"1\" class=\"dataframe\">\n",
       "  <thead>\n",
       "    <tr style=\"text-align: right;\">\n",
       "      <th></th>\n",
       "      <th>created_at</th>\n",
       "      <th>title</th>\n",
       "      <th>labels</th>\n",
       "      <th>closed_at</th>\n",
       "      <th>user</th>\n",
       "      <th>id</th>\n",
       "      <th>ttl_period</th>\n",
       "    </tr>\n",
       "  </thead>\n",
       "  <tbody>\n",
       "    <tr>\n",
       "      <th>0</th>\n",
       "      <td>2010-09-29 00:45:31</td>\n",
       "      <td>Enable element-wise comparison operations in D...</td>\n",
       "      <td>[]</td>\n",
       "      <td>2011-02-19 23:13:48</td>\n",
       "      <td>wesm</td>\n",
       "      <td>337721</td>\n",
       "      <td>143 days 22:28:17</td>\n",
       "    </tr>\n",
       "    <tr>\n",
       "      <th>1</th>\n",
       "      <td>2010-09-29 00:50:13</td>\n",
       "      <td>reindex_like function</td>\n",
       "      <td>[]</td>\n",
       "      <td>2010-12-17 02:57:33</td>\n",
       "      <td>wesm</td>\n",
       "      <td>337726</td>\n",
       "      <td>79 days 02:07:20</td>\n",
       "    </tr>\n",
       "    <tr>\n",
       "      <th>2</th>\n",
       "      <td>2010-09-29 00:50:52</td>\n",
       "      <td>Binary operations on int DataMatrix</td>\n",
       "      <td>[]</td>\n",
       "      <td>2011-01-01 23:50:12</td>\n",
       "      <td>wesm</td>\n",
       "      <td>337728</td>\n",
       "      <td>94 days 22:59:20</td>\n",
       "    </tr>\n",
       "  </tbody>\n",
       "</table>\n",
       "</div>"
      ],
      "text/plain": [
       "           created_at                                              title  \\\n",
       "0 2010-09-29 00:45:31  Enable element-wise comparison operations in D...   \n",
       "1 2010-09-29 00:50:13                              reindex_like function   \n",
       "2 2010-09-29 00:50:52                Binary operations on int DataMatrix   \n",
       "\n",
       "  labels           closed_at  user      id        ttl_period  \n",
       "0     [] 2011-02-19 23:13:48  wesm  337721 143 days 22:28:17  \n",
       "1     [] 2010-12-17 02:57:33  wesm  337726  79 days 02:07:20  \n",
       "2     [] 2011-01-01 23:50:12  wesm  337728  94 days 22:59:20  "
      ]
     },
     "execution_count": 35,
     "metadata": {},
     "output_type": "execute_result"
    }
   ],
   "source": [
    "data_cl.head(3)"
   ]
  },
  {
   "cell_type": "code",
   "execution_count": 36,
   "metadata": {
    "collapsed": false
   },
   "outputs": [],
   "source": [
    "for i in range(len(data_cl.index)):\n",
    "    data_cl.loc[i,'ttl_days'] = (data_cl.loc[i,'ttl_period'].total_seconds())/(24*60*60)"
   ]
  },
  {
   "cell_type": "code",
   "execution_count": 37,
   "metadata": {
    "collapsed": false
   },
   "outputs": [
    {
     "data": {
      "text/html": [
       "<div>\n",
       "<table border=\"1\" class=\"dataframe\">\n",
       "  <thead>\n",
       "    <tr style=\"text-align: right;\">\n",
       "      <th></th>\n",
       "      <th>created_at</th>\n",
       "      <th>title</th>\n",
       "      <th>labels</th>\n",
       "      <th>closed_at</th>\n",
       "      <th>user</th>\n",
       "      <th>id</th>\n",
       "      <th>ttl_period</th>\n",
       "      <th>ttl_days</th>\n",
       "    </tr>\n",
       "  </thead>\n",
       "  <tbody>\n",
       "    <tr>\n",
       "      <th>0</th>\n",
       "      <td>2010-09-29 00:45:31</td>\n",
       "      <td>Enable element-wise comparison operations in D...</td>\n",
       "      <td>[]</td>\n",
       "      <td>2011-02-19 23:13:48</td>\n",
       "      <td>wesm</td>\n",
       "      <td>337721</td>\n",
       "      <td>143 days 22:28:17</td>\n",
       "      <td>143.936308</td>\n",
       "    </tr>\n",
       "    <tr>\n",
       "      <th>1</th>\n",
       "      <td>2010-09-29 00:50:13</td>\n",
       "      <td>reindex_like function</td>\n",
       "      <td>[]</td>\n",
       "      <td>2010-12-17 02:57:33</td>\n",
       "      <td>wesm</td>\n",
       "      <td>337726</td>\n",
       "      <td>79 days 02:07:20</td>\n",
       "      <td>79.088426</td>\n",
       "    </tr>\n",
       "    <tr>\n",
       "      <th>2</th>\n",
       "      <td>2010-09-29 00:50:52</td>\n",
       "      <td>Binary operations on int DataMatrix</td>\n",
       "      <td>[]</td>\n",
       "      <td>2011-01-01 23:50:12</td>\n",
       "      <td>wesm</td>\n",
       "      <td>337728</td>\n",
       "      <td>94 days 22:59:20</td>\n",
       "      <td>94.957870</td>\n",
       "    </tr>\n",
       "  </tbody>\n",
       "</table>\n",
       "</div>"
      ],
      "text/plain": [
       "           created_at                                              title  \\\n",
       "0 2010-09-29 00:45:31  Enable element-wise comparison operations in D...   \n",
       "1 2010-09-29 00:50:13                              reindex_like function   \n",
       "2 2010-09-29 00:50:52                Binary operations on int DataMatrix   \n",
       "\n",
       "  labels           closed_at  user      id        ttl_period    ttl_days  \n",
       "0     [] 2011-02-19 23:13:48  wesm  337721 143 days 22:28:17  143.936308  \n",
       "1     [] 2010-12-17 02:57:33  wesm  337726  79 days 02:07:20   79.088426  \n",
       "2     [] 2011-01-01 23:50:12  wesm  337728  94 days 22:59:20   94.957870  "
      ]
     },
     "execution_count": 37,
     "metadata": {},
     "output_type": "execute_result"
    }
   ],
   "source": [
    "data_cl.head(3)"
   ]
  },
  {
   "cell_type": "code",
   "execution_count": 38,
   "metadata": {
    "collapsed": false
   },
   "outputs": [
    {
     "data": {
      "text/html": [
       "<div>\n",
       "<table border=\"1\" class=\"dataframe\">\n",
       "  <thead>\n",
       "    <tr style=\"text-align: right;\">\n",
       "      <th></th>\n",
       "      <th>id</th>\n",
       "      <th>ttl_days</th>\n",
       "    </tr>\n",
       "    <tr>\n",
       "      <th>created_at</th>\n",
       "      <th></th>\n",
       "      <th></th>\n",
       "    </tr>\n",
       "  </thead>\n",
       "  <tbody>\n",
       "    <tr>\n",
       "      <th>2010-09-29 00:45:31</th>\n",
       "      <td>337721</td>\n",
       "      <td>143.936308</td>\n",
       "    </tr>\n",
       "    <tr>\n",
       "      <th>2010-09-29 00:50:13</th>\n",
       "      <td>337726</td>\n",
       "      <td>79.088426</td>\n",
       "    </tr>\n",
       "    <tr>\n",
       "      <th>2010-09-29 00:50:52</th>\n",
       "      <td>337728</td>\n",
       "      <td>94.957870</td>\n",
       "    </tr>\n",
       "  </tbody>\n",
       "</table>\n",
       "</div>"
      ],
      "text/plain": [
       "                         id    ttl_days\n",
       "created_at                             \n",
       "2010-09-29 00:45:31  337721  143.936308\n",
       "2010-09-29 00:50:13  337726   79.088426\n",
       "2010-09-29 00:50:52  337728   94.957870"
      ]
     },
     "execution_count": 38,
     "metadata": {},
     "output_type": "execute_result"
    }
   ],
   "source": [
    "tmp5 = data_cl.groupby([\"created_at\"]).sum()\n",
    "tmp5.head(3)"
   ]
  },
  {
   "cell_type": "code",
   "execution_count": 39,
   "metadata": {
    "collapsed": false
   },
   "outputs": [
    {
     "data": {
      "text/plain": [
       "pandas.core.frame.DataFrame"
      ]
     },
     "execution_count": 39,
     "metadata": {},
     "output_type": "execute_result"
    }
   ],
   "source": [
    "type(tmp5)"
   ]
  },
  {
   "cell_type": "code",
   "execution_count": 40,
   "metadata": {
    "collapsed": false
   },
   "outputs": [
    {
     "name": "stderr",
     "output_type": "stream",
     "text": [
      "/Users/farahshih/anaconda/lib/python3.5/site-packages/ipykernel/__main__.py:1: FutureWarning: how in .resample() is deprecated\n",
      "the new syntax is .resample(...).mean()\n",
      "  if __name__ == '__main__':\n"
     ]
    },
    {
     "data": {
      "text/html": [
       "<div>\n",
       "<table border=\"1\" class=\"dataframe\">\n",
       "  <thead>\n",
       "    <tr style=\"text-align: right;\">\n",
       "      <th></th>\n",
       "      <th>id</th>\n",
       "      <th>ttl_days</th>\n",
       "    </tr>\n",
       "    <tr>\n",
       "      <th>created_at</th>\n",
       "      <th></th>\n",
       "      <th></th>\n",
       "    </tr>\n",
       "  </thead>\n",
       "  <tbody>\n",
       "    <tr>\n",
       "      <th>2010-09-30</th>\n",
       "      <td>339058.181818</td>\n",
       "      <td>138.126743</td>\n",
       "    </tr>\n",
       "    <tr>\n",
       "      <th>2010-10-31</th>\n",
       "      <td>358230.000000</td>\n",
       "      <td>250.998575</td>\n",
       "    </tr>\n",
       "    <tr>\n",
       "      <th>2010-11-30</th>\n",
       "      <td>428772.500000</td>\n",
       "      <td>13.748501</td>\n",
       "    </tr>\n",
       "  </tbody>\n",
       "</table>\n",
       "</div>"
      ],
      "text/plain": [
       "                       id    ttl_days\n",
       "created_at                           \n",
       "2010-09-30  339058.181818  138.126743\n",
       "2010-10-31  358230.000000  250.998575\n",
       "2010-11-30  428772.500000   13.748501"
      ]
     },
     "execution_count": 40,
     "metadata": {},
     "output_type": "execute_result"
    }
   ],
   "source": [
    "tmp5 = tmp5.resample(\"M\", how=\"mean\")\n",
    "tmp5.head(3)"
   ]
  },
  {
   "cell_type": "code",
   "execution_count": 41,
   "metadata": {
    "collapsed": false
   },
   "outputs": [
    {
     "data": {
      "text/html": [
       "<div>\n",
       "<table border=\"1\" class=\"dataframe\">\n",
       "  <thead>\n",
       "    <tr style=\"text-align: right;\">\n",
       "      <th></th>\n",
       "      <th>title</th>\n",
       "      <th>labels</th>\n",
       "      <th>closed_at</th>\n",
       "      <th>user</th>\n",
       "      <th>id</th>\n",
       "      <th>ttl_period</th>\n",
       "      <th>ttl_days</th>\n",
       "    </tr>\n",
       "    <tr>\n",
       "      <th>created_at</th>\n",
       "      <th></th>\n",
       "      <th></th>\n",
       "      <th></th>\n",
       "      <th></th>\n",
       "      <th></th>\n",
       "      <th></th>\n",
       "      <th></th>\n",
       "    </tr>\n",
       "  </thead>\n",
       "  <tbody>\n",
       "    <tr>\n",
       "      <th>2010-09-29 00:45:31</th>\n",
       "      <td>1</td>\n",
       "      <td>1</td>\n",
       "      <td>1</td>\n",
       "      <td>1</td>\n",
       "      <td>1</td>\n",
       "      <td>1</td>\n",
       "      <td>1</td>\n",
       "    </tr>\n",
       "    <tr>\n",
       "      <th>2010-09-29 00:50:13</th>\n",
       "      <td>1</td>\n",
       "      <td>1</td>\n",
       "      <td>1</td>\n",
       "      <td>1</td>\n",
       "      <td>1</td>\n",
       "      <td>1</td>\n",
       "      <td>1</td>\n",
       "    </tr>\n",
       "    <tr>\n",
       "      <th>2010-09-29 00:50:52</th>\n",
       "      <td>1</td>\n",
       "      <td>1</td>\n",
       "      <td>1</td>\n",
       "      <td>1</td>\n",
       "      <td>1</td>\n",
       "      <td>1</td>\n",
       "      <td>1</td>\n",
       "    </tr>\n",
       "  </tbody>\n",
       "</table>\n",
       "</div>"
      ],
      "text/plain": [
       "                     title  labels  closed_at  user  id  ttl_period  ttl_days\n",
       "created_at                                                                   \n",
       "2010-09-29 00:45:31      1       1          1     1   1           1         1\n",
       "2010-09-29 00:50:13      1       1          1     1   1           1         1\n",
       "2010-09-29 00:50:52      1       1          1     1   1           1         1"
      ]
     },
     "execution_count": 41,
     "metadata": {},
     "output_type": "execute_result"
    }
   ],
   "source": [
    "tmp6 = data_cl.groupby([\"created_at\"]).count()\n",
    "tmp6.head(3)"
   ]
  },
  {
   "cell_type": "code",
   "execution_count": 42,
   "metadata": {
    "collapsed": false
   },
   "outputs": [
    {
     "name": "stderr",
     "output_type": "stream",
     "text": [
      "/Users/farahshih/anaconda/lib/python3.5/site-packages/ipykernel/__main__.py:1: FutureWarning: how in .resample() is deprecated\n",
      "the new syntax is .resample(...).sum()\n",
      "  if __name__ == '__main__':\n"
     ]
    },
    {
     "data": {
      "text/html": [
       "<div>\n",
       "<table border=\"1\" class=\"dataframe\">\n",
       "  <thead>\n",
       "    <tr style=\"text-align: right;\">\n",
       "      <th></th>\n",
       "      <th>title</th>\n",
       "      <th>labels</th>\n",
       "      <th>closed_at</th>\n",
       "      <th>user</th>\n",
       "      <th>id</th>\n",
       "      <th>ttl_period</th>\n",
       "      <th>ttl_days</th>\n",
       "    </tr>\n",
       "    <tr>\n",
       "      <th>created_at</th>\n",
       "      <th></th>\n",
       "      <th></th>\n",
       "      <th></th>\n",
       "      <th></th>\n",
       "      <th></th>\n",
       "      <th></th>\n",
       "      <th></th>\n",
       "    </tr>\n",
       "  </thead>\n",
       "  <tbody>\n",
       "    <tr>\n",
       "      <th>2010-09-30</th>\n",
       "      <td>11.0</td>\n",
       "      <td>11.0</td>\n",
       "      <td>11.0</td>\n",
       "      <td>11.0</td>\n",
       "      <td>11.0</td>\n",
       "      <td>11.0</td>\n",
       "      <td>11.0</td>\n",
       "    </tr>\n",
       "    <tr>\n",
       "      <th>2010-10-31</th>\n",
       "      <td>8.0</td>\n",
       "      <td>8.0</td>\n",
       "      <td>8.0</td>\n",
       "      <td>8.0</td>\n",
       "      <td>8.0</td>\n",
       "      <td>8.0</td>\n",
       "      <td>8.0</td>\n",
       "    </tr>\n",
       "    <tr>\n",
       "      <th>2010-11-30</th>\n",
       "      <td>2.0</td>\n",
       "      <td>2.0</td>\n",
       "      <td>2.0</td>\n",
       "      <td>2.0</td>\n",
       "      <td>2.0</td>\n",
       "      <td>2.0</td>\n",
       "      <td>2.0</td>\n",
       "    </tr>\n",
       "  </tbody>\n",
       "</table>\n",
       "</div>"
      ],
      "text/plain": [
       "            title  labels  closed_at  user    id  ttl_period  ttl_days\n",
       "created_at                                                            \n",
       "2010-09-30   11.0    11.0       11.0  11.0  11.0        11.0      11.0\n",
       "2010-10-31    8.0     8.0        8.0   8.0   8.0         8.0       8.0\n",
       "2010-11-30    2.0     2.0        2.0   2.0   2.0         2.0       2.0"
      ]
     },
     "execution_count": 42,
     "metadata": {},
     "output_type": "execute_result"
    }
   ],
   "source": [
    "tmp6 = tmp6.resample(\"M\", how=\"sum\")\n",
    "tmp6.head(3)"
   ]
  },
  {
   "cell_type": "code",
   "execution_count": 43,
   "metadata": {
    "collapsed": false
   },
   "outputs": [],
   "source": [
    "df1 = tmp6.reset_index()[['created_at','title']]\n",
    "df2 = tmp5.reset_index()[['created_at','ttl_days']]"
   ]
  },
  {
   "cell_type": "code",
   "execution_count": 44,
   "metadata": {
    "collapsed": false
   },
   "outputs": [
    {
     "data": {
      "text/html": [
       "<div>\n",
       "<table border=\"1\" class=\"dataframe\">\n",
       "  <thead>\n",
       "    <tr style=\"text-align: right;\">\n",
       "      <th></th>\n",
       "      <th>created_at</th>\n",
       "      <th>title</th>\n",
       "      <th>ttl_days</th>\n",
       "    </tr>\n",
       "  </thead>\n",
       "  <tbody>\n",
       "    <tr>\n",
       "      <th>0</th>\n",
       "      <td>2010-09-30</td>\n",
       "      <td>11.0</td>\n",
       "      <td>138.126743</td>\n",
       "    </tr>\n",
       "    <tr>\n",
       "      <th>1</th>\n",
       "      <td>2010-10-31</td>\n",
       "      <td>8.0</td>\n",
       "      <td>250.998575</td>\n",
       "    </tr>\n",
       "    <tr>\n",
       "      <th>2</th>\n",
       "      <td>2010-11-30</td>\n",
       "      <td>2.0</td>\n",
       "      <td>13.748501</td>\n",
       "    </tr>\n",
       "    <tr>\n",
       "      <th>3</th>\n",
       "      <td>2010-12-31</td>\n",
       "      <td>4.0</td>\n",
       "      <td>2.988186</td>\n",
       "    </tr>\n",
       "    <tr>\n",
       "      <th>4</th>\n",
       "      <td>2011-01-31</td>\n",
       "      <td>9.0</td>\n",
       "      <td>52.976615</td>\n",
       "    </tr>\n",
       "    <tr>\n",
       "      <th>5</th>\n",
       "      <td>2011-02-28</td>\n",
       "      <td>2.0</td>\n",
       "      <td>3.726192</td>\n",
       "    </tr>\n",
       "    <tr>\n",
       "      <th>6</th>\n",
       "      <td>2011-03-31</td>\n",
       "      <td>2.0</td>\n",
       "      <td>6.395295</td>\n",
       "    </tr>\n",
       "    <tr>\n",
       "      <th>7</th>\n",
       "      <td>2011-04-30</td>\n",
       "      <td>NaN</td>\n",
       "      <td>NaN</td>\n",
       "    </tr>\n",
       "    <tr>\n",
       "      <th>8</th>\n",
       "      <td>2011-05-31</td>\n",
       "      <td>7.0</td>\n",
       "      <td>64.154239</td>\n",
       "    </tr>\n",
       "    <tr>\n",
       "      <th>9</th>\n",
       "      <td>2011-06-30</td>\n",
       "      <td>9.0</td>\n",
       "      <td>49.036619</td>\n",
       "    </tr>\n",
       "    <tr>\n",
       "      <th>10</th>\n",
       "      <td>2011-07-31</td>\n",
       "      <td>30.0</td>\n",
       "      <td>67.772418</td>\n",
       "    </tr>\n",
       "    <tr>\n",
       "      <th>11</th>\n",
       "      <td>2011-08-31</td>\n",
       "      <td>31.0</td>\n",
       "      <td>53.316079</td>\n",
       "    </tr>\n",
       "    <tr>\n",
       "      <th>12</th>\n",
       "      <td>2011-09-30</td>\n",
       "      <td>66.0</td>\n",
       "      <td>39.221030</td>\n",
       "    </tr>\n",
       "    <tr>\n",
       "      <th>13</th>\n",
       "      <td>2011-10-31</td>\n",
       "      <td>118.0</td>\n",
       "      <td>24.009599</td>\n",
       "    </tr>\n",
       "    <tr>\n",
       "      <th>14</th>\n",
       "      <td>2011-11-30</td>\n",
       "      <td>110.0</td>\n",
       "      <td>21.577141</td>\n",
       "    </tr>\n",
       "    <tr>\n",
       "      <th>15</th>\n",
       "      <td>2011-12-31</td>\n",
       "      <td>125.0</td>\n",
       "      <td>26.379269</td>\n",
       "    </tr>\n",
       "    <tr>\n",
       "      <th>16</th>\n",
       "      <td>2012-01-31</td>\n",
       "      <td>154.0</td>\n",
       "      <td>20.774927</td>\n",
       "    </tr>\n",
       "    <tr>\n",
       "      <th>17</th>\n",
       "      <td>2012-02-29</td>\n",
       "      <td>101.0</td>\n",
       "      <td>23.960454</td>\n",
       "    </tr>\n",
       "    <tr>\n",
       "      <th>18</th>\n",
       "      <td>2012-03-31</td>\n",
       "      <td>126.0</td>\n",
       "      <td>30.931438</td>\n",
       "    </tr>\n",
       "    <tr>\n",
       "      <th>19</th>\n",
       "      <td>2012-04-30</td>\n",
       "      <td>171.0</td>\n",
       "      <td>13.955027</td>\n",
       "    </tr>\n",
       "    <tr>\n",
       "      <th>20</th>\n",
       "      <td>2012-05-31</td>\n",
       "      <td>179.0</td>\n",
       "      <td>12.734971</td>\n",
       "    </tr>\n",
       "    <tr>\n",
       "      <th>21</th>\n",
       "      <td>2012-06-30</td>\n",
       "      <td>169.0</td>\n",
       "      <td>4.821868</td>\n",
       "    </tr>\n",
       "    <tr>\n",
       "      <th>22</th>\n",
       "      <td>2012-07-31</td>\n",
       "      <td>141.0</td>\n",
       "      <td>13.748870</td>\n",
       "    </tr>\n",
       "    <tr>\n",
       "      <th>23</th>\n",
       "      <td>2012-08-31</td>\n",
       "      <td>102.0</td>\n",
       "      <td>17.893862</td>\n",
       "    </tr>\n",
       "    <tr>\n",
       "      <th>24</th>\n",
       "      <td>2012-09-30</td>\n",
       "      <td>139.0</td>\n",
       "      <td>22.113295</td>\n",
       "    </tr>\n",
       "    <tr>\n",
       "      <th>25</th>\n",
       "      <td>2012-10-31</td>\n",
       "      <td>113.0</td>\n",
       "      <td>27.737104</td>\n",
       "    </tr>\n",
       "    <tr>\n",
       "      <th>26</th>\n",
       "      <td>2012-11-30</td>\n",
       "      <td>216.0</td>\n",
       "      <td>7.064224</td>\n",
       "    </tr>\n",
       "    <tr>\n",
       "      <th>27</th>\n",
       "      <td>2012-12-31</td>\n",
       "      <td>175.0</td>\n",
       "      <td>7.570194</td>\n",
       "    </tr>\n",
       "    <tr>\n",
       "      <th>28</th>\n",
       "      <td>2013-01-31</td>\n",
       "      <td>130.0</td>\n",
       "      <td>19.140937</td>\n",
       "    </tr>\n",
       "    <tr>\n",
       "      <th>29</th>\n",
       "      <td>2013-02-28</td>\n",
       "      <td>130.0</td>\n",
       "      <td>15.251405</td>\n",
       "    </tr>\n",
       "    <tr>\n",
       "      <th>30</th>\n",
       "      <td>2013-03-31</td>\n",
       "      <td>212.0</td>\n",
       "      <td>4.398604</td>\n",
       "    </tr>\n",
       "    <tr>\n",
       "      <th>31</th>\n",
       "      <td>2013-04-30</td>\n",
       "      <td>142.0</td>\n",
       "      <td>1.402802</td>\n",
       "    </tr>\n",
       "  </tbody>\n",
       "</table>\n",
       "</div>"
      ],
      "text/plain": [
       "   created_at  title    ttl_days\n",
       "0  2010-09-30   11.0  138.126743\n",
       "1  2010-10-31    8.0  250.998575\n",
       "2  2010-11-30    2.0   13.748501\n",
       "3  2010-12-31    4.0    2.988186\n",
       "4  2011-01-31    9.0   52.976615\n",
       "5  2011-02-28    2.0    3.726192\n",
       "6  2011-03-31    2.0    6.395295\n",
       "7  2011-04-30    NaN         NaN\n",
       "8  2011-05-31    7.0   64.154239\n",
       "9  2011-06-30    9.0   49.036619\n",
       "10 2011-07-31   30.0   67.772418\n",
       "11 2011-08-31   31.0   53.316079\n",
       "12 2011-09-30   66.0   39.221030\n",
       "13 2011-10-31  118.0   24.009599\n",
       "14 2011-11-30  110.0   21.577141\n",
       "15 2011-12-31  125.0   26.379269\n",
       "16 2012-01-31  154.0   20.774927\n",
       "17 2012-02-29  101.0   23.960454\n",
       "18 2012-03-31  126.0   30.931438\n",
       "19 2012-04-30  171.0   13.955027\n",
       "20 2012-05-31  179.0   12.734971\n",
       "21 2012-06-30  169.0    4.821868\n",
       "22 2012-07-31  141.0   13.748870\n",
       "23 2012-08-31  102.0   17.893862\n",
       "24 2012-09-30  139.0   22.113295\n",
       "25 2012-10-31  113.0   27.737104\n",
       "26 2012-11-30  216.0    7.064224\n",
       "27 2012-12-31  175.0    7.570194\n",
       "28 2013-01-31  130.0   19.140937\n",
       "29 2013-02-28  130.0   15.251405\n",
       "30 2013-03-31  212.0    4.398604\n",
       "31 2013-04-30  142.0    1.402802"
      ]
     },
     "execution_count": 44,
     "metadata": {},
     "output_type": "execute_result"
    }
   ],
   "source": [
    "tmp7 = pd.merge(df1, df2, on='created_at', how='outer')\n",
    "tmp7"
   ]
  },
  {
   "cell_type": "code",
   "execution_count": 45,
   "metadata": {
    "collapsed": false
   },
   "outputs": [],
   "source": [
    "tmp7.set_index('created_at',inplace=True)"
   ]
  },
  {
   "cell_type": "code",
   "execution_count": 46,
   "metadata": {
    "collapsed": false
   },
   "outputs": [
    {
     "data": {
      "text/plain": [
       "<matplotlib.text.Text at 0x1187eb390>"
      ]
     },
     "execution_count": 46,
     "metadata": {},
     "output_type": "execute_result"
    },
    {
     "data": {
      "image/png": "[encoded data removed]",
      "text/plain": [
       "<matplotlib.figure.Figure at 0x1177278d0>"
      ]
     },
     "metadata": {},
     "output_type": "display_data"
    }
   ],
   "source": [
    "plt.plot(tmp7.ttl_days)\n",
    "plt.title(\"Average days for each issue being open\")"
   ]
  },
  {
   "cell_type": "code",
   "execution_count": 47,
   "metadata": {
    "collapsed": true
   },
   "outputs": [],
   "source": [
    "### -------------- Task7 ---------------- ###\n",
    "# Make a DataFrame containing all the comments for all of the issues. You will want to add an id attribute to each comment while \n",
    "# doing so so that each row contains a single comment and has the id of the issue it belongs to.\n",
    "# Convert the created column to datetime format; note you will need to multiply the values (appropriately converted to integers) \n",
    "# by 1000000 to get them in nanoseconds and pass to to_datetime."
   ]
  },
  {
   "cell_type": "code",
   "execution_count": 48,
   "metadata": {
    "collapsed": false
   },
   "outputs": [
    {
     "data": {
      "text/html": [
       "<div>\n",
       "<table border=\"1\" class=\"dataframe\">\n",
       "  <thead>\n",
       "    <tr style=\"text-align: right;\">\n",
       "      <th></th>\n",
       "      <th>created_at</th>\n",
       "      <th>closed_at</th>\n",
       "      <th>id</th>\n",
       "      <th>comments</th>\n",
       "    </tr>\n",
       "  </thead>\n",
       "  <tbody>\n",
       "    <tr>\n",
       "      <th>0</th>\n",
       "      <td>2010-09-29 00:45:31</td>\n",
       "      <td>2011-02-19 23:13:48</td>\n",
       "      <td>337721</td>\n",
       "      <td>[{'author': 'wesm', 'updated': '1298157227000'...</td>\n",
       "    </tr>\n",
       "    <tr>\n",
       "      <th>1</th>\n",
       "      <td>2010-09-29 00:45:31</td>\n",
       "      <td>2011-02-19 23:13:48</td>\n",
       "      <td>337721</td>\n",
       "      <td>[{'author': 'wesm', 'updated': '1298157227000'...</td>\n",
       "    </tr>\n",
       "    <tr>\n",
       "      <th>2</th>\n",
       "      <td>2010-09-29 00:50:13</td>\n",
       "      <td>2010-12-17 02:57:33</td>\n",
       "      <td>337726</td>\n",
       "      <td>[{'author': 'wesm', 'updated': '1292554653000'...</td>\n",
       "    </tr>\n",
       "  </tbody>\n",
       "</table>\n",
       "</div>"
      ],
      "text/plain": [
       "           created_at           closed_at      id  \\\n",
       "0 2010-09-29 00:45:31 2011-02-19 23:13:48  337721   \n",
       "1 2010-09-29 00:45:31 2011-02-19 23:13:48  337721   \n",
       "2 2010-09-29 00:50:13 2010-12-17 02:57:33  337726   \n",
       "\n",
       "                                            comments  \n",
       "0  [{'author': 'wesm', 'updated': '1298157227000'...  \n",
       "1  [{'author': 'wesm', 'updated': '1298157227000'...  \n",
       "2  [{'author': 'wesm', 'updated': '1292554653000'...  "
      ]
     },
     "execution_count": 48,
     "metadata": {},
     "output_type": "execute_result"
    }
   ],
   "source": [
    "df2 = df[['created_at', 'closed_at', 'id','comments']]\n",
    "df2.head(3) "
   ]
  },
  {
   "cell_type": "code",
   "execution_count": 49,
   "metadata": {
    "collapsed": true
   },
   "outputs": [],
   "source": [
    "df2_cl = df2.drop_duplicates([\"id\"])"
   ]
  },
  {
   "cell_type": "code",
   "execution_count": 50,
   "metadata": {
    "collapsed": false
   },
   "outputs": [
    {
     "data": {
      "text/plain": [
       "0    [{'author': 'wesm', 'updated': '1298157227000'...\n",
       "2    [{'author': 'wesm', 'updated': '1292554653000'...\n",
       "4    [{'author': 'wesm', 'updated': '1293925812000'...\n",
       "6    [{'author': 'wesm', 'updated': '1292048072000'...\n",
       "8    [{'author': 'wesm', 'updated': '1292553994000'...\n",
       "Name: comments, dtype: object"
      ]
     },
     "execution_count": 50,
     "metadata": {},
     "output_type": "execute_result"
    }
   ],
   "source": [
    "df2_cl.comments[0:5]"
   ]
  },
  {
   "cell_type": "code",
   "execution_count": 51,
   "metadata": {
    "collapsed": false
   },
   "outputs": [
    {
     "data": {
      "text/plain": [
       "(2934, 4)"
      ]
     },
     "execution_count": 51,
     "metadata": {},
     "output_type": "execute_result"
    }
   ],
   "source": [
    "df2_cl.shape"
   ]
  },
  {
   "cell_type": "code",
   "execution_count": 52,
   "metadata": {
    "collapsed": false
   },
   "outputs": [
    {
     "data": {
      "text/plain": [
       "[{'author': 'y-p',\n",
       "  'created': '1367197211000',\n",
       "  'text': \"I think the benefit is marginal. the test scripts report coverage, and I imagine\\r\\nfor doing coverage work, you'd work locally rather then sending things off to travis.\\r\\n\\r\\n\\r\\n\\r\\n\",\n",
       "  'updated': '1367197211000'},\n",
       " {'author': 'cpcloud',\n",
       "  'created': '1367197492000',\n",
       "  'text': 'Cool.',\n",
       "  'updated': '1367197492000'}]"
      ]
     },
     "execution_count": 52,
     "metadata": {},
     "output_type": "execute_result"
    }
   ],
   "source": [
    "df2_cl.comments[2967]  ## one issue may have multiple comments"
   ]
  },
  {
   "cell_type": "code",
   "execution_count": 53,
   "metadata": {
    "collapsed": false
   },
   "outputs": [
    {
     "data": {
      "text/plain": [
       "dict_keys(['author', 'updated', 'text', 'created'])"
      ]
     },
     "execution_count": 53,
     "metadata": {},
     "output_type": "execute_result"
    }
   ],
   "source": [
    "df2_cl.comments[0][0].keys()"
   ]
  },
  {
   "cell_type": "code",
   "execution_count": 54,
   "metadata": {
    "collapsed": false
   },
   "outputs": [
    {
     "data": {
      "text/plain": [
       "Int64Index([   0,    2,    4,    6,    8,   10,   12,   14,   16,   18,\n",
       "            ...\n",
       "            2958, 2959, 2960, 2961, 2962, 2963, 2964, 2965, 2966, 2967],\n",
       "           dtype='int64', length=2934)"
      ]
     },
     "execution_count": 54,
     "metadata": {},
     "output_type": "execute_result"
    }
   ],
   "source": [
    "df2_cl.index"
   ]
  },
  {
   "cell_type": "code",
   "execution_count": 55,
   "metadata": {
    "collapsed": false
   },
   "outputs": [
    {
     "data": {
      "text/plain": [
       "Int64Index([0, 2, 4], dtype='int64')"
      ]
     },
     "execution_count": 55,
     "metadata": {},
     "output_type": "execute_result"
    }
   ],
   "source": [
    "df2_cl.index[0:3]"
   ]
  },
  {
   "cell_type": "code",
   "execution_count": 56,
   "metadata": {
    "collapsed": false
   },
   "outputs": [
    {
     "data": {
      "text/plain": [
       "Int64Index([ 0,  2,  4,  6,  8, 10, 12, 14, 16, 18, 20, 22, 24, 26, 28, 30, 32,\n",
       "            34, 36, 38, 40, 42, 44, 46, 48, 50, 52, 54, 56, 58, 60, 62, 64, 66,\n",
       "            68, 69, 70, 71, 72, 73, 74, 75, 76, 77, 78, 79, 80, 81, 82, 83, 84,\n",
       "            85, 86, 87, 88, 89, 90, 91, 92, 93, 94],\n",
       "           dtype='int64')"
      ]
     },
     "execution_count": 56,
     "metadata": {},
     "output_type": "execute_result"
    }
   ],
   "source": [
    "df2_cl.index[0:61]"
   ]
  },
  {
   "cell_type": "code",
   "execution_count": 57,
   "metadata": {
    "collapsed": false
   },
   "outputs": [
    {
     "data": {
      "text/plain": [
       "created_at    2011-07-18 15:37:46\n",
       "closed_at     2012-04-12 03:17:15\n",
       "id                        1242420\n",
       "comments                       []\n",
       "Name: 94, dtype: object"
      ]
     },
     "execution_count": 57,
     "metadata": {},
     "output_type": "execute_result"
    }
   ],
   "source": [
    "df2_cl.loc[94]"
   ]
  },
  {
   "cell_type": "code",
   "execution_count": 58,
   "metadata": {
    "collapsed": false
   },
   "outputs": [
    {
     "data": {
      "text/plain": [
       "True"
      ]
     },
     "execution_count": 58,
     "metadata": {},
     "output_type": "execute_result"
    }
   ],
   "source": [
    "pd.DataFrame(df2_cl.comments[94]).empty"
   ]
  },
  {
   "cell_type": "code",
   "execution_count": 59,
   "metadata": {
    "collapsed": false
   },
   "outputs": [],
   "source": [
    "result = pd.DataFrame()\n",
    "\n",
    "for i in df2_cl.index: #df2_cl.index caused errors\n",
    "    tmp = pd.DataFrame(df2_cl.comments[i])\n",
    "    if tmp.empty == True:\n",
    "        continue\n",
    "    else:\n",
    "        tmp.loc[:,'id'] = df2_cl.loc[i,'id']\n",
    "        result = result.append(pd.DataFrame(tmp))"
   ]
  },
  {
   "cell_type": "code",
   "execution_count": 60,
   "metadata": {
    "collapsed": false
   },
   "outputs": [
    {
     "data": {
      "text/html": [
       "<div>\n",
       "<table border=\"1\" class=\"dataframe\">\n",
       "  <thead>\n",
       "    <tr style=\"text-align: right;\">\n",
       "      <th></th>\n",
       "      <th>author</th>\n",
       "      <th>created</th>\n",
       "      <th>text</th>\n",
       "      <th>updated</th>\n",
       "      <th>id</th>\n",
       "    </tr>\n",
       "  </thead>\n",
       "  <tbody>\n",
       "    <tr>\n",
       "      <th>0</th>\n",
       "      <td>wesm</td>\n",
       "      <td>1298157227000</td>\n",
       "      <td>implemented in git HEAD</td>\n",
       "      <td>1298157227000</td>\n",
       "      <td>337721.0</td>\n",
       "    </tr>\n",
       "    <tr>\n",
       "      <th>0</th>\n",
       "      <td>wesm</td>\n",
       "      <td>1292554653000</td>\n",
       "      <td>done</td>\n",
       "      <td>1292554653000</td>\n",
       "      <td>337726.0</td>\n",
       "    </tr>\n",
       "    <tr>\n",
       "      <th>0</th>\n",
       "      <td>wesm</td>\n",
       "      <td>1293925812000</td>\n",
       "      <td>I guess I &amp;quot;accidentally&amp;quot; fixed this ...</td>\n",
       "      <td>1293925812000</td>\n",
       "      <td>337728.0</td>\n",
       "    </tr>\n",
       "    <tr>\n",
       "      <th>0</th>\n",
       "      <td>wesm</td>\n",
       "      <td>1292048072000</td>\n",
       "      <td>fixed</td>\n",
       "      <td>1292048072000</td>\n",
       "      <td>337730.0</td>\n",
       "    </tr>\n",
       "    <tr>\n",
       "      <th>0</th>\n",
       "      <td>wesm</td>\n",
       "      <td>1292553994000</td>\n",
       "      <td>Everything seems to be working in Python 2.7 w...</td>\n",
       "      <td>1292553994000</td>\n",
       "      <td>337736.0</td>\n",
       "    </tr>\n",
       "    <tr>\n",
       "      <th>0</th>\n",
       "      <td>wesm</td>\n",
       "      <td>1292047526000</td>\n",
       "      <td>All fixed up and wrote unit tests--hopefully d...</td>\n",
       "      <td>1292047526000</td>\n",
       "      <td>337994.0</td>\n",
       "    </tr>\n",
       "    <tr>\n",
       "      <th>0</th>\n",
       "      <td>wesm</td>\n",
       "      <td>1285813365000</td>\n",
       "      <td>This is a bug. DataMatrix as input to the Data...</td>\n",
       "      <td>1285813365000</td>\n",
       "      <td>338909.0</td>\n",
       "    </tr>\n",
       "    <tr>\n",
       "      <th>1</th>\n",
       "      <td>hector13</td>\n",
       "      <td>1286126735000</td>\n",
       "      <td>I've noticed a similar issue when using the di...</td>\n",
       "      <td>1286126735000</td>\n",
       "      <td>338909.0</td>\n",
       "    </tr>\n",
       "    <tr>\n",
       "      <th>2</th>\n",
       "      <td>wesm</td>\n",
       "      <td>1292047919000</td>\n",
       "      <td>should be fixed in git HEAD</td>\n",
       "      <td>1292047919000</td>\n",
       "      <td>338909.0</td>\n",
       "    </tr>\n",
       "    <tr>\n",
       "      <th>0</th>\n",
       "      <td>wesm</td>\n",
       "      <td>1285812707000</td>\n",
       "      <td>In principle I agree with you that fill should...</td>\n",
       "      <td>1285812707000</td>\n",
       "      <td>339355.0</td>\n",
       "    </tr>\n",
       "  </tbody>\n",
       "</table>\n",
       "</div>"
      ],
      "text/plain": [
       "     author        created                                               text  \\\n",
       "0      wesm  1298157227000                            implemented in git HEAD   \n",
       "0      wesm  1292554653000                                               done   \n",
       "0      wesm  1293925812000  I guess I &quot;accidentally&quot; fixed this ...   \n",
       "0      wesm  1292048072000                                              fixed   \n",
       "0      wesm  1292553994000  Everything seems to be working in Python 2.7 w...   \n",
       "0      wesm  1292047526000  All fixed up and wrote unit tests--hopefully d...   \n",
       "0      wesm  1285813365000  This is a bug. DataMatrix as input to the Data...   \n",
       "1  hector13  1286126735000  I've noticed a similar issue when using the di...   \n",
       "2      wesm  1292047919000                        should be fixed in git HEAD   \n",
       "0      wesm  1285812707000  In principle I agree with you that fill should...   \n",
       "\n",
       "         updated        id  \n",
       "0  1298157227000  337721.0  \n",
       "0  1292554653000  337726.0  \n",
       "0  1293925812000  337728.0  \n",
       "0  1292048072000  337730.0  \n",
       "0  1292553994000  337736.0  \n",
       "0  1292047526000  337994.0  \n",
       "0  1285813365000  338909.0  \n",
       "1  1286126735000  338909.0  \n",
       "2  1292047919000  338909.0  \n",
       "0  1285812707000  339355.0  "
      ]
     },
     "execution_count": 60,
     "metadata": {},
     "output_type": "execute_result"
    }
   ],
   "source": [
    "result.head(10)"
   ]
  },
  {
   "cell_type": "code",
   "execution_count": 61,
   "metadata": {
    "collapsed": false
   },
   "outputs": [
    {
     "data": {
      "text/plain": [
       "author      object\n",
       "created     object\n",
       "text        object\n",
       "updated     object\n",
       "id         float64\n",
       "dtype: object"
      ]
     },
     "execution_count": 61,
     "metadata": {},
     "output_type": "execute_result"
    }
   ],
   "source": [
    "result.dtypes"
   ]
  },
  {
   "cell_type": "code",
   "execution_count": 62,
   "metadata": {
    "collapsed": false
   },
   "outputs": [],
   "source": [
    "result['created'] = pd.to_datetime(result.created.astype(float)*1000000)"
   ]
  },
  {
   "cell_type": "code",
   "execution_count": 63,
   "metadata": {
    "collapsed": false
   },
   "outputs": [
    {
     "data": {
      "text/html": [
       "<div>\n",
       "<table border=\"1\" class=\"dataframe\">\n",
       "  <thead>\n",
       "    <tr style=\"text-align: right;\">\n",
       "      <th></th>\n",
       "      <th>author</th>\n",
       "      <th>created</th>\n",
       "      <th>text</th>\n",
       "      <th>updated</th>\n",
       "      <th>id</th>\n",
       "    </tr>\n",
       "  </thead>\n",
       "  <tbody>\n",
       "    <tr>\n",
       "      <th>0</th>\n",
       "      <td>wesm</td>\n",
       "      <td>2011-02-19 23:13:47</td>\n",
       "      <td>implemented in git HEAD</td>\n",
       "      <td>1298157227000</td>\n",
       "      <td>337721.0</td>\n",
       "    </tr>\n",
       "    <tr>\n",
       "      <th>0</th>\n",
       "      <td>wesm</td>\n",
       "      <td>2010-12-17 02:57:33</td>\n",
       "      <td>done</td>\n",
       "      <td>1292554653000</td>\n",
       "      <td>337726.0</td>\n",
       "    </tr>\n",
       "    <tr>\n",
       "      <th>0</th>\n",
       "      <td>wesm</td>\n",
       "      <td>2011-01-01 23:50:12</td>\n",
       "      <td>I guess I &amp;quot;accidentally&amp;quot; fixed this ...</td>\n",
       "      <td>1293925812000</td>\n",
       "      <td>337728.0</td>\n",
       "    </tr>\n",
       "  </tbody>\n",
       "</table>\n",
       "</div>"
      ],
      "text/plain": [
       "  author             created  \\\n",
       "0   wesm 2011-02-19 23:13:47   \n",
       "0   wesm 2010-12-17 02:57:33   \n",
       "0   wesm 2011-01-01 23:50:12   \n",
       "\n",
       "                                                text        updated        id  \n",
       "0                            implemented in git HEAD  1298157227000  337721.0  \n",
       "0                                               done  1292554653000  337726.0  \n",
       "0  I guess I &quot;accidentally&quot; fixed this ...  1293925812000  337728.0  "
      ]
     },
     "execution_count": 63,
     "metadata": {},
     "output_type": "execute_result"
    }
   ],
   "source": [
    "result.head(3)"
   ]
  },
  {
   "cell_type": "code",
   "execution_count": 64,
   "metadata": {
    "collapsed": true
   },
   "outputs": [],
   "source": [
    "### --------------------- Task 8 ------------------------- ###\n",
    "# For each month, compute a table summarizing the following for each month:\n",
    "# Total number of issue comments\n",
    "# The \"chattiest\" user (most number of comments)\n",
    "# The percentage of total comments made by the chattiest users\n",
    "# The number of distinct participants in the issue comments"
   ]
  },
  {
   "cell_type": "code",
   "execution_count": 65,
   "metadata": {
    "collapsed": true
   },
   "outputs": [],
   "source": [
    "df8 = result.copy()"
   ]
  },
  {
   "cell_type": "code",
   "execution_count": 66,
   "metadata": {
    "collapsed": true
   },
   "outputs": [],
   "source": [
    "df8.set_index('created', inplace=True) "
   ]
  },
  {
   "cell_type": "code",
   "execution_count": 67,
   "metadata": {
    "collapsed": false
   },
   "outputs": [
    {
     "data": {
      "text/html": [
       "<div>\n",
       "<table border=\"1\" class=\"dataframe\">\n",
       "  <thead>\n",
       "    <tr style=\"text-align: right;\">\n",
       "      <th></th>\n",
       "      <th>author</th>\n",
       "      <th>text</th>\n",
       "      <th>updated</th>\n",
       "      <th>id</th>\n",
       "    </tr>\n",
       "    <tr>\n",
       "      <th>created</th>\n",
       "      <th></th>\n",
       "      <th></th>\n",
       "      <th></th>\n",
       "      <th></th>\n",
       "    </tr>\n",
       "  </thead>\n",
       "  <tbody>\n",
       "    <tr>\n",
       "      <th>2011-02-19 23:13:47</th>\n",
       "      <td>wesm</td>\n",
       "      <td>implemented in git HEAD</td>\n",
       "      <td>1298157227000</td>\n",
       "      <td>337721.0</td>\n",
       "    </tr>\n",
       "    <tr>\n",
       "      <th>2010-12-17 02:57:33</th>\n",
       "      <td>wesm</td>\n",
       "      <td>done</td>\n",
       "      <td>1292554653000</td>\n",
       "      <td>337726.0</td>\n",
       "    </tr>\n",
       "    <tr>\n",
       "      <th>2011-01-01 23:50:12</th>\n",
       "      <td>wesm</td>\n",
       "      <td>I guess I &amp;quot;accidentally&amp;quot; fixed this ...</td>\n",
       "      <td>1293925812000</td>\n",
       "      <td>337728.0</td>\n",
       "    </tr>\n",
       "  </tbody>\n",
       "</table>\n",
       "</div>"
      ],
      "text/plain": [
       "                    author                                               text  \\\n",
       "created                                                                         \n",
       "2011-02-19 23:13:47   wesm                            implemented in git HEAD   \n",
       "2010-12-17 02:57:33   wesm                                               done   \n",
       "2011-01-01 23:50:12   wesm  I guess I &quot;accidentally&quot; fixed this ...   \n",
       "\n",
       "                           updated        id  \n",
       "created                                       \n",
       "2011-02-19 23:13:47  1298157227000  337721.0  \n",
       "2010-12-17 02:57:33  1292554653000  337726.0  \n",
       "2011-01-01 23:50:12  1293925812000  337728.0  "
      ]
     },
     "execution_count": 67,
     "metadata": {},
     "output_type": "execute_result"
    }
   ],
   "source": [
    "df8.head(3)"
   ]
  },
  {
   "cell_type": "code",
   "execution_count": 68,
   "metadata": {
    "collapsed": false
   },
   "outputs": [
    {
     "name": "stderr",
     "output_type": "stream",
     "text": [
      "/Users/farahshih/anaconda/lib/python3.5/site-packages/ipykernel/__main__.py:1: FutureWarning: how in .resample() is deprecated\n",
      "the new syntax is .resample(...).count()\n",
      "  if __name__ == '__main__':\n"
     ]
    }
   ],
   "source": [
    "ts8_1 = df8.resample('M',how=\"count\")"
   ]
  },
  {
   "cell_type": "code",
   "execution_count": 69,
   "metadata": {
    "collapsed": false
   },
   "outputs": [
    {
     "data": {
      "text/plain": [
       "<matplotlib.text.Text at 0x1175c3128>"
      ]
     },
     "execution_count": 69,
     "metadata": {},
     "output_type": "execute_result"
    },
    {
     "data": {
      "image/png": "[encoded data removed]",
      "text/plain": [
       "<matplotlib.figure.Figure at 0x118557438>"
      ]
     },
     "metadata": {},
     "output_type": "display_data"
    }
   ],
   "source": [
    "plt.plot(ts8_1.text)\n",
    "plt.xlabel(\"period (month)\")\n",
    "plt.xlabel(\"Number of issue comments\")\n",
    "plt.title(\"Number of issue comments per month\")"
   ]
  },
  {
   "cell_type": "code",
   "execution_count": 70,
   "metadata": {
    "collapsed": false
   },
   "outputs": [
    {
     "data": {
      "text/html": [
       "<div>\n",
       "<table border=\"1\" class=\"dataframe\">\n",
       "  <thead>\n",
       "    <tr style=\"text-align: right;\">\n",
       "      <th></th>\n",
       "      <th>author</th>\n",
       "      <th>text</th>\n",
       "      <th>updated</th>\n",
       "      <th>id</th>\n",
       "    </tr>\n",
       "    <tr>\n",
       "      <th>created</th>\n",
       "      <th></th>\n",
       "      <th></th>\n",
       "      <th></th>\n",
       "      <th></th>\n",
       "    </tr>\n",
       "  </thead>\n",
       "  <tbody>\n",
       "    <tr>\n",
       "      <th>2011-02-19 23:13:47</th>\n",
       "      <td>wesm</td>\n",
       "      <td>implemented in git HEAD</td>\n",
       "      <td>1298157227000</td>\n",
       "      <td>337721.0</td>\n",
       "    </tr>\n",
       "    <tr>\n",
       "      <th>2010-12-17 02:57:33</th>\n",
       "      <td>wesm</td>\n",
       "      <td>done</td>\n",
       "      <td>1292554653000</td>\n",
       "      <td>337726.0</td>\n",
       "    </tr>\n",
       "    <tr>\n",
       "      <th>2011-01-01 23:50:12</th>\n",
       "      <td>wesm</td>\n",
       "      <td>I guess I &amp;quot;accidentally&amp;quot; fixed this ...</td>\n",
       "      <td>1293925812000</td>\n",
       "      <td>337728.0</td>\n",
       "    </tr>\n",
       "  </tbody>\n",
       "</table>\n",
       "</div>"
      ],
      "text/plain": [
       "                    author                                               text  \\\n",
       "created                                                                         \n",
       "2011-02-19 23:13:47   wesm                            implemented in git HEAD   \n",
       "2010-12-17 02:57:33   wesm                                               done   \n",
       "2011-01-01 23:50:12   wesm  I guess I &quot;accidentally&quot; fixed this ...   \n",
       "\n",
       "                           updated        id  \n",
       "created                                       \n",
       "2011-02-19 23:13:47  1298157227000  337721.0  \n",
       "2010-12-17 02:57:33  1292554653000  337726.0  \n",
       "2011-01-01 23:50:12  1293925812000  337728.0  "
      ]
     },
     "execution_count": 70,
     "metadata": {},
     "output_type": "execute_result"
    }
   ],
   "source": [
    "df8.head(3)"
   ]
  },
  {
   "cell_type": "code",
   "execution_count": 71,
   "metadata": {
    "collapsed": false
   },
   "outputs": [],
   "source": [
    "df8.reset_index(inplace=True)"
   ]
  },
  {
   "cell_type": "code",
   "execution_count": 72,
   "metadata": {
    "collapsed": false
   },
   "outputs": [
    {
     "name": "stderr",
     "output_type": "stream",
     "text": [
      "/Users/farahshih/anaconda/lib/python3.5/site-packages/ipykernel/__main__.py:2: FutureWarning: how in .resample() is deprecated\n",
      "the new syntax is .resample(...).count()\n",
      "  from ipykernel import kernelapp as app\n"
     ]
    }
   ],
   "source": [
    "tmp = df8.pivot_table(values = 'text', index = 'created', columns = 'author', aggfunc = 'count')\n",
    "tmp2 = tmp.resample('M', how='count')"
   ]
  },
  {
   "cell_type": "code",
   "execution_count": 73,
   "metadata": {
    "collapsed": false
   },
   "outputs": [
    {
     "data": {
      "text/html": [
       "<div>\n",
       "<table border=\"1\" class=\"dataframe\">\n",
       "  <thead>\n",
       "    <tr style=\"text-align: right;\">\n",
       "      <th>author</th>\n",
       "      <th>Aldanor</th>\n",
       "      <th>Altons</th>\n",
       "      <th>Anaphory</th>\n",
       "      <th>BenjaminKay</th>\n",
       "      <th>Bklyn</th>\n",
       "      <th>CRP</th>\n",
       "      <th>CerebralMastication</th>\n",
       "      <th>DanielMorton</th>\n",
       "      <th>DataJunkie</th>\n",
       "      <th>FedericoV</th>\n",
       "      <th>...</th>\n",
       "      <th>xamox</th>\n",
       "      <th>xdong</th>\n",
       "      <th>y-p</th>\n",
       "      <th>yangzetian</th>\n",
       "      <th>yarden</th>\n",
       "      <th>yarikoptic</th>\n",
       "      <th>yashoteja</th>\n",
       "      <th>yinhm</th>\n",
       "      <th>yishenggudou</th>\n",
       "      <th>zachcp</th>\n",
       "    </tr>\n",
       "    <tr>\n",
       "      <th>created</th>\n",
       "      <th></th>\n",
       "      <th></th>\n",
       "      <th></th>\n",
       "      <th></th>\n",
       "      <th></th>\n",
       "      <th></th>\n",
       "      <th></th>\n",
       "      <th></th>\n",
       "      <th></th>\n",
       "      <th></th>\n",
       "      <th></th>\n",
       "      <th></th>\n",
       "      <th></th>\n",
       "      <th></th>\n",
       "      <th></th>\n",
       "      <th></th>\n",
       "      <th></th>\n",
       "      <th></th>\n",
       "      <th></th>\n",
       "      <th></th>\n",
       "      <th></th>\n",
       "    </tr>\n",
       "  </thead>\n",
       "  <tbody>\n",
       "    <tr>\n",
       "      <th>2010-09-30</th>\n",
       "      <td>0</td>\n",
       "      <td>0</td>\n",
       "      <td>0</td>\n",
       "      <td>0</td>\n",
       "      <td>0</td>\n",
       "      <td>0</td>\n",
       "      <td>0</td>\n",
       "      <td>0</td>\n",
       "      <td>0</td>\n",
       "      <td>0</td>\n",
       "      <td>...</td>\n",
       "      <td>0</td>\n",
       "      <td>0</td>\n",
       "      <td>0</td>\n",
       "      <td>0</td>\n",
       "      <td>0</td>\n",
       "      <td>0</td>\n",
       "      <td>0</td>\n",
       "      <td>0</td>\n",
       "      <td>0</td>\n",
       "      <td>0</td>\n",
       "    </tr>\n",
       "    <tr>\n",
       "      <th>2010-10-31</th>\n",
       "      <td>0</td>\n",
       "      <td>0</td>\n",
       "      <td>0</td>\n",
       "      <td>0</td>\n",
       "      <td>0</td>\n",
       "      <td>0</td>\n",
       "      <td>0</td>\n",
       "      <td>0</td>\n",
       "      <td>0</td>\n",
       "      <td>0</td>\n",
       "      <td>...</td>\n",
       "      <td>0</td>\n",
       "      <td>0</td>\n",
       "      <td>0</td>\n",
       "      <td>0</td>\n",
       "      <td>0</td>\n",
       "      <td>0</td>\n",
       "      <td>0</td>\n",
       "      <td>0</td>\n",
       "      <td>0</td>\n",
       "      <td>0</td>\n",
       "    </tr>\n",
       "    <tr>\n",
       "      <th>2010-11-30</th>\n",
       "      <td>0</td>\n",
       "      <td>0</td>\n",
       "      <td>0</td>\n",
       "      <td>0</td>\n",
       "      <td>0</td>\n",
       "      <td>0</td>\n",
       "      <td>0</td>\n",
       "      <td>0</td>\n",
       "      <td>0</td>\n",
       "      <td>0</td>\n",
       "      <td>...</td>\n",
       "      <td>0</td>\n",
       "      <td>0</td>\n",
       "      <td>0</td>\n",
       "      <td>0</td>\n",
       "      <td>0</td>\n",
       "      <td>0</td>\n",
       "      <td>0</td>\n",
       "      <td>0</td>\n",
       "      <td>0</td>\n",
       "      <td>0</td>\n",
       "    </tr>\n",
       "    <tr>\n",
       "      <th>2010-12-31</th>\n",
       "      <td>0</td>\n",
       "      <td>0</td>\n",
       "      <td>0</td>\n",
       "      <td>0</td>\n",
       "      <td>0</td>\n",
       "      <td>0</td>\n",
       "      <td>0</td>\n",
       "      <td>0</td>\n",
       "      <td>0</td>\n",
       "      <td>0</td>\n",
       "      <td>...</td>\n",
       "      <td>0</td>\n",
       "      <td>0</td>\n",
       "      <td>0</td>\n",
       "      <td>0</td>\n",
       "      <td>0</td>\n",
       "      <td>0</td>\n",
       "      <td>0</td>\n",
       "      <td>0</td>\n",
       "      <td>0</td>\n",
       "      <td>0</td>\n",
       "    </tr>\n",
       "    <tr>\n",
       "      <th>2011-01-31</th>\n",
       "      <td>0</td>\n",
       "      <td>0</td>\n",
       "      <td>0</td>\n",
       "      <td>0</td>\n",
       "      <td>0</td>\n",
       "      <td>0</td>\n",
       "      <td>0</td>\n",
       "      <td>0</td>\n",
       "      <td>0</td>\n",
       "      <td>0</td>\n",
       "      <td>...</td>\n",
       "      <td>0</td>\n",
       "      <td>0</td>\n",
       "      <td>0</td>\n",
       "      <td>0</td>\n",
       "      <td>0</td>\n",
       "      <td>0</td>\n",
       "      <td>0</td>\n",
       "      <td>0</td>\n",
       "      <td>0</td>\n",
       "      <td>0</td>\n",
       "    </tr>\n",
       "    <tr>\n",
       "      <th>2011-02-28</th>\n",
       "      <td>0</td>\n",
       "      <td>0</td>\n",
       "      <td>0</td>\n",
       "      <td>0</td>\n",
       "      <td>0</td>\n",
       "      <td>0</td>\n",
       "      <td>0</td>\n",
       "      <td>0</td>\n",
       "      <td>0</td>\n",
       "      <td>0</td>\n",
       "      <td>...</td>\n",
       "      <td>0</td>\n",
       "      <td>0</td>\n",
       "      <td>0</td>\n",
       "      <td>0</td>\n",
       "      <td>0</td>\n",
       "      <td>0</td>\n",
       "      <td>0</td>\n",
       "      <td>0</td>\n",
       "      <td>0</td>\n",
       "      <td>0</td>\n",
       "    </tr>\n",
       "    <tr>\n",
       "      <th>2011-03-31</th>\n",
       "      <td>0</td>\n",
       "      <td>0</td>\n",
       "      <td>0</td>\n",
       "      <td>0</td>\n",
       "      <td>0</td>\n",
       "      <td>0</td>\n",
       "      <td>0</td>\n",
       "      <td>0</td>\n",
       "      <td>0</td>\n",
       "      <td>0</td>\n",
       "      <td>...</td>\n",
       "      <td>0</td>\n",
       "      <td>0</td>\n",
       "      <td>0</td>\n",
       "      <td>0</td>\n",
       "      <td>0</td>\n",
       "      <td>0</td>\n",
       "      <td>0</td>\n",
       "      <td>0</td>\n",
       "      <td>0</td>\n",
       "      <td>0</td>\n",
       "    </tr>\n",
       "    <tr>\n",
       "      <th>2011-04-30</th>\n",
       "      <td>0</td>\n",
       "      <td>0</td>\n",
       "      <td>0</td>\n",
       "      <td>0</td>\n",
       "      <td>0</td>\n",
       "      <td>0</td>\n",
       "      <td>0</td>\n",
       "      <td>0</td>\n",
       "      <td>0</td>\n",
       "      <td>0</td>\n",
       "      <td>...</td>\n",
       "      <td>0</td>\n",
       "      <td>0</td>\n",
       "      <td>0</td>\n",
       "      <td>0</td>\n",
       "      <td>0</td>\n",
       "      <td>0</td>\n",
       "      <td>0</td>\n",
       "      <td>0</td>\n",
       "      <td>0</td>\n",
       "      <td>0</td>\n",
       "    </tr>\n",
       "    <tr>\n",
       "      <th>2011-05-31</th>\n",
       "      <td>0</td>\n",
       "      <td>0</td>\n",
       "      <td>0</td>\n",
       "      <td>0</td>\n",
       "      <td>0</td>\n",
       "      <td>0</td>\n",
       "      <td>0</td>\n",
       "      <td>0</td>\n",
       "      <td>0</td>\n",
       "      <td>0</td>\n",
       "      <td>...</td>\n",
       "      <td>0</td>\n",
       "      <td>0</td>\n",
       "      <td>0</td>\n",
       "      <td>0</td>\n",
       "      <td>0</td>\n",
       "      <td>0</td>\n",
       "      <td>0</td>\n",
       "      <td>0</td>\n",
       "      <td>0</td>\n",
       "      <td>0</td>\n",
       "    </tr>\n",
       "    <tr>\n",
       "      <th>2011-06-30</th>\n",
       "      <td>0</td>\n",
       "      <td>0</td>\n",
       "      <td>0</td>\n",
       "      <td>0</td>\n",
       "      <td>0</td>\n",
       "      <td>0</td>\n",
       "      <td>0</td>\n",
       "      <td>0</td>\n",
       "      <td>0</td>\n",
       "      <td>0</td>\n",
       "      <td>...</td>\n",
       "      <td>0</td>\n",
       "      <td>0</td>\n",
       "      <td>0</td>\n",
       "      <td>0</td>\n",
       "      <td>0</td>\n",
       "      <td>0</td>\n",
       "      <td>0</td>\n",
       "      <td>0</td>\n",
       "      <td>0</td>\n",
       "      <td>0</td>\n",
       "    </tr>\n",
       "    <tr>\n",
       "      <th>2011-07-31</th>\n",
       "      <td>0</td>\n",
       "      <td>0</td>\n",
       "      <td>0</td>\n",
       "      <td>0</td>\n",
       "      <td>0</td>\n",
       "      <td>0</td>\n",
       "      <td>0</td>\n",
       "      <td>0</td>\n",
       "      <td>0</td>\n",
       "      <td>0</td>\n",
       "      <td>...</td>\n",
       "      <td>0</td>\n",
       "      <td>0</td>\n",
       "      <td>0</td>\n",
       "      <td>0</td>\n",
       "      <td>0</td>\n",
       "      <td>0</td>\n",
       "      <td>0</td>\n",
       "      <td>0</td>\n",
       "      <td>0</td>\n",
       "      <td>0</td>\n",
       "    </tr>\n",
       "    <tr>\n",
       "      <th>2011-08-31</th>\n",
       "      <td>0</td>\n",
       "      <td>0</td>\n",
       "      <td>0</td>\n",
       "      <td>0</td>\n",
       "      <td>0</td>\n",
       "      <td>0</td>\n",
       "      <td>0</td>\n",
       "      <td>0</td>\n",
       "      <td>0</td>\n",
       "      <td>0</td>\n",
       "      <td>...</td>\n",
       "      <td>0</td>\n",
       "      <td>1</td>\n",
       "      <td>0</td>\n",
       "      <td>0</td>\n",
       "      <td>0</td>\n",
       "      <td>0</td>\n",
       "      <td>0</td>\n",
       "      <td>0</td>\n",
       "      <td>0</td>\n",
       "      <td>0</td>\n",
       "    </tr>\n",
       "    <tr>\n",
       "      <th>2011-09-30</th>\n",
       "      <td>0</td>\n",
       "      <td>1</td>\n",
       "      <td>0</td>\n",
       "      <td>0</td>\n",
       "      <td>0</td>\n",
       "      <td>0</td>\n",
       "      <td>0</td>\n",
       "      <td>0</td>\n",
       "      <td>5</td>\n",
       "      <td>0</td>\n",
       "      <td>...</td>\n",
       "      <td>0</td>\n",
       "      <td>1</td>\n",
       "      <td>0</td>\n",
       "      <td>0</td>\n",
       "      <td>0</td>\n",
       "      <td>2</td>\n",
       "      <td>0</td>\n",
       "      <td>0</td>\n",
       "      <td>0</td>\n",
       "      <td>0</td>\n",
       "    </tr>\n",
       "    <tr>\n",
       "      <th>2011-10-31</th>\n",
       "      <td>0</td>\n",
       "      <td>6</td>\n",
       "      <td>0</td>\n",
       "      <td>0</td>\n",
       "      <td>0</td>\n",
       "      <td>1</td>\n",
       "      <td>0</td>\n",
       "      <td>0</td>\n",
       "      <td>0</td>\n",
       "      <td>0</td>\n",
       "      <td>...</td>\n",
       "      <td>0</td>\n",
       "      <td>0</td>\n",
       "      <td>0</td>\n",
       "      <td>0</td>\n",
       "      <td>0</td>\n",
       "      <td>0</td>\n",
       "      <td>0</td>\n",
       "      <td>0</td>\n",
       "      <td>0</td>\n",
       "      <td>0</td>\n",
       "    </tr>\n",
       "    <tr>\n",
       "      <th>2011-11-30</th>\n",
       "      <td>0</td>\n",
       "      <td>0</td>\n",
       "      <td>0</td>\n",
       "      <td>0</td>\n",
       "      <td>0</td>\n",
       "      <td>2</td>\n",
       "      <td>0</td>\n",
       "      <td>0</td>\n",
       "      <td>0</td>\n",
       "      <td>0</td>\n",
       "      <td>...</td>\n",
       "      <td>0</td>\n",
       "      <td>0</td>\n",
       "      <td>0</td>\n",
       "      <td>0</td>\n",
       "      <td>0</td>\n",
       "      <td>0</td>\n",
       "      <td>0</td>\n",
       "      <td>0</td>\n",
       "      <td>0</td>\n",
       "      <td>0</td>\n",
       "    </tr>\n",
       "    <tr>\n",
       "      <th>2011-12-31</th>\n",
       "      <td>0</td>\n",
       "      <td>0</td>\n",
       "      <td>0</td>\n",
       "      <td>0</td>\n",
       "      <td>0</td>\n",
       "      <td>2</td>\n",
       "      <td>0</td>\n",
       "      <td>0</td>\n",
       "      <td>0</td>\n",
       "      <td>0</td>\n",
       "      <td>...</td>\n",
       "      <td>0</td>\n",
       "      <td>0</td>\n",
       "      <td>0</td>\n",
       "      <td>0</td>\n",
       "      <td>0</td>\n",
       "      <td>0</td>\n",
       "      <td>0</td>\n",
       "      <td>0</td>\n",
       "      <td>0</td>\n",
       "      <td>0</td>\n",
       "    </tr>\n",
       "    <tr>\n",
       "      <th>2012-01-31</th>\n",
       "      <td>0</td>\n",
       "      <td>0</td>\n",
       "      <td>0</td>\n",
       "      <td>0</td>\n",
       "      <td>0</td>\n",
       "      <td>0</td>\n",
       "      <td>0</td>\n",
       "      <td>0</td>\n",
       "      <td>0</td>\n",
       "      <td>0</td>\n",
       "      <td>...</td>\n",
       "      <td>0</td>\n",
       "      <td>0</td>\n",
       "      <td>0</td>\n",
       "      <td>0</td>\n",
       "      <td>0</td>\n",
       "      <td>8</td>\n",
       "      <td>0</td>\n",
       "      <td>0</td>\n",
       "      <td>0</td>\n",
       "      <td>0</td>\n",
       "    </tr>\n",
       "    <tr>\n",
       "      <th>2012-02-29</th>\n",
       "      <td>0</td>\n",
       "      <td>0</td>\n",
       "      <td>0</td>\n",
       "      <td>0</td>\n",
       "      <td>0</td>\n",
       "      <td>4</td>\n",
       "      <td>0</td>\n",
       "      <td>0</td>\n",
       "      <td>0</td>\n",
       "      <td>0</td>\n",
       "      <td>...</td>\n",
       "      <td>0</td>\n",
       "      <td>1</td>\n",
       "      <td>0</td>\n",
       "      <td>0</td>\n",
       "      <td>0</td>\n",
       "      <td>0</td>\n",
       "      <td>0</td>\n",
       "      <td>0</td>\n",
       "      <td>0</td>\n",
       "      <td>0</td>\n",
       "    </tr>\n",
       "    <tr>\n",
       "      <th>2012-03-31</th>\n",
       "      <td>0</td>\n",
       "      <td>0</td>\n",
       "      <td>0</td>\n",
       "      <td>0</td>\n",
       "      <td>0</td>\n",
       "      <td>0</td>\n",
       "      <td>0</td>\n",
       "      <td>0</td>\n",
       "      <td>0</td>\n",
       "      <td>0</td>\n",
       "      <td>...</td>\n",
       "      <td>0</td>\n",
       "      <td>0</td>\n",
       "      <td>0</td>\n",
       "      <td>0</td>\n",
       "      <td>0</td>\n",
       "      <td>0</td>\n",
       "      <td>0</td>\n",
       "      <td>2</td>\n",
       "      <td>0</td>\n",
       "      <td>0</td>\n",
       "    </tr>\n",
       "    <tr>\n",
       "      <th>2012-04-30</th>\n",
       "      <td>0</td>\n",
       "      <td>0</td>\n",
       "      <td>0</td>\n",
       "      <td>0</td>\n",
       "      <td>0</td>\n",
       "      <td>0</td>\n",
       "      <td>0</td>\n",
       "      <td>0</td>\n",
       "      <td>0</td>\n",
       "      <td>0</td>\n",
       "      <td>...</td>\n",
       "      <td>0</td>\n",
       "      <td>0</td>\n",
       "      <td>0</td>\n",
       "      <td>0</td>\n",
       "      <td>0</td>\n",
       "      <td>5</td>\n",
       "      <td>0</td>\n",
       "      <td>0</td>\n",
       "      <td>0</td>\n",
       "      <td>0</td>\n",
       "    </tr>\n",
       "    <tr>\n",
       "      <th>2012-05-31</th>\n",
       "      <td>0</td>\n",
       "      <td>0</td>\n",
       "      <td>0</td>\n",
       "      <td>0</td>\n",
       "      <td>0</td>\n",
       "      <td>0</td>\n",
       "      <td>0</td>\n",
       "      <td>0</td>\n",
       "      <td>0</td>\n",
       "      <td>0</td>\n",
       "      <td>...</td>\n",
       "      <td>0</td>\n",
       "      <td>0</td>\n",
       "      <td>0</td>\n",
       "      <td>0</td>\n",
       "      <td>0</td>\n",
       "      <td>0</td>\n",
       "      <td>0</td>\n",
       "      <td>0</td>\n",
       "      <td>0</td>\n",
       "      <td>0</td>\n",
       "    </tr>\n",
       "    <tr>\n",
       "      <th>2012-06-30</th>\n",
       "      <td>0</td>\n",
       "      <td>0</td>\n",
       "      <td>0</td>\n",
       "      <td>0</td>\n",
       "      <td>0</td>\n",
       "      <td>2</td>\n",
       "      <td>0</td>\n",
       "      <td>0</td>\n",
       "      <td>0</td>\n",
       "      <td>1</td>\n",
       "      <td>...</td>\n",
       "      <td>0</td>\n",
       "      <td>0</td>\n",
       "      <td>0</td>\n",
       "      <td>0</td>\n",
       "      <td>0</td>\n",
       "      <td>0</td>\n",
       "      <td>0</td>\n",
       "      <td>0</td>\n",
       "      <td>0</td>\n",
       "      <td>0</td>\n",
       "    </tr>\n",
       "    <tr>\n",
       "      <th>2012-07-31</th>\n",
       "      <td>0</td>\n",
       "      <td>0</td>\n",
       "      <td>0</td>\n",
       "      <td>0</td>\n",
       "      <td>0</td>\n",
       "      <td>2</td>\n",
       "      <td>0</td>\n",
       "      <td>2</td>\n",
       "      <td>0</td>\n",
       "      <td>0</td>\n",
       "      <td>...</td>\n",
       "      <td>0</td>\n",
       "      <td>0</td>\n",
       "      <td>0</td>\n",
       "      <td>0</td>\n",
       "      <td>0</td>\n",
       "      <td>0</td>\n",
       "      <td>0</td>\n",
       "      <td>0</td>\n",
       "      <td>0</td>\n",
       "      <td>0</td>\n",
       "    </tr>\n",
       "    <tr>\n",
       "      <th>2012-08-31</th>\n",
       "      <td>0</td>\n",
       "      <td>0</td>\n",
       "      <td>0</td>\n",
       "      <td>0</td>\n",
       "      <td>0</td>\n",
       "      <td>0</td>\n",
       "      <td>0</td>\n",
       "      <td>0</td>\n",
       "      <td>0</td>\n",
       "      <td>0</td>\n",
       "      <td>...</td>\n",
       "      <td>1</td>\n",
       "      <td>0</td>\n",
       "      <td>0</td>\n",
       "      <td>0</td>\n",
       "      <td>0</td>\n",
       "      <td>0</td>\n",
       "      <td>0</td>\n",
       "      <td>0</td>\n",
       "      <td>0</td>\n",
       "      <td>1</td>\n",
       "    </tr>\n",
       "    <tr>\n",
       "      <th>2012-09-30</th>\n",
       "      <td>0</td>\n",
       "      <td>0</td>\n",
       "      <td>0</td>\n",
       "      <td>0</td>\n",
       "      <td>0</td>\n",
       "      <td>0</td>\n",
       "      <td>0</td>\n",
       "      <td>0</td>\n",
       "      <td>0</td>\n",
       "      <td>0</td>\n",
       "      <td>...</td>\n",
       "      <td>0</td>\n",
       "      <td>0</td>\n",
       "      <td>2</td>\n",
       "      <td>0</td>\n",
       "      <td>0</td>\n",
       "      <td>0</td>\n",
       "      <td>0</td>\n",
       "      <td>0</td>\n",
       "      <td>0</td>\n",
       "      <td>0</td>\n",
       "    </tr>\n",
       "    <tr>\n",
       "      <th>2012-10-31</th>\n",
       "      <td>0</td>\n",
       "      <td>0</td>\n",
       "      <td>0</td>\n",
       "      <td>0</td>\n",
       "      <td>0</td>\n",
       "      <td>0</td>\n",
       "      <td>1</td>\n",
       "      <td>0</td>\n",
       "      <td>0</td>\n",
       "      <td>0</td>\n",
       "      <td>...</td>\n",
       "      <td>0</td>\n",
       "      <td>0</td>\n",
       "      <td>35</td>\n",
       "      <td>0</td>\n",
       "      <td>0</td>\n",
       "      <td>0</td>\n",
       "      <td>0</td>\n",
       "      <td>0</td>\n",
       "      <td>0</td>\n",
       "      <td>0</td>\n",
       "    </tr>\n",
       "    <tr>\n",
       "      <th>2012-11-30</th>\n",
       "      <td>2</td>\n",
       "      <td>0</td>\n",
       "      <td>0</td>\n",
       "      <td>0</td>\n",
       "      <td>0</td>\n",
       "      <td>0</td>\n",
       "      <td>0</td>\n",
       "      <td>0</td>\n",
       "      <td>0</td>\n",
       "      <td>0</td>\n",
       "      <td>...</td>\n",
       "      <td>0</td>\n",
       "      <td>0</td>\n",
       "      <td>83</td>\n",
       "      <td>0</td>\n",
       "      <td>0</td>\n",
       "      <td>0</td>\n",
       "      <td>0</td>\n",
       "      <td>0</td>\n",
       "      <td>0</td>\n",
       "      <td>0</td>\n",
       "    </tr>\n",
       "    <tr>\n",
       "      <th>2012-12-31</th>\n",
       "      <td>1</td>\n",
       "      <td>0</td>\n",
       "      <td>1</td>\n",
       "      <td>0</td>\n",
       "      <td>0</td>\n",
       "      <td>0</td>\n",
       "      <td>0</td>\n",
       "      <td>0</td>\n",
       "      <td>0</td>\n",
       "      <td>0</td>\n",
       "      <td>...</td>\n",
       "      <td>0</td>\n",
       "      <td>0</td>\n",
       "      <td>123</td>\n",
       "      <td>0</td>\n",
       "      <td>3</td>\n",
       "      <td>2</td>\n",
       "      <td>0</td>\n",
       "      <td>0</td>\n",
       "      <td>0</td>\n",
       "      <td>0</td>\n",
       "    </tr>\n",
       "    <tr>\n",
       "      <th>2013-01-31</th>\n",
       "      <td>0</td>\n",
       "      <td>0</td>\n",
       "      <td>0</td>\n",
       "      <td>0</td>\n",
       "      <td>2</td>\n",
       "      <td>0</td>\n",
       "      <td>0</td>\n",
       "      <td>0</td>\n",
       "      <td>0</td>\n",
       "      <td>0</td>\n",
       "      <td>...</td>\n",
       "      <td>0</td>\n",
       "      <td>0</td>\n",
       "      <td>41</td>\n",
       "      <td>0</td>\n",
       "      <td>0</td>\n",
       "      <td>0</td>\n",
       "      <td>0</td>\n",
       "      <td>0</td>\n",
       "      <td>0</td>\n",
       "      <td>0</td>\n",
       "    </tr>\n",
       "    <tr>\n",
       "      <th>2013-02-28</th>\n",
       "      <td>0</td>\n",
       "      <td>0</td>\n",
       "      <td>0</td>\n",
       "      <td>0</td>\n",
       "      <td>0</td>\n",
       "      <td>0</td>\n",
       "      <td>0</td>\n",
       "      <td>0</td>\n",
       "      <td>0</td>\n",
       "      <td>0</td>\n",
       "      <td>...</td>\n",
       "      <td>0</td>\n",
       "      <td>3</td>\n",
       "      <td>97</td>\n",
       "      <td>0</td>\n",
       "      <td>0</td>\n",
       "      <td>0</td>\n",
       "      <td>2</td>\n",
       "      <td>0</td>\n",
       "      <td>0</td>\n",
       "      <td>0</td>\n",
       "    </tr>\n",
       "    <tr>\n",
       "      <th>2013-03-31</th>\n",
       "      <td>0</td>\n",
       "      <td>0</td>\n",
       "      <td>0</td>\n",
       "      <td>0</td>\n",
       "      <td>0</td>\n",
       "      <td>0</td>\n",
       "      <td>0</td>\n",
       "      <td>0</td>\n",
       "      <td>0</td>\n",
       "      <td>0</td>\n",
       "      <td>...</td>\n",
       "      <td>0</td>\n",
       "      <td>0</td>\n",
       "      <td>295</td>\n",
       "      <td>3</td>\n",
       "      <td>0</td>\n",
       "      <td>0</td>\n",
       "      <td>0</td>\n",
       "      <td>0</td>\n",
       "      <td>9</td>\n",
       "      <td>0</td>\n",
       "    </tr>\n",
       "    <tr>\n",
       "      <th>2013-04-30</th>\n",
       "      <td>0</td>\n",
       "      <td>0</td>\n",
       "      <td>0</td>\n",
       "      <td>3</td>\n",
       "      <td>0</td>\n",
       "      <td>0</td>\n",
       "      <td>0</td>\n",
       "      <td>0</td>\n",
       "      <td>0</td>\n",
       "      <td>0</td>\n",
       "      <td>...</td>\n",
       "      <td>0</td>\n",
       "      <td>0</td>\n",
       "      <td>245</td>\n",
       "      <td>0</td>\n",
       "      <td>0</td>\n",
       "      <td>0</td>\n",
       "      <td>0</td>\n",
       "      <td>0</td>\n",
       "      <td>0</td>\n",
       "      <td>0</td>\n",
       "    </tr>\n",
       "  </tbody>\n",
       "</table>\n",
       "<p>32 rows × 375 columns</p>\n",
       "</div>"
      ],
      "text/plain": [
       "author      Aldanor  Altons  Anaphory  BenjaminKay  Bklyn  CRP  \\\n",
       "created                                                          \n",
       "2010-09-30        0       0         0            0      0    0   \n",
       "2010-10-31        0       0         0            0      0    0   \n",
       "2010-11-30        0       0         0            0      0    0   \n",
       "2010-12-31        0       0         0            0      0    0   \n",
       "2011-01-31        0       0         0            0      0    0   \n",
       "2011-02-28        0       0         0            0      0    0   \n",
       "2011-03-31        0       0         0            0      0    0   \n",
       "2011-04-30        0       0         0            0      0    0   \n",
       "2011-05-31        0       0         0            0      0    0   \n",
       "2011-06-30        0       0         0            0      0    0   \n",
       "2011-07-31        0       0         0            0      0    0   \n",
       "2011-08-31        0       0         0            0      0    0   \n",
       "2011-09-30        0       1         0            0      0    0   \n",
       "2011-10-31        0       6         0            0      0    1   \n",
       "2011-11-30        0       0         0            0      0    2   \n",
       "2011-12-31        0       0         0            0      0    2   \n",
       "2012-01-31        0       0         0            0      0    0   \n",
       "2012-02-29        0       0         0            0      0    4   \n",
       "2012-03-31        0       0         0            0      0    0   \n",
       "2012-04-30        0       0         0            0      0    0   \n",
       "2012-05-31        0       0         0            0      0    0   \n",
       "2012-06-30        0       0         0            0      0    2   \n",
       "2012-07-31        0       0         0            0      0    2   \n",
       "2012-08-31        0       0         0            0      0    0   \n",
       "2012-09-30        0       0         0            0      0    0   \n",
       "2012-10-31        0       0         0            0      0    0   \n",
       "2012-11-30        2       0         0            0      0    0   \n",
       "2012-12-31        1       0         1            0      0    0   \n",
       "2013-01-31        0       0         0            0      2    0   \n",
       "2013-02-28        0       0         0            0      0    0   \n",
       "2013-03-31        0       0         0            0      0    0   \n",
       "2013-04-30        0       0         0            3      0    0   \n",
       "\n",
       "author      CerebralMastication  DanielMorton  DataJunkie  FedericoV   ...    \\\n",
       "created                                                                ...     \n",
       "2010-09-30                    0             0           0          0   ...     \n",
       "2010-10-31                    0             0           0          0   ...     \n",
       "2010-11-30                    0             0           0          0   ...     \n",
       "2010-12-31                    0             0           0          0   ...     \n",
       "2011-01-31                    0             0           0          0   ...     \n",
       "2011-02-28                    0             0           0          0   ...     \n",
       "2011-03-31                    0             0           0          0   ...     \n",
       "2011-04-30                    0             0           0          0   ...     \n",
       "2011-05-31                    0             0           0          0   ...     \n",
       "2011-06-30                    0             0           0          0   ...     \n",
       "2011-07-31                    0             0           0          0   ...     \n",
       "2011-08-31                    0             0           0          0   ...     \n",
       "2011-09-30                    0             0           5          0   ...     \n",
       "2011-10-31                    0             0           0          0   ...     \n",
       "2011-11-30                    0             0           0          0   ...     \n",
       "2011-12-31                    0             0           0          0   ...     \n",
       "2012-01-31                    0             0           0          0   ...     \n",
       "2012-02-29                    0             0           0          0   ...     \n",
       "2012-03-31                    0             0           0          0   ...     \n",
       "2012-04-30                    0             0           0          0   ...     \n",
       "2012-05-31                    0             0           0          0   ...     \n",
       "2012-06-30                    0             0           0          1   ...     \n",
       "2012-07-31                    0             2           0          0   ...     \n",
       "2012-08-31                    0             0           0          0   ...     \n",
       "2012-09-30                    0             0           0          0   ...     \n",
       "2012-10-31                    1             0           0          0   ...     \n",
       "2012-11-30                    0             0           0          0   ...     \n",
       "2012-12-31                    0             0           0          0   ...     \n",
       "2013-01-31                    0             0           0          0   ...     \n",
       "2013-02-28                    0             0           0          0   ...     \n",
       "2013-03-31                    0             0           0          0   ...     \n",
       "2013-04-30                    0             0           0          0   ...     \n",
       "\n",
       "author      xamox  xdong  y-p  yangzetian  yarden  yarikoptic  yashoteja  \\\n",
       "created                                                                    \n",
       "2010-09-30      0      0    0           0       0           0          0   \n",
       "2010-10-31      0      0    0           0       0           0          0   \n",
       "2010-11-30      0      0    0           0       0           0          0   \n",
       "2010-12-31      0      0    0           0       0           0          0   \n",
       "2011-01-31      0      0    0           0       0           0          0   \n",
       "2011-02-28      0      0    0           0       0           0          0   \n",
       "2011-03-31      0      0    0           0       0           0          0   \n",
       "2011-04-30      0      0    0           0       0           0          0   \n",
       "2011-05-31      0      0    0           0       0           0          0   \n",
       "2011-06-30      0      0    0           0       0           0          0   \n",
       "2011-07-31      0      0    0           0       0           0          0   \n",
       "2011-08-31      0      1    0           0       0           0          0   \n",
       "2011-09-30      0      1    0           0       0           2          0   \n",
       "2011-10-31      0      0    0           0       0           0          0   \n",
       "2011-11-30      0      0    0           0       0           0          0   \n",
       "2011-12-31      0      0    0           0       0           0          0   \n",
       "2012-01-31      0      0    0           0       0           8          0   \n",
       "2012-02-29      0      1    0           0       0           0          0   \n",
       "2012-03-31      0      0    0           0       0           0          0   \n",
       "2012-04-30      0      0    0           0       0           5          0   \n",
       "2012-05-31      0      0    0           0       0           0          0   \n",
       "2012-06-30      0      0    0           0       0           0          0   \n",
       "2012-07-31      0      0    0           0       0           0          0   \n",
       "2012-08-31      1      0    0           0       0           0          0   \n",
       "2012-09-30      0      0    2           0       0           0          0   \n",
       "2012-10-31      0      0   35           0       0           0          0   \n",
       "2012-11-30      0      0   83           0       0           0          0   \n",
       "2012-12-31      0      0  123           0       3           2          0   \n",
       "2013-01-31      0      0   41           0       0           0          0   \n",
       "2013-02-28      0      3   97           0       0           0          2   \n",
       "2013-03-31      0      0  295           3       0           0          0   \n",
       "2013-04-30      0      0  245           0       0           0          0   \n",
       "\n",
       "author      yinhm  yishenggudou  zachcp  \n",
       "created                                  \n",
       "2010-09-30      0             0       0  \n",
       "2010-10-31      0             0       0  \n",
       "2010-11-30      0             0       0  \n",
       "2010-12-31      0             0       0  \n",
       "2011-01-31      0             0       0  \n",
       "2011-02-28      0             0       0  \n",
       "2011-03-31      0             0       0  \n",
       "2011-04-30      0             0       0  \n",
       "2011-05-31      0             0       0  \n",
       "2011-06-30      0             0       0  \n",
       "2011-07-31      0             0       0  \n",
       "2011-08-31      0             0       0  \n",
       "2011-09-30      0             0       0  \n",
       "2011-10-31      0             0       0  \n",
       "2011-11-30      0             0       0  \n",
       "2011-12-31      0             0       0  \n",
       "2012-01-31      0             0       0  \n",
       "2012-02-29      0             0       0  \n",
       "2012-03-31      2             0       0  \n",
       "2012-04-30      0             0       0  \n",
       "2012-05-31      0             0       0  \n",
       "2012-06-30      0             0       0  \n",
       "2012-07-31      0             0       0  \n",
       "2012-08-31      0             0       1  \n",
       "2012-09-30      0             0       0  \n",
       "2012-10-31      0             0       0  \n",
       "2012-11-30      0             0       0  \n",
       "2012-12-31      0             0       0  \n",
       "2013-01-31      0             0       0  \n",
       "2013-02-28      0             0       0  \n",
       "2013-03-31      0             9       0  \n",
       "2013-04-30      0             0       0  \n",
       "\n",
       "[32 rows x 375 columns]"
      ]
     },
     "execution_count": 73,
     "metadata": {},
     "output_type": "execute_result"
    }
   ],
   "source": [
    "tmp2"
   ]
  },
  {
   "cell_type": "code",
   "execution_count": 74,
   "metadata": {
    "collapsed": false
   },
   "outputs": [
    {
     "data": {
      "text/plain": [
       "'hector13'"
      ]
     },
     "execution_count": 74,
     "metadata": {},
     "output_type": "execute_result"
    }
   ],
   "source": [
    "argmax(tmp2.ix[1,:])"
   ]
  },
  {
   "cell_type": "code",
   "execution_count": 75,
   "metadata": {
    "collapsed": false
   },
   "outputs": [
    {
     "data": {
      "text/plain": [
       "created\n",
       "2010-09-30        wesm\n",
       "2010-10-31    hector13\n",
       "2010-11-30        wesm\n",
       "2010-12-31        wesm\n",
       "2011-01-31        wesm\n",
       "2011-02-28        wesm\n",
       "Freq: M, dtype: object"
      ]
     },
     "execution_count": 75,
     "metadata": {},
     "output_type": "execute_result"
    }
   ],
   "source": [
    "# The \"chattiest\" user (most number of comments)\n",
    "ts8_2 = tmp2.apply(lambda x: argmax(x), axis = 1) #axis=1 apply function to each row\n",
    "ts8_2.head(6)"
   ]
  },
  {
   "cell_type": "code",
   "execution_count": 76,
   "metadata": {
    "collapsed": true
   },
   "outputs": [],
   "source": [
    "# The percentage of total comments made by the chattiest users\n",
    "# The number of distinct participants in the issue comments"
   ]
  },
  {
   "cell_type": "code",
   "execution_count": 77,
   "metadata": {
    "collapsed": false
   },
   "outputs": [
    {
     "data": {
      "text/plain": [
       "created\n",
       "2010-09-30     3\n",
       "2010-10-31     2\n",
       "2010-11-30     2\n",
       "2010-12-31    30\n",
       "2011-01-31    13\n",
       "2011-02-28    11\n",
       "Freq: M, dtype: int64"
      ]
     },
     "execution_count": 77,
     "metadata": {},
     "output_type": "execute_result"
    }
   ],
   "source": [
    "tmp3 = tmp2.apply(sum, axis=1)\n",
    "tmp3.head(6)"
   ]
  },
  {
   "cell_type": "code",
   "execution_count": 78,
   "metadata": {
    "collapsed": false
   },
   "outputs": [
    {
     "data": {
      "text/plain": [
       "created\n",
       "2010-09-30    1.000000\n",
       "2010-10-31    0.500000\n",
       "2010-11-30    1.000000\n",
       "2010-12-31    0.733333\n",
       "2011-01-31    0.846154\n",
       "2011-02-28    0.909091\n",
       "2011-03-31    0.500000\n",
       "2011-04-30         NaN\n",
       "2011-05-31    0.500000\n",
       "2011-06-30    0.925926\n",
       "2011-07-31    0.603774\n",
       "2011-08-31    0.750000\n",
       "2011-09-30    0.763158\n",
       "2011-10-31    0.641618\n",
       "2011-11-30    0.687151\n",
       "2011-12-31    0.626168\n",
       "2012-01-31    0.480132\n",
       "2012-02-29    0.447761\n",
       "2012-03-31    0.225490\n",
       "2012-04-30    0.486607\n",
       "2012-05-31    0.523973\n",
       "2012-06-30    0.515789\n",
       "2012-07-31    0.352941\n",
       "2012-08-31    0.390411\n",
       "2012-09-30    0.564014\n",
       "2012-10-31    0.347418\n",
       "2012-11-30    0.369668\n",
       "2012-12-31    0.340909\n",
       "2013-01-31    0.234332\n",
       "2013-02-28    0.328494\n",
       "2013-03-31    0.350505\n",
       "2013-04-30    0.348506\n",
       "Freq: M, dtype: float64"
      ]
     },
     "execution_count": 78,
     "metadata": {},
     "output_type": "execute_result"
    }
   ],
   "source": [
    "ts8_3 = tmp2.apply(lambda x:max(x), axis=1)/tmp3\n",
    "ts8_3"
   ]
  },
  {
   "cell_type": "code",
   "execution_count": 79,
   "metadata": {
    "collapsed": true
   },
   "outputs": [],
   "source": [
    "# The number of distinct participants in the issue comments"
   ]
  },
  {
   "cell_type": "code",
   "execution_count": 80,
   "metadata": {
    "collapsed": false
   },
   "outputs": [
    {
     "data": {
      "text/plain": [
       "created\n",
       "2010-09-30     1\n",
       "2010-10-31     2\n",
       "2010-11-30     1\n",
       "2010-12-31     4\n",
       "2011-01-31     2\n",
       "2011-02-28     2\n",
       "2011-03-31     3\n",
       "2011-04-30     0\n",
       "2011-05-31     2\n",
       "2011-06-30     2\n",
       "2011-07-31     8\n",
       "2011-08-31     5\n",
       "2011-09-30    11\n",
       "2011-10-31    18\n",
       "2011-11-30    26\n",
       "2011-12-31    22\n",
       "2012-01-31    30\n",
       "2012-02-29    23\n",
       "2012-03-31    33\n",
       "2012-04-30    34\n",
       "2012-05-31    26\n",
       "2012-06-30    39\n",
       "2012-07-31    37\n",
       "2012-08-31    41\n",
       "2012-09-30    40\n",
       "2012-10-31    40\n",
       "2012-11-30    60\n",
       "2012-12-31    58\n",
       "2013-01-31    46\n",
       "2013-02-28    40\n",
       "2013-03-31    58\n",
       "2013-04-30    51\n",
       "Freq: M, dtype: int64"
      ]
     },
     "execution_count": 80,
     "metadata": {},
     "output_type": "execute_result"
    }
   ],
   "source": [
    "tmp2.apply(lambda x: x[x!=0].count(), axis = 1)"
   ]
  },
  {
   "cell_type": "code",
   "execution_count": 81,
   "metadata": {
    "collapsed": true
   },
   "outputs": [],
   "source": [
    "### ---------------- Task 9 --------------------- ###\n",
    "# Create a helper labels table from the issues data with two columns: id and label. If an issue has 3 elements in its 'labels' \n",
    "# value, add 3 rows to the table. If an issue does not have any labels, place a single row with None as the label (hint: \n",
    "# construct a list of tuples, then make the DataFrame)."
   ]
  },
  {
   "cell_type": "code",
   "execution_count": 82,
   "metadata": {
    "collapsed": false
   },
   "outputs": [
    {
     "data": {
      "text/plain": [
       "[{'color': 'e10c02',\n",
       "  'name': 'Bug',\n",
       "  'url': 'https://api.github.com/repos/pydata/pandas/labels/Bug'}]"
      ]
     },
     "execution_count": 82,
     "metadata": {},
     "output_type": "execute_result"
    }
   ],
   "source": [
    "data_cl['labels']\n",
    "data_cl['labels'][7]"
   ]
  },
  {
   "cell_type": "code",
   "execution_count": 83,
   "metadata": {
    "collapsed": false
   },
   "outputs": [
    {
     "data": {
      "text/plain": [
       "{'color': '4E9A06',\n",
       " 'name': 'Enhancement',\n",
       " 'url': 'https://api.github.com/repos/pydata/pandas/labels/Enhancement'}"
      ]
     },
     "execution_count": 83,
     "metadata": {},
     "output_type": "execute_result"
    }
   ],
   "source": [
    "data_cl['labels'][12][0]"
   ]
  },
  {
   "cell_type": "code",
   "execution_count": 84,
   "metadata": {
    "collapsed": false
   },
   "outputs": [
    {
     "data": {
      "text/html": [
       "<div>\n",
       "<table border=\"1\" class=\"dataframe\">\n",
       "  <thead>\n",
       "    <tr style=\"text-align: right;\">\n",
       "      <th></th>\n",
       "      <th>0</th>\n",
       "    </tr>\n",
       "  </thead>\n",
       "  <tbody>\n",
       "    <tr>\n",
       "      <th>color</th>\n",
       "      <td>4E9A06</td>\n",
       "    </tr>\n",
       "    <tr>\n",
       "      <th>name</th>\n",
       "      <td>Enhancement</td>\n",
       "    </tr>\n",
       "    <tr>\n",
       "      <th>url</th>\n",
       "      <td>https://api.github.com/repos/pydata/pandas/lab...</td>\n",
       "    </tr>\n",
       "  </tbody>\n",
       "</table>\n",
       "</div>"
      ],
      "text/plain": [
       "                                                       0\n",
       "color                                             4E9A06\n",
       "name                                         Enhancement\n",
       "url    https://api.github.com/repos/pydata/pandas/lab..."
      ]
     },
     "execution_count": 84,
     "metadata": {},
     "output_type": "execute_result"
    }
   ],
   "source": [
    "pd.DataFrame.from_dict(data_cl['labels'][12][0], orient='index')"
   ]
  },
  {
   "cell_type": "code",
   "execution_count": 85,
   "metadata": {
    "collapsed": false
   },
   "outputs": [],
   "source": [
    "ts9 = pd.DataFrame()\n",
    "for i in data_cl.index:\n",
    "    check = data_cl['labels'][i]\n",
    "    if len(check)==0:\n",
    "        tmp = pd.DataFrame([None])\n",
    "    else:\n",
    "        tmp = pd.DataFrame.from_dict(check[0], orient='index')\n",
    "    tmp.loc[:,'id'] = data_cl.loc[i,'id']\n",
    "    ts9 = ts9.append(pd.DataFrame(tmp))"
   ]
  },
  {
   "cell_type": "code",
   "execution_count": 86,
   "metadata": {
    "collapsed": false
   },
   "outputs": [
    {
     "data": {
      "text/html": [
       "<div>\n",
       "<table border=\"1\" class=\"dataframe\">\n",
       "  <thead>\n",
       "    <tr style=\"text-align: right;\">\n",
       "      <th></th>\n",
       "      <th>0</th>\n",
       "      <th>id</th>\n",
       "    </tr>\n",
       "  </thead>\n",
       "  <tbody>\n",
       "    <tr>\n",
       "      <th>0</th>\n",
       "      <td>NaN</td>\n",
       "      <td>337721.0</td>\n",
       "    </tr>\n",
       "    <tr>\n",
       "      <th>0</th>\n",
       "      <td>NaN</td>\n",
       "      <td>337726.0</td>\n",
       "    </tr>\n",
       "    <tr>\n",
       "      <th>0</th>\n",
       "      <td>NaN</td>\n",
       "      <td>337728.0</td>\n",
       "    </tr>\n",
       "    <tr>\n",
       "      <th>0</th>\n",
       "      <td>NaN</td>\n",
       "      <td>337730.0</td>\n",
       "    </tr>\n",
       "    <tr>\n",
       "      <th>0</th>\n",
       "      <td>NaN</td>\n",
       "      <td>337736.0</td>\n",
       "    </tr>\n",
       "    <tr>\n",
       "      <th>0</th>\n",
       "      <td>NaN</td>\n",
       "      <td>337994.0</td>\n",
       "    </tr>\n",
       "    <tr>\n",
       "      <th>0</th>\n",
       "      <td>NaN</td>\n",
       "      <td>338909.0</td>\n",
       "    </tr>\n",
       "    <tr>\n",
       "      <th>color</th>\n",
       "      <td>e10c02</td>\n",
       "      <td>339355.0</td>\n",
       "    </tr>\n",
       "    <tr>\n",
       "      <th>name</th>\n",
       "      <td>Bug</td>\n",
       "      <td>339355.0</td>\n",
       "    </tr>\n",
       "    <tr>\n",
       "      <th>url</th>\n",
       "      <td>https://api.github.com/repos/pydata/pandas/lab...</td>\n",
       "      <td>339355.0</td>\n",
       "    </tr>\n",
       "  </tbody>\n",
       "</table>\n",
       "</div>"
      ],
      "text/plain": [
       "                                                       0        id\n",
       "0                                                    NaN  337721.0\n",
       "0                                                    NaN  337726.0\n",
       "0                                                    NaN  337728.0\n",
       "0                                                    NaN  337730.0\n",
       "0                                                    NaN  337736.0\n",
       "0                                                    NaN  337994.0\n",
       "0                                                    NaN  338909.0\n",
       "color                                             e10c02  339355.0\n",
       "name                                                 Bug  339355.0\n",
       "url    https://api.github.com/repos/pydata/pandas/lab...  339355.0"
      ]
     },
     "execution_count": 86,
     "metadata": {},
     "output_type": "execute_result"
    }
   ],
   "source": [
    "ts9.head(10)"
   ]
  },
  {
   "cell_type": "code",
   "execution_count": 87,
   "metadata": {
    "collapsed": false
   },
   "outputs": [
    {
     "data": {
      "text/plain": [
       "Index(['labels', 'id'], dtype='object')"
      ]
     },
     "execution_count": 87,
     "metadata": {},
     "output_type": "execute_result"
    }
   ],
   "source": [
    "ts9.columns = ['labels','id']\n",
    "ts9.columns"
   ]
  },
  {
   "cell_type": "code",
   "execution_count": 88,
   "metadata": {
    "collapsed": true
   },
   "outputs": [],
   "source": [
    "### ------------------- Task 10 -------------------- ###\n",
    "# Now, join the issues data with the labels helper table (pandas.merge). Add a column to this table containing the number of days\n",
    "# (as a floating point number) it took to close each issue."
   ]
  },
  {
   "cell_type": "code",
   "execution_count": 89,
   "metadata": {
    "collapsed": false
   },
   "outputs": [
    {
     "data": {
      "text/html": [
       "<div>\n",
       "<table border=\"1\" class=\"dataframe\">\n",
       "  <thead>\n",
       "    <tr style=\"text-align: right;\">\n",
       "      <th></th>\n",
       "      <th>created_at</th>\n",
       "      <th>title</th>\n",
       "      <th>labels</th>\n",
       "      <th>closed_at</th>\n",
       "      <th>user</th>\n",
       "      <th>id</th>\n",
       "      <th>ttl_period</th>\n",
       "      <th>ttl_days</th>\n",
       "    </tr>\n",
       "  </thead>\n",
       "  <tbody>\n",
       "    <tr>\n",
       "      <th>0</th>\n",
       "      <td>2010-09-29 00:45:31</td>\n",
       "      <td>Enable element-wise comparison operations in D...</td>\n",
       "      <td>[]</td>\n",
       "      <td>2011-02-19 23:13:48</td>\n",
       "      <td>wesm</td>\n",
       "      <td>337721</td>\n",
       "      <td>143 days 22:28:17</td>\n",
       "      <td>143.936308</td>\n",
       "    </tr>\n",
       "    <tr>\n",
       "      <th>1</th>\n",
       "      <td>2010-09-29 00:50:13</td>\n",
       "      <td>reindex_like function</td>\n",
       "      <td>[]</td>\n",
       "      <td>2010-12-17 02:57:33</td>\n",
       "      <td>wesm</td>\n",
       "      <td>337726</td>\n",
       "      <td>79 days 02:07:20</td>\n",
       "      <td>79.088426</td>\n",
       "    </tr>\n",
       "    <tr>\n",
       "      <th>2</th>\n",
       "      <td>2010-09-29 00:50:52</td>\n",
       "      <td>Binary operations on int DataMatrix</td>\n",
       "      <td>[]</td>\n",
       "      <td>2011-01-01 23:50:12</td>\n",
       "      <td>wesm</td>\n",
       "      <td>337728</td>\n",
       "      <td>94 days 22:59:20</td>\n",
       "      <td>94.957870</td>\n",
       "    </tr>\n",
       "  </tbody>\n",
       "</table>\n",
       "</div>"
      ],
      "text/plain": [
       "           created_at                                              title  \\\n",
       "0 2010-09-29 00:45:31  Enable element-wise comparison operations in D...   \n",
       "1 2010-09-29 00:50:13                              reindex_like function   \n",
       "2 2010-09-29 00:50:52                Binary operations on int DataMatrix   \n",
       "\n",
       "  labels           closed_at  user      id        ttl_period    ttl_days  \n",
       "0     [] 2011-02-19 23:13:48  wesm  337721 143 days 22:28:17  143.936308  \n",
       "1     [] 2010-12-17 02:57:33  wesm  337726  79 days 02:07:20   79.088426  \n",
       "2     [] 2011-01-01 23:50:12  wesm  337728  94 days 22:59:20   94.957870  "
      ]
     },
     "execution_count": 89,
     "metadata": {},
     "output_type": "execute_result"
    }
   ],
   "source": [
    "data_cl.head(3)"
   ]
  },
  {
   "cell_type": "code",
   "execution_count": 90,
   "metadata": {
    "collapsed": false
   },
   "outputs": [
    {
     "data": {
      "text/html": [
       "<div>\n",
       "<table border=\"1\" class=\"dataframe\">\n",
       "  <thead>\n",
       "    <tr style=\"text-align: right;\">\n",
       "      <th></th>\n",
       "      <th>labels</th>\n",
       "      <th>id</th>\n",
       "      <th>ttl_days</th>\n",
       "      <th>created_at</th>\n",
       "    </tr>\n",
       "  </thead>\n",
       "  <tbody>\n",
       "    <tr>\n",
       "      <th>0</th>\n",
       "      <td>NaN</td>\n",
       "      <td>337721.0</td>\n",
       "      <td>143.936308</td>\n",
       "      <td>2010-09-29 00:45:31</td>\n",
       "    </tr>\n",
       "    <tr>\n",
       "      <th>1</th>\n",
       "      <td>NaN</td>\n",
       "      <td>337726.0</td>\n",
       "      <td>79.088426</td>\n",
       "      <td>2010-09-29 00:50:13</td>\n",
       "    </tr>\n",
       "    <tr>\n",
       "      <th>2</th>\n",
       "      <td>NaN</td>\n",
       "      <td>337728.0</td>\n",
       "      <td>94.957870</td>\n",
       "      <td>2010-09-29 00:50:52</td>\n",
       "    </tr>\n",
       "    <tr>\n",
       "      <th>3</th>\n",
       "      <td>NaN</td>\n",
       "      <td>337730.0</td>\n",
       "      <td>73.224363</td>\n",
       "      <td>2010-09-29 00:51:27</td>\n",
       "    </tr>\n",
       "    <tr>\n",
       "      <th>4</th>\n",
       "      <td>NaN</td>\n",
       "      <td>337736.0</td>\n",
       "      <td>79.076088</td>\n",
       "      <td>2010-09-29 00:57:00</td>\n",
       "    </tr>\n",
       "    <tr>\n",
       "      <th>5</th>\n",
       "      <td>NaN</td>\n",
       "      <td>337994.0</td>\n",
       "      <td>73.023958</td>\n",
       "      <td>2010-09-29 05:30:56</td>\n",
       "    </tr>\n",
       "    <tr>\n",
       "      <th>6</th>\n",
       "      <td>NaN</td>\n",
       "      <td>338909.0</td>\n",
       "      <td>72.604225</td>\n",
       "      <td>2010-09-29 15:41:55</td>\n",
       "    </tr>\n",
       "    <tr>\n",
       "      <th>7</th>\n",
       "      <td>e10c02</td>\n",
       "      <td>339355.0</td>\n",
       "      <td>266.377986</td>\n",
       "      <td>2010-09-29 19:45:47</td>\n",
       "    </tr>\n",
       "    <tr>\n",
       "      <th>8</th>\n",
       "      <td>Bug</td>\n",
       "      <td>339355.0</td>\n",
       "      <td>266.377986</td>\n",
       "      <td>2010-09-29 19:45:47</td>\n",
       "    </tr>\n",
       "    <tr>\n",
       "      <th>9</th>\n",
       "      <td>https://api.github.com/repos/pydata/pandas/lab...</td>\n",
       "      <td>339355.0</td>\n",
       "      <td>266.377986</td>\n",
       "      <td>2010-09-29 19:45:47</td>\n",
       "    </tr>\n",
       "  </tbody>\n",
       "</table>\n",
       "</div>"
      ],
      "text/plain": [
       "                                              labels        id    ttl_days  \\\n",
       "0                                                NaN  337721.0  143.936308   \n",
       "1                                                NaN  337726.0   79.088426   \n",
       "2                                                NaN  337728.0   94.957870   \n",
       "3                                                NaN  337730.0   73.224363   \n",
       "4                                                NaN  337736.0   79.076088   \n",
       "5                                                NaN  337994.0   73.023958   \n",
       "6                                                NaN  338909.0   72.604225   \n",
       "7                                             e10c02  339355.0  266.377986   \n",
       "8                                                Bug  339355.0  266.377986   \n",
       "9  https://api.github.com/repos/pydata/pandas/lab...  339355.0  266.377986   \n",
       "\n",
       "           created_at  \n",
       "0 2010-09-29 00:45:31  \n",
       "1 2010-09-29 00:50:13  \n",
       "2 2010-09-29 00:50:52  \n",
       "3 2010-09-29 00:51:27  \n",
       "4 2010-09-29 00:57:00  \n",
       "5 2010-09-29 05:30:56  \n",
       "6 2010-09-29 15:41:55  \n",
       "7 2010-09-29 19:45:47  \n",
       "8 2010-09-29 19:45:47  \n",
       "9 2010-09-29 19:45:47  "
      ]
     },
     "execution_count": 90,
     "metadata": {},
     "output_type": "execute_result"
    }
   ],
   "source": [
    "ts10 = pd.merge(ts9, data_cl[[\"id\",\"ttl_days\",'created_at']], on='id', how='left')\n",
    "ts10.head(10)"
   ]
  },
  {
   "cell_type": "code",
   "execution_count": 91,
   "metadata": {
    "collapsed": true
   },
   "outputs": [],
   "source": [
    "### ------------------ Task 11 ---------------------- ###\n",
    "# Compute a table containing the average time to close for each label type. Now make a plot comparing mean time to close by \n",
    "# month for Enhancement versus Bug issue types"
   ]
  },
  {
   "cell_type": "code",
   "execution_count": 92,
   "metadata": {
    "collapsed": false
   },
   "outputs": [],
   "source": [
    "#pd.unique(ts10['labels'].values.ravel())"
   ]
  },
  {
   "cell_type": "code",
   "execution_count": 93,
   "metadata": {
    "collapsed": false
   },
   "outputs": [],
   "source": [
    "ts10.set_index(\"created_at\",inplace=True)"
   ]
  },
  {
   "cell_type": "code",
   "execution_count": 94,
   "metadata": {
    "collapsed": false
   },
   "outputs": [
    {
     "data": {
      "text/html": [
       "<div>\n",
       "<table border=\"1\" class=\"dataframe\">\n",
       "  <thead>\n",
       "    <tr style=\"text-align: right;\">\n",
       "      <th></th>\n",
       "      <th>labels</th>\n",
       "      <th>id</th>\n",
       "      <th>ttl_days</th>\n",
       "    </tr>\n",
       "    <tr>\n",
       "      <th>created_at</th>\n",
       "      <th></th>\n",
       "      <th></th>\n",
       "      <th></th>\n",
       "    </tr>\n",
       "  </thead>\n",
       "  <tbody>\n",
       "    <tr>\n",
       "      <th>2010-09-29 00:45:31</th>\n",
       "      <td>NaN</td>\n",
       "      <td>337721.0</td>\n",
       "      <td>143.936308</td>\n",
       "    </tr>\n",
       "    <tr>\n",
       "      <th>2010-09-29 00:50:13</th>\n",
       "      <td>NaN</td>\n",
       "      <td>337726.0</td>\n",
       "      <td>79.088426</td>\n",
       "    </tr>\n",
       "    <tr>\n",
       "      <th>2010-09-29 00:50:52</th>\n",
       "      <td>NaN</td>\n",
       "      <td>337728.0</td>\n",
       "      <td>94.957870</td>\n",
       "    </tr>\n",
       "  </tbody>\n",
       "</table>\n",
       "</div>"
      ],
      "text/plain": [
       "                    labels        id    ttl_days\n",
       "created_at                                      \n",
       "2010-09-29 00:45:31    NaN  337721.0  143.936308\n",
       "2010-09-29 00:50:13    NaN  337726.0   79.088426\n",
       "2010-09-29 00:50:52    NaN  337728.0   94.957870"
      ]
     },
     "execution_count": 94,
     "metadata": {},
     "output_type": "execute_result"
    }
   ],
   "source": [
    "ts10.head(3)   #df.groupby(['State','City']).resample('2D', how='sum'))"
   ]
  },
  {
   "cell_type": "code",
   "execution_count": 95,
   "metadata": {
    "collapsed": false
   },
   "outputs": [
    {
     "name": "stderr",
     "output_type": "stream",
     "text": [
      "/Users/farahshih/anaconda/lib/python3.5/site-packages/ipykernel/__main__.py:1: FutureWarning: how in .resample() is deprecated\n",
      "the new syntax is .resample(...).mean()\n",
      "  if __name__ == '__main__':\n"
     ]
    },
    {
     "data": {
      "text/html": [
       "<div>\n",
       "<table border=\"1\" class=\"dataframe\">\n",
       "  <thead>\n",
       "    <tr style=\"text-align: right;\">\n",
       "      <th></th>\n",
       "      <th></th>\n",
       "      <th>id</th>\n",
       "      <th>ttl_days</th>\n",
       "    </tr>\n",
       "    <tr>\n",
       "      <th>labels</th>\n",
       "      <th>created_at</th>\n",
       "      <th></th>\n",
       "      <th></th>\n",
       "    </tr>\n",
       "  </thead>\n",
       "  <tbody>\n",
       "    <tr>\n",
       "      <th rowspan=\"26\" valign=\"top\">Bug</th>\n",
       "      <th>2010-09-30</th>\n",
       "      <td>3.393550e+05</td>\n",
       "      <td>266.377986</td>\n",
       "    </tr>\n",
       "    <tr>\n",
       "      <th>2010-10-31</th>\n",
       "      <td>3.589520e+05</td>\n",
       "      <td>347.543206</td>\n",
       "    </tr>\n",
       "    <tr>\n",
       "      <th>2011-05-31</th>\n",
       "      <td>9.341420e+05</td>\n",
       "      <td>33.252731</td>\n",
       "    </tr>\n",
       "    <tr>\n",
       "      <th>2011-06-30</th>\n",
       "      <td>9.971650e+05</td>\n",
       "      <td>11.207095</td>\n",
       "    </tr>\n",
       "    <tr>\n",
       "      <th>2011-07-31</th>\n",
       "      <td>1.256783e+06</td>\n",
       "      <td>4.958562</td>\n",
       "    </tr>\n",
       "    <tr>\n",
       "      <th>2011-08-31</th>\n",
       "      <td>1.427368e+06</td>\n",
       "      <td>7.898266</td>\n",
       "    </tr>\n",
       "    <tr>\n",
       "      <th>2011-09-30</th>\n",
       "      <td>1.674072e+06</td>\n",
       "      <td>16.541055</td>\n",
       "    </tr>\n",
       "    <tr>\n",
       "      <th>2011-10-31</th>\n",
       "      <td>1.946132e+06</td>\n",
       "      <td>0.877039</td>\n",
       "    </tr>\n",
       "    <tr>\n",
       "      <th>2011-11-30</th>\n",
       "      <td>2.238229e+06</td>\n",
       "      <td>12.529646</td>\n",
       "    </tr>\n",
       "    <tr>\n",
       "      <th>2011-12-31</th>\n",
       "      <td>2.568587e+06</td>\n",
       "      <td>24.773159</td>\n",
       "    </tr>\n",
       "    <tr>\n",
       "      <th>2012-01-31</th>\n",
       "      <td>2.895496e+06</td>\n",
       "      <td>11.906952</td>\n",
       "    </tr>\n",
       "    <tr>\n",
       "      <th>2012-02-29</th>\n",
       "      <td>3.218979e+06</td>\n",
       "      <td>17.877019</td>\n",
       "    </tr>\n",
       "    <tr>\n",
       "      <th>2012-03-31</th>\n",
       "      <td>3.625795e+06</td>\n",
       "      <td>15.870630</td>\n",
       "    </tr>\n",
       "    <tr>\n",
       "      <th>2012-04-30</th>\n",
       "      <td>4.171357e+06</td>\n",
       "      <td>14.057429</td>\n",
       "    </tr>\n",
       "    <tr>\n",
       "      <th>2012-05-31</th>\n",
       "      <td>4.659990e+06</td>\n",
       "      <td>5.774539</td>\n",
       "    </tr>\n",
       "    <tr>\n",
       "      <th>2012-06-30</th>\n",
       "      <td>5.075402e+06</td>\n",
       "      <td>5.863773</td>\n",
       "    </tr>\n",
       "    <tr>\n",
       "      <th>2012-07-31</th>\n",
       "      <td>5.686515e+06</td>\n",
       "      <td>11.086846</td>\n",
       "    </tr>\n",
       "    <tr>\n",
       "      <th>2012-08-31</th>\n",
       "      <td>6.259953e+06</td>\n",
       "      <td>19.459502</td>\n",
       "    </tr>\n",
       "    <tr>\n",
       "      <th>2012-09-30</th>\n",
       "      <td>6.889600e+06</td>\n",
       "      <td>16.765104</td>\n",
       "    </tr>\n",
       "    <tr>\n",
       "      <th>2012-10-31</th>\n",
       "      <td>7.652522e+06</td>\n",
       "      <td>18.552517</td>\n",
       "    </tr>\n",
       "    <tr>\n",
       "      <th>2012-11-30</th>\n",
       "      <td>8.384333e+06</td>\n",
       "      <td>5.523776</td>\n",
       "    </tr>\n",
       "    <tr>\n",
       "      <th>2012-12-31</th>\n",
       "      <td>9.298670e+06</td>\n",
       "      <td>8.546535</td>\n",
       "    </tr>\n",
       "    <tr>\n",
       "      <th>2013-01-31</th>\n",
       "      <td>1.006784e+07</td>\n",
       "      <td>25.682938</td>\n",
       "    </tr>\n",
       "    <tr>\n",
       "      <th>2013-02-28</th>\n",
       "      <td>1.100434e+07</td>\n",
       "      <td>26.134213</td>\n",
       "    </tr>\n",
       "    <tr>\n",
       "      <th>2013-03-31</th>\n",
       "      <td>1.213083e+07</td>\n",
       "      <td>4.457436</td>\n",
       "    </tr>\n",
       "    <tr>\n",
       "      <th>2013-04-30</th>\n",
       "      <td>1.325466e+07</td>\n",
       "      <td>1.443226</td>\n",
       "    </tr>\n",
       "    <tr>\n",
       "      <th rowspan=\"24\" valign=\"top\">Enhancement</th>\n",
       "      <th>2010-10-31</th>\n",
       "      <td>3.556595e+05</td>\n",
       "      <td>533.081742</td>\n",
       "    </tr>\n",
       "    <tr>\n",
       "      <th>2011-05-31</th>\n",
       "      <td>8.717520e+05</td>\n",
       "      <td>96.560625</td>\n",
       "    </tr>\n",
       "    <tr>\n",
       "      <th>2011-06-30</th>\n",
       "      <td>1.037451e+06</td>\n",
       "      <td>85.967657</td>\n",
       "    </tr>\n",
       "    <tr>\n",
       "      <th>2011-07-31</th>\n",
       "      <td>1.258928e+06</td>\n",
       "      <td>119.811086</td>\n",
       "    </tr>\n",
       "    <tr>\n",
       "      <th>2011-08-31</th>\n",
       "      <td>1.428178e+06</td>\n",
       "      <td>95.754086</td>\n",
       "    </tr>\n",
       "    <tr>\n",
       "      <th>2011-09-30</th>\n",
       "      <td>1.673318e+06</td>\n",
       "      <td>76.460589</td>\n",
       "    </tr>\n",
       "    <tr>\n",
       "      <th>2011-10-31</th>\n",
       "      <td>1.947878e+06</td>\n",
       "      <td>43.084590</td>\n",
       "    </tr>\n",
       "    <tr>\n",
       "      <th>2011-11-30</th>\n",
       "      <td>2.222818e+06</td>\n",
       "      <td>51.496578</td>\n",
       "    </tr>\n",
       "    <tr>\n",
       "      <th>2011-12-31</th>\n",
       "      <td>2.542668e+06</td>\n",
       "      <td>35.103528</td>\n",
       "    </tr>\n",
       "    <tr>\n",
       "      <th>2012-01-31</th>\n",
       "      <td>2.874336e+06</td>\n",
       "      <td>61.506458</td>\n",
       "    </tr>\n",
       "    <tr>\n",
       "      <th>2012-02-29</th>\n",
       "      <td>3.256824e+06</td>\n",
       "      <td>48.532379</td>\n",
       "    </tr>\n",
       "    <tr>\n",
       "      <th>2012-03-31</th>\n",
       "      <td>3.621624e+06</td>\n",
       "      <td>55.648663</td>\n",
       "    </tr>\n",
       "    <tr>\n",
       "      <th>2012-04-30</th>\n",
       "      <td>4.183007e+06</td>\n",
       "      <td>17.650950</td>\n",
       "    </tr>\n",
       "    <tr>\n",
       "      <th>2012-05-31</th>\n",
       "      <td>4.629603e+06</td>\n",
       "      <td>34.015798</td>\n",
       "    </tr>\n",
       "    <tr>\n",
       "      <th>2012-06-30</th>\n",
       "      <td>5.016313e+06</td>\n",
       "      <td>6.902824</td>\n",
       "    </tr>\n",
       "    <tr>\n",
       "      <th>2012-07-31</th>\n",
       "      <td>5.656449e+06</td>\n",
       "      <td>17.947831</td>\n",
       "    </tr>\n",
       "    <tr>\n",
       "      <th>2012-08-31</th>\n",
       "      <td>6.289161e+06</td>\n",
       "      <td>37.492983</td>\n",
       "    </tr>\n",
       "    <tr>\n",
       "      <th>2012-09-30</th>\n",
       "      <td>6.871250e+06</td>\n",
       "      <td>57.428695</td>\n",
       "    </tr>\n",
       "    <tr>\n",
       "      <th>2012-10-31</th>\n",
       "      <td>7.662703e+06</td>\n",
       "      <td>42.573476</td>\n",
       "    </tr>\n",
       "    <tr>\n",
       "      <th>2012-11-30</th>\n",
       "      <td>8.485036e+06</td>\n",
       "      <td>28.846859</td>\n",
       "    </tr>\n",
       "    <tr>\n",
       "      <th>2012-12-31</th>\n",
       "      <td>9.193907e+06</td>\n",
       "      <td>14.790393</td>\n",
       "    </tr>\n",
       "    <tr>\n",
       "      <th>2013-01-31</th>\n",
       "      <td>9.978526e+06</td>\n",
       "      <td>31.101432</td>\n",
       "    </tr>\n",
       "    <tr>\n",
       "      <th>2013-02-28</th>\n",
       "      <td>1.101600e+07</td>\n",
       "      <td>20.665877</td>\n",
       "    </tr>\n",
       "    <tr>\n",
       "      <th>2013-03-31</th>\n",
       "      <td>1.214923e+07</td>\n",
       "      <td>4.146534</td>\n",
       "    </tr>\n",
       "  </tbody>\n",
       "</table>\n",
       "</div>"
      ],
      "text/plain": [
       "                                  id    ttl_days\n",
       "labels      created_at                          \n",
       "Bug         2010-09-30  3.393550e+05  266.377986\n",
       "            2010-10-31  3.589520e+05  347.543206\n",
       "            2011-05-31  9.341420e+05   33.252731\n",
       "            2011-06-30  9.971650e+05   11.207095\n",
       "            2011-07-31  1.256783e+06    4.958562\n",
       "            2011-08-31  1.427368e+06    7.898266\n",
       "            2011-09-30  1.674072e+06   16.541055\n",
       "            2011-10-31  1.946132e+06    0.877039\n",
       "            2011-11-30  2.238229e+06   12.529646\n",
       "            2011-12-31  2.568587e+06   24.773159\n",
       "            2012-01-31  2.895496e+06   11.906952\n",
       "            2012-02-29  3.218979e+06   17.877019\n",
       "            2012-03-31  3.625795e+06   15.870630\n",
       "            2012-04-30  4.171357e+06   14.057429\n",
       "            2012-05-31  4.659990e+06    5.774539\n",
       "            2012-06-30  5.075402e+06    5.863773\n",
       "            2012-07-31  5.686515e+06   11.086846\n",
       "            2012-08-31  6.259953e+06   19.459502\n",
       "            2012-09-30  6.889600e+06   16.765104\n",
       "            2012-10-31  7.652522e+06   18.552517\n",
       "            2012-11-30  8.384333e+06    5.523776\n",
       "            2012-12-31  9.298670e+06    8.546535\n",
       "            2013-01-31  1.006784e+07   25.682938\n",
       "            2013-02-28  1.100434e+07   26.134213\n",
       "            2013-03-31  1.213083e+07    4.457436\n",
       "            2013-04-30  1.325466e+07    1.443226\n",
       "Enhancement 2010-10-31  3.556595e+05  533.081742\n",
       "            2011-05-31  8.717520e+05   96.560625\n",
       "            2011-06-30  1.037451e+06   85.967657\n",
       "            2011-07-31  1.258928e+06  119.811086\n",
       "            2011-08-31  1.428178e+06   95.754086\n",
       "            2011-09-30  1.673318e+06   76.460589\n",
       "            2011-10-31  1.947878e+06   43.084590\n",
       "            2011-11-30  2.222818e+06   51.496578\n",
       "            2011-12-31  2.542668e+06   35.103528\n",
       "            2012-01-31  2.874336e+06   61.506458\n",
       "            2012-02-29  3.256824e+06   48.532379\n",
       "            2012-03-31  3.621624e+06   55.648663\n",
       "            2012-04-30  4.183007e+06   17.650950\n",
       "            2012-05-31  4.629603e+06   34.015798\n",
       "            2012-06-30  5.016313e+06    6.902824\n",
       "            2012-07-31  5.656449e+06   17.947831\n",
       "            2012-08-31  6.289161e+06   37.492983\n",
       "            2012-09-30  6.871250e+06   57.428695\n",
       "            2012-10-31  7.662703e+06   42.573476\n",
       "            2012-11-30  8.485036e+06   28.846859\n",
       "            2012-12-31  9.193907e+06   14.790393\n",
       "            2013-01-31  9.978526e+06   31.101432\n",
       "            2013-02-28  1.101600e+07   20.665877\n",
       "            2013-03-31  1.214923e+07    4.146534"
      ]
     },
     "execution_count": 95,
     "metadata": {},
     "output_type": "execute_result"
    }
   ],
   "source": [
    "ts11 = ts10.groupby(\"labels\").resample('M', how='mean')\n",
    "ts11_sub = ts11.loc[['Bug','Enhancement']]\n",
    "ts11_sub"
   ]
  },
  {
   "cell_type": "code",
   "execution_count": 96,
   "metadata": {
    "collapsed": false
   },
   "outputs": [
    {
     "name": "stderr",
     "output_type": "stream",
     "text": [
      "/Users/farahshih/anaconda/lib/python3.5/site-packages/ipykernel/__main__.py:1: SettingWithCopyWarning: \n",
      "A value is trying to be set on a copy of a slice from a DataFrame.\n",
      "Try using .loc[row_indexer,col_indexer] = value instead\n",
      "\n",
      "See the caveats in the documentation: http://pandas.pydata.org/pandas-docs/stable/indexing.html#indexing-view-versus-copy\n",
      "  if __name__ == '__main__':\n",
      "/Users/farahshih/anaconda/lib/python3.5/site-packages/pandas/core/frame.py:2383: SettingWithCopyWarning: \n",
      "A value is trying to be set on a copy of a slice from a DataFrame\n",
      "\n",
      "See the caveats in the documentation: http://pandas.pydata.org/pandas-docs/stable/indexing.html#indexing-view-versus-copy\n",
      "  self.where(-key, value, inplace=True)\n"
     ]
    },
    {
     "data": {
      "text/html": [
       "<div>\n",
       "<table border=\"1\" class=\"dataframe\">\n",
       "  <thead>\n",
       "    <tr style=\"text-align: right;\">\n",
       "      <th></th>\n",
       "      <th></th>\n",
       "      <th>id</th>\n",
       "      <th>ttl_days</th>\n",
       "    </tr>\n",
       "    <tr>\n",
       "      <th>labels</th>\n",
       "      <th>created_at</th>\n",
       "      <th></th>\n",
       "      <th></th>\n",
       "    </tr>\n",
       "  </thead>\n",
       "  <tbody>\n",
       "    <tr>\n",
       "      <th rowspan=\"6\" valign=\"top\">Bug</th>\n",
       "      <th>2010-09-30</th>\n",
       "      <td>339355.00</td>\n",
       "      <td>266.377986</td>\n",
       "    </tr>\n",
       "    <tr>\n",
       "      <th>2010-10-31</th>\n",
       "      <td>358952.00</td>\n",
       "      <td>347.543206</td>\n",
       "    </tr>\n",
       "    <tr>\n",
       "      <th>2011-05-31</th>\n",
       "      <td>934142.00</td>\n",
       "      <td>33.252731</td>\n",
       "    </tr>\n",
       "    <tr>\n",
       "      <th>2011-06-30</th>\n",
       "      <td>997165.00</td>\n",
       "      <td>11.207095</td>\n",
       "    </tr>\n",
       "    <tr>\n",
       "      <th>2011-07-31</th>\n",
       "      <td>1256783.25</td>\n",
       "      <td>4.958562</td>\n",
       "    </tr>\n",
       "    <tr>\n",
       "      <th>2011-08-31</th>\n",
       "      <td>1427368.40</td>\n",
       "      <td>7.898266</td>\n",
       "    </tr>\n",
       "  </tbody>\n",
       "</table>\n",
       "</div>"
      ],
      "text/plain": [
       "                           id    ttl_days\n",
       "labels created_at                        \n",
       "Bug    2010-09-30   339355.00  266.377986\n",
       "       2010-10-31   358952.00  347.543206\n",
       "       2011-05-31   934142.00   33.252731\n",
       "       2011-06-30   997165.00   11.207095\n",
       "       2011-07-31  1256783.25    4.958562\n",
       "       2011-08-31  1427368.40    7.898266"
      ]
     },
     "execution_count": 96,
     "metadata": {},
     "output_type": "execute_result"
    }
   ],
   "source": [
    "ts11_sub[pd.isnull(ts11_sub)]=0\n",
    "ts11_sub.head(6)"
   ]
  },
  {
   "cell_type": "code",
   "execution_count": 97,
   "metadata": {
    "collapsed": false
   },
   "outputs": [],
   "source": [
    "ts11_sub = ts11_sub.reset_index()"
   ]
  },
  {
   "cell_type": "code",
   "execution_count": 98,
   "metadata": {
    "collapsed": false
   },
   "outputs": [
    {
     "data": {
      "text/html": [
       "<div>\n",
       "<table border=\"1\" class=\"dataframe\">\n",
       "  <thead>\n",
       "    <tr style=\"text-align: right;\">\n",
       "      <th>labels</th>\n",
       "      <th>Bug</th>\n",
       "      <th>Enhancement</th>\n",
       "    </tr>\n",
       "    <tr>\n",
       "      <th>created_at</th>\n",
       "      <th></th>\n",
       "      <th></th>\n",
       "    </tr>\n",
       "  </thead>\n",
       "  <tbody>\n",
       "    <tr>\n",
       "      <th>2010-09-30</th>\n",
       "      <td>266.377986</td>\n",
       "      <td>NaN</td>\n",
       "    </tr>\n",
       "    <tr>\n",
       "      <th>2010-10-31</th>\n",
       "      <td>347.543206</td>\n",
       "      <td>533.081742</td>\n",
       "    </tr>\n",
       "    <tr>\n",
       "      <th>2011-05-31</th>\n",
       "      <td>33.252731</td>\n",
       "      <td>96.560625</td>\n",
       "    </tr>\n",
       "  </tbody>\n",
       "</table>\n",
       "</div>"
      ],
      "text/plain": [
       "labels             Bug  Enhancement\n",
       "created_at                         \n",
       "2010-09-30  266.377986          NaN\n",
       "2010-10-31  347.543206   533.081742\n",
       "2011-05-31   33.252731    96.560625"
      ]
     },
     "execution_count": 98,
     "metadata": {},
     "output_type": "execute_result"
    }
   ],
   "source": [
    "final = ts11_sub.pivot_table(index='created_at',columns='labels',values=\"ttl_days\")\n",
    "final.head(3)"
   ]
  },
  {
   "cell_type": "code",
   "execution_count": 99,
   "metadata": {
    "collapsed": false
   },
   "outputs": [],
   "source": [
    "final=final.fillna(0)"
   ]
  },
  {
   "cell_type": "code",
   "execution_count": 100,
   "metadata": {
    "collapsed": false
   },
   "outputs": [
    {
     "data": {
      "text/plain": [
       "<matplotlib.text.Text at 0x117061dd8>"
      ]
     },
     "execution_count": 100,
     "metadata": {},
     "output_type": "execute_result"
    },
    {
     "data": {
      "image/png": "[encoded data removed]",
      "text/plain": [
       "<matplotlib.figure.Figure at 0x116ea08d0>"
      ]
     },
     "metadata": {},
     "output_type": "display_data"
    }
   ],
   "source": [
    "plt.plot(final)\n",
    "plt.xlabel(\"period(week)\")\n",
    "plt.ylabel(\"Average days to close an issue\")\n",
    "plt.title(\"mean time to close by month for Enhancement versus Bug issue types\")"
   ]
  }
 ],
 "metadata": {
  "kernelspec": {
   "display_name": "Python 3",
   "language": "python",
   "name": "python3"
  },
  "language_info": {
   "codemirror_mode": {
    "name": "ipython",
    "version": 3
   },
   "file_extension": ".py",
   "mimetype": "text/x-python",
   "name": "python",
   "nbconvert_exporter": "python",
   "pygments_lexer": "ipython3",
   "version": "3.5.1"
  }
 },
 "nbformat": 4,
 "nbformat_minor": 0
}
