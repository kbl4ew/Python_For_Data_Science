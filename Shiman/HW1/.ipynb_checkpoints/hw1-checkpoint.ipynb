{
 "cells": [
  {
   "cell_type": "code",
   "execution_count": 1,
   "metadata": {
    "collapsed": true
   },
   "outputs": [],
   "source": [
    "# Shiman Ding\n",
    "# Python for Data Science\n",
    "# HW1 "
   ]
  },
  {
   "cell_type": "code",
   "execution_count": 49,
   "metadata": {
    "collapsed": false
   },
   "outputs": [
    {
     "name": "stdout",
     "output_type": "stream",
     "text": [
      "Populating the interactive namespace from numpy and matplotlib\n"
     ]
    },
    {
     "name": "stderr",
     "output_type": "stream",
     "text": [
      "WARNING: pylab import has clobbered these variables: ['imread']\n",
      "`%matplotlib` prevents importing * from pylab and numpy\n"
     ]
    }
   ],
   "source": [
    "import numpy as np\n",
    "import scipy\n",
    "%pylab inline\n",
    "from scipy.ndimage import imread"
   ]
  },
  {
   "cell_type": "markdown",
   "metadata": {
    "collapsed": true
   },
   "source": [
    "1) find center of black dots"
   ]
  },
  {
   "cell_type": "code",
   "execution_count": 126,
   "metadata": {
    "collapsed": false
   },
   "outputs": [
    {
     "data": {
      "text/plain": [
       "<matplotlib.image.AxesImage at 0x17abb898>"
      ]
     },
     "execution_count": 126,
     "metadata": {},
     "output_type": "execute_result"
    },
    {
     "data": {
      "image/png": "[encoded data removed]",
      "text/plain": [
       "<matplotlib.figure.Figure at 0x17c06860>"
      ]
     },
     "metadata": {},
     "output_type": "display_data"
    }
   ],
   "source": [
    "im=imread(\"Data/im1-a.png\",flatten=True)\n",
    "imshow(im,cmap=cm.Greys)"
   ]
  },
  {
   "cell_type": "code",
   "execution_count": 127,
   "metadata": {
    "collapsed": false
   },
   "outputs": [],
   "source": [
    "def findCenter(im):\n",
    "    loc = np.argmin(im)\n",
    "    r, c = np.shape(im)\n",
    "    x = int(loc/r)\n",
    "    y = loc - x * r\n",
    "    return [x, y]"
   ]
  },
  {
   "cell_type": "code",
   "execution_count": 128,
   "metadata": {
    "collapsed": false
   },
   "outputs": [
    {
     "name": "stdout",
     "output_type": "stream",
     "text": [
      "[(71, 144), (71, 195), (66, 134), (76, 128), (76, 118)]\n"
     ]
    }
   ],
   "source": [
    "ima=imread(\"Data/im1-a.png\",flatten=True)\n",
    "imb=imread(\"Data/im1-b.png\",flatten=True)\n",
    "imc=imread(\"Data/im1-c.png\",flatten=True)\n",
    "imd=imread(\"Data/im1-d.png\",flatten=True)\n",
    "ime=imread(\"Data/im1-e.png\",flatten=True)\n",
    "centers = []\n",
    "centers.append(tuple(findCenter(ima)))\n",
    "centers.append(tuple(findCenter(imb)))\n",
    "centers.append(tuple(findCenter(imc)))\n",
    "centers.append(tuple(findCenter(imd)))\n",
    "centers.append(tuple(findCenter(ime)))\n",
    "print(centers)"
   ]
  },
  {
   "cell_type": "markdown",
   "metadata": {},
   "source": [
    "2) Using the location of the black dot in the first image, find the offset of the other images with respect to the first image. Using `scipy.ndimage.interpolation.shift` perform a shift on the other four images such that they are \"registered\" (aligned) with the first image. That is, make sure that the black dots are all in the same x,y location in the transformed images. Keep those images in `numpy` arrays (for the next part) but also save those images as `.png` files, appropriately named (`im1-b-shift.png`, `im1-c-shift.png`, etc.). Note: you'll need to think a bit about how you treat the edges in the `shift` operation."
   ]
  },
  {
   "cell_type": "code",
   "execution_count": 136,
   "metadata": {
    "collapsed": false
   },
   "outputs": [],
   "source": [
    "scipy.ndimage.interpolation.shift?\n"
   ]
  },
  {
   "cell_type": "code",
   "execution_count": 129,
   "metadata": {
    "collapsed": true
   },
   "outputs": [],
   "source": [
    "def offset(imOpt, imIpt = im):\n",
    "    centerOpt = np.array(findCenter(imOpt))\n",
    "    centerIpt = np.array(findCenter(imIpt))\n",
    "    return centerIpt - centerOpt"
   ]
  },
  {
   "cell_type": "code",
   "execution_count": 132,
   "metadata": {
    "collapsed": false
   },
   "outputs": [
    {
     "data": {
      "text/plain": [
       "array([  0, -51], dtype=int64)"
      ]
     },
     "execution_count": 132,
     "metadata": {},
     "output_type": "execute_result"
    }
   ],
   "source": [
    "offset(imb)"
   ]
  },
  {
   "cell_type": "code",
   "execution_count": 133,
   "metadata": {
    "collapsed": false
   },
   "outputs": [],
   "source": [
    "def shift(im, name):\n",
    "    image_array = scipy.ndimage.interpolation.shift(im, offset(im))\n",
    "    scipy.misc.imsave(name, image_array);\n",
    "    return image_array"
   ]
  },
  {
   "cell_type": "code",
   "execution_count": 188,
   "metadata": {
    "collapsed": false
   },
   "outputs": [],
   "source": [
    "shifa = shift(ima,'im1-a-shift.png');\n",
    "shifb = shift(imb,'im1-b-shift.png');\n",
    "shifc = shift(imc,'im1-c-shift.png');\n",
    "shifd = shift(imd,'im1-d-shift.png');\n",
    "shife = shift(ime,'im1-e-shift.png');"
   ]
  },
  {
   "cell_type": "code",
   "execution_count": 189,
   "metadata": {
    "collapsed": false
   },
   "outputs": [
    {
     "data": {
      "text/plain": [
       "<matplotlib.image.AxesImage at 0x1da43400>"
      ]
     },
     "execution_count": 189,
     "metadata": {},
     "output_type": "execute_result"
    },
    {
     "data": {
      "image/png": "[encoded data removed]",
      "text/plain": [
       "<matplotlib.figure.Figure at 0x1d7f5860>"
      ]
     },
     "metadata": {},
     "output_type": "display_data"
    }
   ],
   "source": [
    "type(shifa)\n",
    "imshow(shifb, cmap=cm.Greys)"
   ]
  },
  {
   "cell_type": "markdown",
   "metadata": {},
   "source": [
    "3) Mask out the registered images by finding an appropriate `mask` for the grey-level regions making 5 new masked arrays like:\n",
    "```python\n",
    "new_masked_a = ma.masked_array(ima,mask=mask)\n",
    "```\n",
    "Combine the masked arrays using `np.ma.median` to reveal the hidden message."
   ]
  },
  {
   "cell_type": "code",
   "execution_count": 208,
   "metadata": {
    "collapsed": false
   },
   "outputs": [],
   "source": [
    "new_masked_a = ma.masked_array(shifa, mask = (shifa <=183))\n",
    "new_masked_b = ma.masked_array(shifb, mask = (shifb <=183))\n",
    "new_masked_c = ma.masked_array(shifc, mask = (shifc <=183))\n",
    "new_masked_d = ma.masked_array(shifd, mask = (shifd <=183))\n",
    "new_masked_e = ma.masked_array(shife, mask = (shife <=183))"
   ]
  },
  {
   "cell_type": "code",
   "execution_count": 212,
   "metadata": {
    "collapsed": false
   },
   "outputs": [
    {
     "data": {
      "text/plain": [
       "<matplotlib.image.AxesImage at 0x20a5db00>"
      ]
     },
     "execution_count": 212,
     "metadata": {},
     "output_type": "execute_result"
    },
    {
     "data": {
      "image/png": "[encoded data removed]",
      "text/plain": [
       "<matplotlib.figure.Figure at 0x20ae4e48>"
      ]
     },
     "metadata": {},
     "output_type": "display_data"
    }
   ],
   "source": [
    "imshow(new_masked_d, cmap=cm.Greys)"
   ]
  },
  {
   "cell_type": "code",
   "execution_count": 215,
   "metadata": {
    "collapsed": false
   },
   "outputs": [
    {
     "data": {
      "text/plain": [
       "<matplotlib.image.AxesImage at 0x215baf28>"
      ]
     },
     "execution_count": 215,
     "metadata": {},
     "output_type": "execute_result"
    },
    {
     "data": {
      "image/png": "[encoded data removed]",
      "text/plain": [
       "<matplotlib.figure.Figure at 0x211f0a58>"
      ]
     },
     "metadata": {},
     "output_type": "display_data"
    }
   ],
   "source": [
    "stacked = ma.array([new_masked_a,new_masked_b,new_masked_c,new_masked_d,new_masked_e])\n",
    "imshow(np.ma.median(stacked, axis = 0),cmap=cm.Greys)"
   ]
  },
  {
   "cell_type": "code",
   "execution_count": null,
   "metadata": {
    "collapsed": true
   },
   "outputs": [],
   "source": []
  }
 ],
 "metadata": {
  "kernelspec": {
   "display_name": "Python 2",
   "language": "python",
   "name": "python2"
  },
  "language_info": {
   "codemirror_mode": {
    "name": "ipython",
    "version": 2
   },
   "file_extension": ".py",
   "mimetype": "text/x-python",
   "name": "python",
   "nbconvert_exporter": "python",
   "pygments_lexer": "ipython2",
   "version": "2.7.11"
  }
 },
 "nbformat": 4,
 "nbformat_minor": 0
}
