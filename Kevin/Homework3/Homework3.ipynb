{
 "cells": [
  {
   "cell_type": "code",
   "execution_count": 4,
   "metadata": {
    "collapsed": false
   },
   "outputs": [
    {
     "name": "stdout",
     "output_type": "stream",
     "text": [
      "flowers.csv     google_data.txt ny_temps.txt    stocks.png      yahoo_data.txt\r\n"
     ]
    }
   ],
   "source": [
    "!ls Data/"
   ]
  },
  {
   "cell_type": "markdown",
   "metadata": {},
   "source": [
    "# New York Temperature, Google, and Yahoo!"
   ]
  },
  {
   "cell_type": "code",
   "execution_count": 6,
   "metadata": {
    "collapsed": true
   },
   "outputs": [],
   "source": [
    "%matplotlib inline"
   ]
  },
  {
   "cell_type": "code",
   "execution_count": 7,
   "metadata": {
    "collapsed": true
   },
   "outputs": [],
   "source": [
    "import numpy as np\n",
    "import matplotlib.pyplot as plt"
   ]
  },
  {
   "cell_type": "code",
   "execution_count": 10,
   "metadata": {
    "collapsed": false
   },
   "outputs": [
    {
     "name": "stdout",
     "output_type": "stream",
     "text": [
      "Modified Julian Date\tMax Temperature\r\n",
      "48988\t53\r\n",
      "49019\t38\r\n",
      "49047\t31\r\n",
      "49078\t66\r\n",
      "49108\t75\r\n",
      "49139\t65\r\n",
      "49169\t79\r\n",
      "49200\t82\r\n",
      "49231\t83\r\n"
     ]
    }
   ],
   "source": [
    "!head Data/ny_temps.txt"
   ]
  },
  {
   "cell_type": "code",
   "execution_count": 20,
   "metadata": {
    "collapsed": true
   },
   "outputs": [],
   "source": [
    "#------- loading data ---------#\n",
    "ny_temps = np.loadtxt(\"Data/ny_temps.txt\", skiprows=1, \n",
    "                     dtype=np.dtype([(\"date\", \"i8\"), (\"max_temp\", \"i8\")]))"
   ]
  },
  {
   "cell_type": "code",
   "execution_count": 12,
   "metadata": {
    "collapsed": false
   },
   "outputs": [
    {
     "data": {
      "text/plain": [
       "numpy.ndarray"
      ]
     },
     "execution_count": 12,
     "metadata": {},
     "output_type": "execute_result"
    }
   ],
   "source": [
    "type(ny_temp)"
   ]
  },
  {
   "cell_type": "code",
   "execution_count": 13,
   "metadata": {
    "collapsed": false
   },
   "outputs": [
    {
     "data": {
      "text/plain": [
       "(202,)"
      ]
     },
     "execution_count": 13,
     "metadata": {},
     "output_type": "execute_result"
    }
   ],
   "source": [
    "ny_temp.shape"
   ]
  },
  {
   "cell_type": "code",
   "execution_count": 17,
   "metadata": {
    "collapsed": false
   },
   "outputs": [
    {
     "data": {
      "text/plain": [
       "(48988, 53)"
      ]
     },
     "execution_count": 17,
     "metadata": {},
     "output_type": "execute_result"
    }
   ],
   "source": [
    "ny_temp[0]"
   ]
  },
  {
   "cell_type": "code",
   "execution_count": 19,
   "metadata": {
    "collapsed": false
   },
   "outputs": [
    {
     "name": "stdout",
     "output_type": "stream",
     "text": [
      "Modified Julian Date\tStock Value\r\n",
      "55463\t14.5\r\n",
      "55462\t14.17\r\n",
      "55461\t14.04\r\n",
      "55460\t14.18\r\n",
      "55459\t13.86\r\n",
      "55456\t13.89\r\n",
      "55455\t14.19\r\n",
      "55454\t14.27\r\n",
      "55453\t13.63\r\n"
     ]
    }
   ],
   "source": [
    "!head Data/yahoo_data.txt"
   ]
  },
  {
   "cell_type": "code",
   "execution_count": 22,
   "metadata": {
    "collapsed": false
   },
   "outputs": [],
   "source": [
    "# load yahoo stock data\n",
    "yahoo_data = np.loadtxt(\n",
    "    \"Data/yahoo_data.txt\", \n",
    "    skiprows=1, \n",
    "    dtype=np.dtype([(\"date\", \"i8\"), (\"stock_value\", \"f8\")]))"
   ]
  },
  {
   "cell_type": "code",
   "execution_count": 23,
   "metadata": {
    "collapsed": true
   },
   "outputs": [],
   "source": [
    "# load google stock data\n",
    "google_data = np.loadtxt(\n",
    "    \"Data/google_data.txt\",\n",
    "    skiprows=1,\n",
    "    dtype=np.dtype([(\"date\", \"i8\"), (\"stock_value\", \"f8\")]))"
   ]
  },
  {
   "cell_type": "code",
   "execution_count": 24,
   "metadata": {
    "collapsed": false
   },
   "outputs": [
    {
     "ename": "ValueError",
     "evalue": "no field of name temperature",
     "output_type": "error",
     "traceback": [
      "\u001b[0;31m---------------------------------------------------------------------------\u001b[0m",
      "\u001b[0;31mValueError\u001b[0m                                Traceback (most recent call last)",
      "\u001b[0;32m<ipython-input-24-f6d1ff029f28>\u001b[0m in \u001b[0;36m<module>\u001b[0;34m()\u001b[0m\n\u001b[1;32m     21\u001b[0m \u001b[0;31m# plot the temperature data\u001b[0m\u001b[0;34m\u001b[0m\u001b[0;34m\u001b[0m\u001b[0m\n\u001b[1;32m     22\u001b[0m temps, = ax2.plot(\n\u001b[0;32m---> 23\u001b[0;31m     \u001b[0mny_temps\u001b[0m\u001b[0;34m[\u001b[0m\u001b[0;34m\"date\"\u001b[0m\u001b[0;34m]\u001b[0m\u001b[0;34m,\u001b[0m \u001b[0mny_temps\u001b[0m\u001b[0;34m[\u001b[0m\u001b[0;34m\"temperature\"\u001b[0m\u001b[0;34m]\u001b[0m\u001b[0;34m,\u001b[0m\u001b[0;34m\u001b[0m\u001b[0m\n\u001b[0m\u001b[1;32m     24\u001b[0m     linestyle=\"--\", color=\"#FF0000\", label=\"NY Mon. High Temp\")\n\u001b[1;32m     25\u001b[0m \u001b[0;34m\u001b[0m\u001b[0m\n",
      "\u001b[0;31mValueError\u001b[0m: no field of name temperature"
     ]
    },
    {
     "data": {
      "image/png": "[encoded data removed]",
      "text/plain": [
       "<matplotlib.figure.Figure at 0x10af9e860>"
      ]
     },
     "metadata": {},
     "output_type": "display_data"
    }
   ],
   "source": [
    "# create figure and first axis\n",
    "fig, ax1 = plt.subplots()\n",
    "\n",
    "# plot stock data\n",
    "yahoo, = ax1.plot(\n",
    "    yahoo_data[\"date\"], yahoo_data[\"stock_value\"], \n",
    "    linestyle=\"-\", color=\"#7700AA\", label=\"Yahoo! Stock Value\")\n",
    "google, = ax1.plot(\n",
    "    google_data[\"date\"], google_data[\"stock_value\"], \n",
    "    linestyle=\"-\", color=\"#0000FF\", label=\"Google Stock Value\")\n",
    "\n",
    "# set axis limits, ticks, labels\n",
    "ax1.set_ylim(-20, 780)\n",
    "ax1.minorticks_on()\n",
    "ax1.xaxis.set_ticks_position(\"bottom\")\n",
    "ax1.set_xlabel(\"Date (MJD)\")\n",
    "ax1.set_ylabel(\"Value (Dollars)\")\n",
    "\n",
    "# create a second axis on top of the first axis\n",
    "ax2 = ax1.twinx()\n",
    "# plot the temperature data\n",
    "temps, = ax2.plot(\n",
    "    ny_temps[\"date\"], ny_temps[\"max_temperatur\"], \n",
    "    linestyle=\"--\", color=\"#FF0000\", label=\"NY Mon. High Temp\")\n",
    "\n",
    "# set axis limits, ticks, label\n",
    "ax2.set_ylim(-150, 100)\n",
    "ax2.minorticks_on()\n",
    "ax2.set_ylabel(\"Temperature ($^\\circ$F)\")\n",
    "\n",
    "# set x limit -- we have to do this after all the plotting on both \n",
    "# axes so it doesn't change\n",
    "ax1.set_xlim(48800, 55600)\n",
    "\n",
    "# plot the legend\n",
    "plt.figlegend(\n",
    "    [yahoo, google, temps], \n",
    "    [\"Yahoo! Stock Value\", \"Google Stock Value\", \"NY Mon. High Temp\"], \n",
    "    [0.13, 0.45], fontsize=7, frameon=False, numpoints=1)\n",
    "    \n",
    "# plot the title\n",
    "fig.suptitle(\"New York Temperature, Google, and Yahoo!\", \n",
    "             fontsize=16, fontweight=\"bold\")"
   ]
  },
  {
   "cell_type": "code",
   "execution_count": null,
   "metadata": {
    "collapsed": true
   },
   "outputs": [],
   "source": []
  }
 ],
 "metadata": {
  "kernelspec": {
   "display_name": "Python 3",
   "language": "python",
   "name": "python3"
  },
  "language_info": {
   "codemirror_mode": {
    "name": "ipython",
    "version": 3
   },
   "file_extension": ".py",
   "mimetype": "text/x-python",
   "name": "python",
   "nbconvert_exporter": "python",
   "pygments_lexer": "ipython3",
   "version": "3.5.1"
  }
 },
 "nbformat": 4,
 "nbformat_minor": 0
}
