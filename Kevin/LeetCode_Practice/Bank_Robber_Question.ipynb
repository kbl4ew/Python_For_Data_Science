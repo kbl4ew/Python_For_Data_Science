{
 "cells": [
  {
   "cell_type": "markdown",
   "metadata": {},
   "source": [
    "# Bank Robber Question\n",
    "Returning the maximum amount of money that may be collected subject to the constraint that no adjacent houses may be robbed"
   ]
  },
  {
   "cell_type": "code",
   "execution_count": 1,
   "metadata": {
    "collapsed": true
   },
   "outputs": [],
   "source": [
    "class Solution(object):\n",
    "    def rob(self, nums):\n",
    "        \"\"\"\n",
    "        :type nums: List[int]\n",
    "        :rtype: int\n",
    "        \"\"\"\n",
    "        n = len(nums)\n",
    "        if n%2 == 0:\n",
    "            tmp1 = 0\n",
    "            tmp2 = 0\n",
    "            for i in range(0, n, 2):\n",
    "                tmp1 = tmp1 + nums[i]\n",
    "            for j in range(1, n, 2):\n",
    "                tmp2 = tmp2 + nums[j]\n",
    "        else:\n",
    "            tmp1 = 0\n",
    "            tmp2 = 0\n",
    "            for i in range(0, n+1, 2):\n",
    "                tmp1 = tmp1 + nums[i]\n",
    "            for j in range(1, n, 2):\n",
    "                tmp2 = tmp2 + nums[j]\n",
    "        result = max(tmp1, tmp2)\n",
    "        return result\n",
    "           "
   ]
  },
  {
   "cell_type": "code",
   "execution_count": 2,
   "metadata": {
    "collapsed": true
   },
   "outputs": [],
   "source": [
    "def rob(self, nums):\n",
    "    \"\"\"\n",
    "    :type nums: List[int]\n",
    "    :rtype: int\n",
    "    \"\"\"\n",
    "    n = len(nums)\n",
    "    if n%2 == 0:\n",
    "        tmp1 = 0\n",
    "        tmp2 = 0\n",
    "        for i in range(0, n, 2):\n",
    "            tmp1 = tmp1 + nums[i]\n",
    "        for j in range(1, n, 2):\n",
    "            tmp2 = tmp2 + nums[j]\n",
    "    else:\n",
    "        tmp1 = 0\n",
    "        tmp2 = 0\n",
    "        for i in range(0, n+1, 2):\n",
    "            tmp1 = tmp1 + nums[i]\n",
    "        for j in range(1, n, 2):\n",
    "            tmp2 = tmp2 + nums[j]\n",
    "    result = max(tmp1, tmp2)\n",
    "    return result"
   ]
  },
  {
   "cell_type": "code",
   "execution_count": 47,
   "metadata": {
    "collapsed": false
   },
   "outputs": [],
   "source": [
    "def rob(nums):\n",
    "    ''' Function to return max sum such that no 2 elements are adjacent'''\n",
    "    # Initialization using the first element\n",
    "    if len(nums) == 0:\n",
    "        return 0\n",
    "    incl = nums[0]\n",
    "    #print(incl)\n",
    "    excl = 0\n",
    "    exl_new = 0\n",
    "    n = len(nums)\n",
    "    \n",
    "    for i in range(1, n):\n",
    "        # current max excluding i\n",
    "        print(\"current loop is: \", i)\n",
    "        excl_new = max(incl, excl)\n",
    "        print(\"The max (excluding entry:\", i+1,\") is now: \", excl_new)\n",
    "        # current max including i\n",
    "        incl = excl + nums[i]\n",
    "        excl = excl_new\n",
    "        print(incl)\n",
    "        print(excl)\n",
    "    return (max(incl, excl))\n",
    "    "
   ]
  },
  {
   "cell_type": "code",
   "execution_count": 48,
   "metadata": {
    "collapsed": false
   },
   "outputs": [
    {
     "name": "stdout",
     "output_type": "stream",
     "text": [
      "current loop is:  1\n",
      "The max (excluding entry: 2 ) is now:  3\n",
      "2\n",
      "3\n",
      "current loop is:  2\n",
      "The max (excluding entry: 3 ) is now:  3\n",
      "8\n",
      "3\n",
      "current loop is:  3\n",
      "The max (excluding entry: 4 ) is now:  8\n",
      "31\n",
      "8\n",
      "current loop is:  4\n",
      "The max (excluding entry: 5 ) is now:  31\n",
      "41\n",
      "31\n",
      "current loop is:  5\n",
      "The max (excluding entry: 6 ) is now:  41\n",
      "34\n",
      "41\n"
     ]
    },
    {
     "data": {
      "text/plain": [
       "41"
      ]
     },
     "execution_count": 48,
     "metadata": {},
     "output_type": "execute_result"
    }
   ],
   "source": [
    "rob([3, 2, 5, 28, 33,  3])"
   ]
  },
  {
   "cell_type": "code",
   "execution_count": 49,
   "metadata": {
    "collapsed": false
   },
   "outputs": [
    {
     "name": "stdout",
     "output_type": "stream",
     "text": [
      "current loop is:  1\n",
      "The max (excluding entry: 2 ) is now:  2\n",
      "1\n",
      "2\n",
      "current loop is:  2\n",
      "The max (excluding entry: 3 ) is now:  2\n",
      "3\n",
      "2\n",
      "current loop is:  3\n",
      "The max (excluding entry: 4 ) is now:  3\n",
      "4\n",
      "3\n"
     ]
    },
    {
     "data": {
      "text/plain": [
       "4"
      ]
     },
     "execution_count": 49,
     "metadata": {},
     "output_type": "execute_result"
    }
   ],
   "source": [
    "rob([2, 1, 1, 2])"
   ]
  },
  {
   "cell_type": "code",
   "execution_count": 35,
   "metadata": {
    "collapsed": false
   },
   "outputs": [
    {
     "name": "stdout",
     "output_type": "stream",
     "text": [
      "1\n",
      "2\n",
      "3\n",
      "4\n",
      "5\n",
      "6\n",
      "7\n",
      "8\n"
     ]
    }
   ],
   "source": [
    "for i in range(1, 10-1):\n",
    "    print(i)"
   ]
  },
  {
   "cell_type": "code",
   "execution_count": null,
   "metadata": {
    "collapsed": true
   },
   "outputs": [],
   "source": []
  }
 ],
 "metadata": {
  "kernelspec": {
   "display_name": "Python 3",
   "language": "python",
   "name": "python3"
  },
  "language_info": {
   "codemirror_mode": {
    "name": "ipython",
    "version": 3
   },
   "file_extension": ".py",
   "mimetype": "text/x-python",
   "name": "python",
   "nbconvert_exporter": "python",
   "pygments_lexer": "ipython3",
   "version": "3.5.1"
  }
 },
 "nbformat": 4,
 "nbformat_minor": 0
}
