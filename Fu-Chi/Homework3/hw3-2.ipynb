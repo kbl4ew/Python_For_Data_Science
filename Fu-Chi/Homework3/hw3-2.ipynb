{
 "cells": [
  {
   "cell_type": "code",
   "execution_count": 2,
   "metadata": {
    "collapsed": true
   },
   "outputs": [],
   "source": [
    "import numpy as np\n",
    "import matplotlib.pyplot as plt"
   ]
  },
  {
   "cell_type": "code",
   "execution_count": 3,
   "metadata": {
    "collapsed": false
   },
   "outputs": [
    {
     "name": "stdout",
     "output_type": "stream",
     "text": [
      "/Users/farahshih/Documents/Codes/python-seminar-master/Homeworks/hw_3_data\n"
     ]
    }
   ],
   "source": [
    "cd ~/Documents/Codes/python-seminar-master/Homeworks/hw_3_data"
   ]
  },
  {
   "cell_type": "code",
   "execution_count": 4,
   "metadata": {
    "collapsed": false
   },
   "outputs": [
    {
     "name": "stdout",
     "output_type": "stream",
     "text": [
      "sepal length,sepal width,petal length,petal width,species\r\n",
      "5.1,3.5,1.4,0.2,setosa\r\n",
      "4.9,3.0,1.4,0.2,setosa\r\n",
      "4.7,3.2,1.3,0.2,setosa\r\n",
      "4.6,3.1,1.5,0.2,setosa\r\n",
      "5.0,3.6,1.4,0.2,setosa\r\n",
      "5.4,3.9,1.7,0.4,setosa\r\n",
      "4.6,3.4,1.4,0.3,setosa\r\n",
      "5.0,3.4,1.5,0.2,setosa\r\n",
      "4.4,2.9,1.4,0.2,setosa\r\n"
     ]
    }
   ],
   "source": [
    "!head flowers.csv"
   ]
  },
  {
   "cell_type": "code",
   "execution_count": 5,
   "metadata": {
    "collapsed": false
   },
   "outputs": [],
   "source": [
    "flowers = np.loadtxt(\"flowers.csv\", dtype='str,float', skiprows=1, delimiter=\",\")  ## something wrong??\n",
    "#flowers = np.loadtxt(\"flowers.csv\", dtype='str,int', skiprows=1, delimiter=\",\", unpack=True)"
   ]
  },
  {
   "cell_type": "code",
   "execution_count": 6,
   "metadata": {
    "collapsed": false
   },
   "outputs": [
    {
     "data": {
      "text/plain": [
       "array([('', 3.5), ('', 3.0), ('', 3.2), ('', 3.1), ('', 3.6), ('', 3.9),\n",
       "       ('', 3.4), ('', 3.4), ('', 2.9), ('', 3.1), ('', 3.7), ('', 3.4),\n",
       "       ('', 3.0), ('', 3.0), ('', 4.0), ('', 4.4), ('', 3.9), ('', 3.5),\n",
       "       ('', 3.8), ('', 3.8), ('', 3.4), ('', 3.7), ('', 3.6), ('', 3.3),\n",
       "       ('', 3.4), ('', 3.0), ('', 3.4), ('', 3.5), ('', 3.4), ('', 3.2),\n",
       "       ('', 3.1), ('', 3.4), ('', 4.1), ('', 4.2), ('', 3.1), ('', 3.2),\n",
       "       ('', 3.5), ('', 3.6), ('', 3.0), ('', 3.4), ('', 3.5), ('', 2.3),\n",
       "       ('', 3.2), ('', 3.5), ('', 3.8), ('', 3.0), ('', 3.8), ('', 3.2),\n",
       "       ('', 3.7), ('', 3.3), ('', 3.2), ('', 3.2), ('', 3.1), ('', 2.3),\n",
       "       ('', 2.8), ('', 2.8), ('', 3.3), ('', 2.4), ('', 2.9), ('', 2.7),\n",
       "       ('', 2.0), ('', 3.0), ('', 2.2), ('', 2.9), ('', 2.9), ('', 3.1),\n",
       "       ('', 3.0), ('', 2.7), ('', 2.2), ('', 2.5), ('', 3.2), ('', 2.8),\n",
       "       ('', 2.5), ('', 2.8), ('', 2.9), ('', 3.0), ('', 2.8), ('', 3.0),\n",
       "       ('', 2.9), ('', 2.6), ('', 2.4), ('', 2.4), ('', 2.7), ('', 2.7),\n",
       "       ('', 3.0), ('', 3.4), ('', 3.1), ('', 2.3), ('', 3.0), ('', 2.5),\n",
       "       ('', 2.6), ('', 3.0), ('', 2.6), ('', 2.3), ('', 2.7), ('', 3.0),\n",
       "       ('', 2.9), ('', 2.9), ('', 2.5), ('', 2.8), ('', 3.3), ('', 2.7),\n",
       "       ('', 3.0), ('', 2.9), ('', 3.0), ('', 3.0), ('', 2.5), ('', 2.9),\n",
       "       ('', 2.5), ('', 3.6), ('', 3.2), ('', 2.7), ('', 3.0), ('', 2.5),\n",
       "       ('', 2.8), ('', 3.2), ('', 3.0), ('', 3.8), ('', 2.6), ('', 2.2),\n",
       "       ('', 3.2), ('', 2.8), ('', 2.8), ('', 2.7), ('', 3.3), ('', 3.2),\n",
       "       ('', 2.8), ('', 3.0), ('', 2.8), ('', 3.0), ('', 2.8), ('', 3.8),\n",
       "       ('', 2.8), ('', 2.8), ('', 2.6), ('', 3.0), ('', 3.4), ('', 3.1),\n",
       "       ('', 3.0), ('', 3.1), ('', 3.1), ('', 3.1), ('', 2.7), ('', 3.2),\n",
       "       ('', 3.3), ('', 3.0), ('', 2.5), ('', 3.0), ('', 3.4), ('', 3.0)], \n",
       "      dtype=[('f0', '<U'), ('f1', '<f8')])"
      ]
     },
     "execution_count": 6,
     "metadata": {},
     "output_type": "execute_result"
    }
   ],
   "source": [
    "flowers"
   ]
  }
 ],
 "metadata": {
  "kernelspec": {
   "display_name": "Python 3",
   "language": "python",
   "name": "python3"
  },
  "language_info": {
   "codemirror_mode": {
    "name": "ipython",
    "version": 3
   },
   "file_extension": ".py",
   "mimetype": "text/x-python",
   "name": "python",
   "nbconvert_exporter": "python",
   "pygments_lexer": "ipython3",
   "version": "3.5.1"
  }
 },
 "nbformat": 4,
 "nbformat_minor": 0
}
