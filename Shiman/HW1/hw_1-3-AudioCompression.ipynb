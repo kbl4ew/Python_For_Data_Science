{
 "metadata": {
  "name": ""
 },
 "nbformat": 3,
 "nbformat_minor": 0,
 "worksheets": [
  {
   "cells": [
    {
     "cell_type": "heading",
     "level": 1,
     "metadata": {},
     "source": [
      "An elementary introduction to spectral audio compression"
     ]
    },
    {
     "cell_type": "markdown",
     "metadata": {},
     "source": [
      "In this problem, we'll explore the very basics of audio compression in the spectral domain using numpy and scipy. We'll do a bit of visualization with matplotlib, but since that is covered later in the course, we'll provide those functions for you.\n",
      "\n",
      "Audio compression is a large and complex topic, and the design of a format for compressed audio such as the popular [MP3](http://en.wikipedia.org/wiki/MP3) is too complex to cover in detail here. However, we will introduce the basic tools that most such compression formats use, namely:\n",
      "\n",
      "1. Converting the input signal to the frequency domain by taking a Fast Fourier Transform (FFT).\n",
      "\n",
      "2. Dropping information in the frequency domain, resulting in a smaller amount of data.\n",
      "\n",
      "3. Reconstructing back the signal in the time domain from this smaller representation of the signal.\n",
      "\n",
      "Steps 1 and 2 above are the 'encoding' part of signal compression, and step 3 is the 'decoding' part. For this reason, the tools that perform these steps are typically referred to as signal 'codecs', short for encoders/decoders.\n",
      "\n",
      "Note that here we say 'signal': while MP3 is an audio format, the same ideas apply to the compression of digital images with formats such as JPEG and video.  Virtually all multimedia technologies we use today, from audio players to cell phones, digital cameras and YouTubeVideo, are based on sophisticated extensions and applications of these simple ideas."
     ]
    },
    {
     "cell_type": "markdown",
     "metadata": {},
     "source": [
      "Let's first load the plotting tools and importing some tools we'll need later:"
     ]
    },
    {
     "cell_type": "code",
     "collapsed": false,
     "input": [
      "%pylab inline\n",
      "import numpy as np\n",
      "import matplotlib.pyplot as plt\n",
      "\n",
      "# we'll need some path manipulations later on\n",
      "import os"
     ],
     "language": "python",
     "metadata": {},
     "outputs": []
    },
    {
     "cell_type": "markdown",
     "metadata": {},
     "source": [
      "We define a simple utility function to listen to audio files right in the browser:"
     ]
    },
    {
     "cell_type": "code",
     "collapsed": false,
     "input": [
      "def Audio(fname):\n",
      "    \"\"\"Provide a player widget for an audio file.\n",
      "    \n",
      "    Parameters\n",
      "    ==========\n",
      "    fname : string\n",
      "      Filename to be played.\n",
      "      \n",
      "    Warning\n",
      "    =======\n",
      "    \n",
      "    Browsers cache audio very aggressively. If you change an\n",
      "    audio file on disk and are trying to listen to the  new version, you \n",
      "    may want to \n",
      "    \"\"\"\n",
      "    from IPython.display import HTML, display\n",
      "    \n",
      "    # Find out file extension and deduce MIME type for audio format\n",
      "    ext = os.path.splitext(fname)[1].replace('.', '').lower()\n",
      "    mimetype = 'audio/' + ('mpeg' if ext == 'mp3' else ext)\n",
      "    \n",
      "    tpl = \"\"\"<p>{fname}:</p>\n",
      "<audio controls>\n",
      "    <source src=\"files/{fname}\" type=\"{mimetype}\">\n",
      "\n",
      "Your browser does not support the Audio element; you can play \n",
      "<a href=\"files/{fname}\">this file</a> manually.\n",
      "</audio>\n",
      "\"\"\"\n",
      "    display(HTML(tpl.format(**locals())))"
     ],
     "language": "python",
     "metadata": {},
     "outputs": []
    },
    {
     "cell_type": "markdown",
     "metadata": {},
     "source": [
      "We also define a convenience wrapper around `plt.specgram`, [matplotlib's spectrogram function](http://matplotlib.org/api/mlab_api.html#matplotlib.mlab.specgram), with a colorbar and control over the color limits displayed. This will make it easier to compare across different signals with the same colors for all inputs."
     ]
    },
    {
     "cell_type": "code",
     "collapsed": false,
     "input": [
      "def specgram_cbar(x, title=None, clim=(0, 80) ):\n",
      "    \"\"\"Plot spectrogram with a colorbar and range normalization.\n",
      "    \n",
      "    Call matplotlib's specgram function, with a custom figure size, \n",
      "    automatic colobar, title and custom color limits to ease \n",
      "    comparison across multiple figures.\n",
      "    \n",
      "    Parameters\n",
      "    ==========\n",
      "    x : array\n",
      "      One-dimensional array whose spectrogram should be plotted.\n",
      "      \n",
      "    title : string\n",
      "      Optional title for the figure.\n",
      "      \n",
      "    clim : 2-tuple\n",
      "      Range for the color limits plotted in the spectrogram.\n",
      "    \"\"\"\n",
      "    f = plt.figure(figsize=(10,3))\n",
      "    plt.specgram(x)\n",
      "    plt.colorbar()\n",
      "    plt.clim(*clim)\n",
      "    if title is not None:\n",
      "        plt.title(title)\n",
      "    plt.show()"
     ],
     "language": "python",
     "metadata": {},
     "outputs": []
    },
    {
     "cell_type": "heading",
     "level": 2,
     "metadata": {},
     "source": [
      "Problem 1"
     ]
    },
    {
     "cell_type": "markdown",
     "metadata": {},
     "source": [
      "Use the `Audio` function above to listen to the signal we will be experimenting with, a simple voice recording stored in the file `hw_0_data/voice.wav`.\n",
      "\n",
      "Note: if your browser doesn't support audio, you may try a different browser.   We've tested current versions of Chrome and Firefox, and it works OK with both."
     ]
    },
    {
     "cell_type": "code",
     "collapsed": false,
     "input": [
      "# your code here"
     ],
     "language": "python",
     "metadata": {},
     "outputs": []
    },
    {
     "cell_type": "heading",
     "level": 2,
     "metadata": {},
     "source": [
      "Problem 2"
     ]
    },
    {
     "cell_type": "markdown",
     "metadata": {},
     "source": [
      "Write a function to compress a 1-d signal by dropping a fraction of its spectrum. \n",
      "\n",
      "You can drop the smallest components by setting their values to zero.\n",
      "\n",
      "*Hints*: \n",
      "\n",
      "- look at the `np.fft` module, keeping in mind that your input signal is real.\n",
      "- look at the `argsort` method of numpy arrays."
     ]
    },
    {
     "cell_type": "code",
     "collapsed": false,
     "input": [
      "def compress_signal(x, fraction):\n",
      "    \"\"\"Compress an input signal by dropping a fraction of its spectrum.\n",
      "    \n",
      "    Parameters\n",
      "    ==========\n",
      "    x : array\n",
      "      1-d real array to be compressed\n",
      "      \n",
      "    fraction : float\n",
      "      A number in the [0,1] range indicating which fraction of the spectrum\n",
      "      of x should be zeroed out (1 means zero out the entire signal).\n",
      "      \n",
      "    Returns\n",
      "    =======\n",
      "    x_approx : array\n",
      "      1-d real array reconstructed after having compressed the input.\n",
      "    \"\"\"\n",
      "    # your code here"
     ],
     "language": "python",
     "metadata": {},
     "outputs": []
    },
    {
     "cell_type": "markdown",
     "metadata": {},
     "source": [
      "As a quick visual check (not that this is *not* a formal test of correctness), experiment with a simple random signal by changing the compression ratio and plotting both the signal and the compressed version:"
     ]
    },
    {
     "cell_type": "code",
     "collapsed": false,
     "input": [
      "x = np.random.rand(128)"
     ],
     "language": "python",
     "metadata": {},
     "outputs": []
    },
    {
     "cell_type": "code",
     "collapsed": false,
     "input": [
      "fraction = .6  # play changing this in the 0-1 range\n",
      "\n",
      "xa = compress_signal(x, fraction)\n",
      "\n",
      "plt.figure(figsize=(12,3))\n",
      "plt.plot(x, alpha=0.5, lw=2, label='original')\n",
      "plt.plot(xa, lw=2, label='compressed {0:.0%}'.format(fraction))\n",
      "plt.legend();"
     ],
     "language": "python",
     "metadata": {},
     "outputs": []
    },
    {
     "cell_type": "heading",
     "level": 2,
     "metadata": {},
     "source": [
      "Problem 3"
     ]
    },
    {
     "cell_type": "markdown",
     "metadata": {},
     "source": [
      "Write a function that will compress an audio file by a dropping a fraction of its spectrum, writing the output to a new file.\n",
      "\n",
      "If the input file is named `a.wav` and the compression fraction is 0.9, the output file should be named `a_comp_0.9.wav`.\n",
      "\n",
      "*Hints:* \n",
      "\n",
      "- look at the `scipy.io` module for routines dealing with files in `wav` format.\n",
      "\n",
      "- you may need to use the `astype` method of numpy arrays to get the correct data type for `wav` files."
     ]
    },
    {
     "cell_type": "code",
     "collapsed": false,
     "input": [
      "def compress_wav(fname, fraction):\n",
      "    \"\"\"Compress an audio signal stored in an input wav file.\n",
      "    \n",
      "    The compressed signal is returned as a numpy array and automatically written \n",
      "    to disk to a new wav file.\n",
      "    \n",
      "    Parameters\n",
      "    ==========\n",
      "    fname : string\n",
      "      Name of the input wav file\n",
      "      \n",
      "    fraction : float\n",
      "      Fraction of input data to keep.\n",
      "      \n",
      "    Returns\n",
      "    =======\n",
      "    rate : int\n",
      "      Bit rate of the input signal.\n",
      "\n",
      "    x : array\n",
      "      Raw data of the original input signal.\n",
      "      \n",
      "    x_approx : array\n",
      "      Raw data of the compressed signal.\n",
      "      \n",
      "    new_fname : string\n",
      "      Auto-generated filename of the compressed signal.\n",
      "    \"\"\"\n",
      "    \n",
      "    # your code here"
     ],
     "language": "python",
     "metadata": {},
     "outputs": []
    },
    {
     "cell_type": "heading",
     "level": 2,
     "metadata": {},
     "source": [
      "Problem 4"
     ]
    },
    {
     "cell_type": "markdown",
     "metadata": {},
     "source": [
      "Study the effect of compressing the input file at different ratios: 0.1, 0.5, 0.75, 0.9, 0.95, 0.99.\n",
      "\n",
      "Using the `OrderedDict` class from the [Python collections module](http://docs.python.org/2/library/collections.html#collections.OrderedDict), store the uncompressed signal as well as the compressed array and filename for each compression ratio.\n",
      "\n",
      "You will create an `OrderedDict` called `voices`, with:\n",
      "\n",
      "- keys: compression ratios\n",
      "- values: pairs of (x, filename) where x is the compressed audio and filename is the name of the compressed file."
     ]
    },
    {
     "cell_type": "code",
     "collapsed": false,
     "input": [
      "# your code here"
     ],
     "language": "python",
     "metadata": {},
     "outputs": []
    },
    {
     "cell_type": "heading",
     "level": 2,
     "metadata": {},
     "source": [
      "Problem 5"
     ]
    },
    {
     "cell_type": "markdown",
     "metadata": {},
     "source": [
      "Loop over the `voices` dict, and for each one generate an audio player as well as a spectrogram.  Observe how the spectrogram changes, and listen to each file.  At what ratio do you stop understanding the recording?"
     ]
    },
    {
     "cell_type": "code",
     "collapsed": false,
     "input": [
      "# your code here"
     ],
     "language": "python",
     "metadata": {},
     "outputs": []
    }
   ],
   "metadata": {}
  }
 ]
}