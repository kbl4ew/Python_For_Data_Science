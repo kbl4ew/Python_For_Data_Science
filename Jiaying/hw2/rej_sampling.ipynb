{
 "cells": [
  {
   "cell_type": "markdown",
   "metadata": {},
   "source": [
    "# Rejection Sampling "
   ]
  },
  {
   "cell_type": "code",
   "execution_count": 1,
   "metadata": {
    "collapsed": false
   },
   "outputs": [],
   "source": [
    "import numpy as np\n",
    "import scipy.stats as stats\n",
    "import math\n",
    "import matplotlib.pyplot as plt\n",
    "%matplotlib inline"
   ]
  },
  {
   "cell_type": "markdown",
   "metadata": {},
   "source": [
    "## Part a : Rejection sampling function"
   ]
  },
  {
   "cell_type": "code",
   "execution_count": 2,
   "metadata": {
    "collapsed": false
   },
   "outputs": [],
   "source": [
    "def rejection_sampling(target_distribution, ref_distribution, num_sample, m):\n",
    "    \"\"\"1-D rejection sampler\n",
    "       Input: target distribution\n",
    "              reference distribution\n",
    "              number of samples\n",
    "              M\n",
    "       Output: samples\n",
    "               acceptance rate\n",
    "               M\n",
    "    \"\"\"\n",
    "    n_sample = 0\n",
    "    n_accpt_sample = 0\n",
    "    accept_sample = []\n",
    "    while n_accpt_sample < num_sample:\n",
    "        sample = ref_distribution.rvs(size = 1) [0]\n",
    "        u = stats.uniform.rvs(size = 1) [0]\n",
    "        # Check whether M is large enough\n",
    "        if target_distribution(sample) > m*ref_distribution.pdf(sample):\n",
    "            print(\"Choose a larger M!!!\")\n",
    "            return\n",
    "        # Check whether accept sample\n",
    "        if u < (target_distribution(sample)/float(m*ref_distribution.pdf(sample))):\n",
    "            accept_sample.append(sample)\n",
    "            n_accpt_sample += 1\n",
    "        n_sample += 1\n",
    "    accpt_rate = num_sample / float(n_sample)\n",
    "    y = accept_sample, accpt_rate, m \n",
    "    return y\n",
    "\n",
    "  "
   ]
  },
  {
   "cell_type": "markdown",
   "metadata": {},
   "source": [
    "## Part b: Reference -- Cauchy, Target -- Laplace"
   ]
  },
  {
   "cell_type": "code",
   "execution_count": 3,
   "metadata": {
    "collapsed": false
   },
   "outputs": [],
   "source": [
    "def laplace (x, mu = 0, b = 1):\n",
    "    \"\"\"Function define a Laplace distribution f(x)\n",
    "       Input: x a scaler \n",
    "       Output: y = f(x)\n",
    "    \"\"\"\n",
    "    return (1 / float(b)) * math.exp(- math.fabs(x - mu) / float(b)) "
   ]
  },
  {
   "cell_type": "code",
   "execution_count": 4,
   "metadata": {
    "collapsed": false
   },
   "outputs": [
    {
     "name": "stdout",
     "output_type": "stream",
     "text": [
      "M = 3.24159265359\n",
      "Acceptance rate = 0.625390869293\n"
     ]
    }
   ],
   "source": [
    "##\n",
    "# Find a good M when ref is cauchy(0, 1) \n",
    "b = 1\n",
    "M = 0.1 + math.pi\n",
    "print(\"M = \" +str(M))\n",
    "num_sample = 1000\n",
    "# rejection sampling\n",
    "rej_samples = rejection_sampling(laplace, stats.cauchy, num_sample, M)\n",
    "print(\"Acceptance rate = \" + str(rej_samples[1]) )"
   ]
  },
  {
   "cell_type": "code",
   "execution_count": 5,
   "metadata": {
    "collapsed": false
   },
   "outputs": [
    {
     "data": {
      "text/plain": [
       "[<matplotlib.lines.Line2D at 0x20dc438>]"
      ]
     },
     "execution_count": 5,
     "metadata": {},
     "output_type": "execute_result"
    },
    {
     "data": {
      "image/png": "[encoded data removed]",
      "text/plain": [
       "<matplotlib.figure.Figure at 0x7dc6eb8>"
      ]
     },
     "metadata": {},
     "output_type": "display_data"
    }
   ],
   "source": [
    "samples = rej_samples[0]\n",
    "plt.figure(figsize=(12,6))\n",
    "n, bins, patches = plt.hist(samples, 100, normed=1, facecolor='blue', alpha=0.75)\n",
    "x = np.linspace(stats.laplace.ppf(0.001),stats.laplace.ppf(0.999), 1000)\n",
    "plt.plot(x, stats.laplace.pdf(x),'r-', lw=2, alpha=0.6, label='cauchy pdf')\n"
   ]
  },
  {
   "cell_type": "code",
   "execution_count": 6,
   "metadata": {
    "collapsed": false
   },
   "outputs": [
    {
     "name": "stdout",
     "output_type": "stream",
     "text": [
      "Kolmogorov-Smirnof Test: \n",
      "Statistic: 0.021\n",
      "p-value: 0.979010305682\n"
     ]
    }
   ],
   "source": [
    "ks_statistics, pvalue = stats.ks_2samp(stats.laplace.rvs(loc=0.0, scale=1.0, size = 1000), samples)\n",
    "print(\"Kolmogorov-Smirnof Test: \")\n",
    "print(\"Statistic: \"+ str(ks_statistics))\n",
    "print(\"p-value: \"+ str(pvalue))"
   ]
  },
  {
   "cell_type": "markdown",
   "metadata": {},
   "source": [
    "## Part b: Reference -- Student's t, Target -- Laplace"
   ]
  },
  {
   "cell_type": "code",
   "execution_count": 7,
   "metadata": {
    "collapsed": false
   },
   "outputs": [
    {
     "name": "stdout",
     "output_type": "stream",
     "text": [
      "M = 2.92842712475\n",
      "Acceptance rate = 0.672043010753\n"
     ]
    }
   ],
   "source": [
    "##\n",
    "# Find a good M when ref is student t with df = 2 \n",
    "b = 1\n",
    "M = 0.1 + 1 / float(stats.t.pdf(0,df = 2))\n",
    "print(\"M = \" +str(M))\n",
    "num_sample = 1000\n",
    "# rejection sampling\n",
    "rej_samples = rejection_sampling(laplace, stats.t(df = 2), num_sample, M)\n",
    "print(\"Acceptance rate = \" + str(rej_samples[1]) )"
   ]
  },
  {
   "cell_type": "markdown",
   "metadata": {},
   "source": [
    "## Part d: Reference -- Normal, Target-- Cauchy"
   ]
  },
  {
   "cell_type": "code",
   "execution_count": 8,
   "metadata": {
    "collapsed": false
   },
   "outputs": [],
   "source": [
    "def target (x):\n",
    "    \"\"\"Function define a Cauchy distribution f(x)\n",
    "       Input: x a scaler \n",
    "       Output: y = f(x)\n",
    "    \"\"\"\n",
    "    if x >= -1 and x < 0 :\n",
    "        return x + 1\n",
    "    elif x >= 0 and x < 1 :\n",
    "        return 1 - x\n",
    "    else:\n",
    "        return 0"
   ]
  },
  {
   "cell_type": "code",
   "execution_count": 11,
   "metadata": {
    "collapsed": false
   },
   "outputs": [],
   "source": [
    "##\n",
    "# Find a good M when ref is U[-1,1]\n",
    "M = 4\n",
    "num_sample = 5000\n",
    "# rejection sampling\n",
    "rej_samples = rejection_sampling(target, stats.uniform(loc = -1, scale = 2), num_sample, M)"
   ]
  },
  {
   "cell_type": "code",
   "execution_count": 12,
   "metadata": {
    "collapsed": false
   },
   "outputs": [
    {
     "data": {
      "text/plain": [
       "[<matplotlib.lines.Line2D at 0x91bca58>]"
      ]
     },
     "execution_count": 12,
     "metadata": {},
     "output_type": "execute_result"
    },
    {
     "data": {
      "image/png": "[encoded data removed]",
      "text/plain": [
       "<matplotlib.figure.Figure at 0x7dd7240>"
      ]
     },
     "metadata": {},
     "output_type": "display_data"
    }
   ],
   "source": [
    "samples = rej_samples[0]\n",
    "plt.figure(figsize=(12,6))\n",
    "n, bins, patches = plt.hist(samples, 100, normed=1, facecolor='blue', alpha=0.75)\n",
    "x = np.linspace(-1.1, 1.1, 1000)\n",
    "y = np.array([])\n",
    "for xi in x:\n",
    "    yi = target(xi)\n",
    "    y = np.append(y,[yi])\n",
    "    \n",
    "plt.plot(x, y,'r-', lw=2, alpha=0.6, label='target pdf')"
   ]
  },
  {
   "cell_type": "code",
   "execution_count": null,
   "metadata": {
    "collapsed": true
   },
   "outputs": [],
   "source": []
  }
 ],
 "metadata": {
  "kernelspec": {
   "display_name": "Python 3",
   "language": "python",
   "name": "python3"
  },
  "language_info": {
   "codemirror_mode": {
    "name": "ipython",
    "version": 3
   },
   "file_extension": ".py",
   "mimetype": "text/x-python",
   "name": "python",
   "nbconvert_exporter": "python",
   "pygments_lexer": "ipython3",
   "version": "3.5.1"
  }
 },
 "nbformat": 4,
 "nbformat_minor": 0
}
