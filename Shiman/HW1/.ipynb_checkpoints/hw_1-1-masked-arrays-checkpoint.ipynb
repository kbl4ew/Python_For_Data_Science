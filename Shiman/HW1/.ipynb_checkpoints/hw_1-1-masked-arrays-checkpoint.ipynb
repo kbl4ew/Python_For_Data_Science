{
 "cells": [
  {
   "cell_type": "markdown",
   "metadata": {},
   "source": [
    "## Due Wednesday Sept 11, 2013 @ 5pm ##\n",
    "\n",
    "Send us an email `ucbpythonclass+seminar@gmail.com` (with a tarball of notebook/code/files)\n",
    "\n",
    "## 0-1  Fun with Masked Arrays ##\n",
    "\n",
    "`Numpy` masked arrays provide a way to keep track of elements that are considered \"missing\" or \"bad\". This is extremely useful when performing statistics on such arrays---masked elements should not be included in determining, for example the mean.  Masked arrays are really helpful when combining images too that have known regions of bad or bogus data.\n",
    "\n",
    "Check out the masked array methods and functions here:\n",
    "  http://docs.scipy.org/doc/numpy/reference/routines.ma.html"
   ]
  },
  {
   "cell_type": "markdown",
   "metadata": {},
   "source": [
    "In this exercise you'll use masked arrays to find a hidden word by combining a series of images. Here's two of them (`im1-a.png`):\n",
    "<center>\n",
    "<img src=\"files/hw_0_data/im1-a.png\" width=20%/> &nbsp; <img src=\"files/hw_0_data/im1-b.png\" width=20%/>\n",
    "</center>"
   ]
  },
  {
   "cell_type": "markdown",
   "metadata": {},
   "source": [
    "The black dot and the hidden word are fixed with respect to each other but the light grey area hides a different part of the word in each image. You'll notice that the black dot has moved in each image.\n",
    "\n",
    "A tarball for this question and the next is at:\n",
    "\n",
    "https://www.dropbox.com/s/0clmmvwkoy000d4/homework1_data.tgz"
   ]
  },
  {
   "cell_type": "markdown",
   "metadata": {},
   "source": [
    "1) Using `numpy` tools, find the location of the center of the black dot in all five images (`im1-a.png` through `im1-e.png`) and report those locations as a list of 5 tuples. Note: if you want to display the images you can do something like (in IPython):\n",
    "\n",
    "```python\n",
    "%pylab inline\n",
    "from scipy.ndimage import imread\n",
    "im=imread(\"im1.png\",flatten=True)\n",
    "imshow(im,cmap=cm.Greys)\n",
    "```"
   ]
  },
  {
   "cell_type": "markdown",
   "metadata": {},
   "source": [
    "2) Using the location of the black dot in the first image, find the offset of the other images with respect to the first image. Using `scipy.ndimage.interpolation.shift` perform a shift on the other four images such that they are \"registered\" (aligned) with the first image. That is, make sure that the black dots are all in the same x,y location in the transformed images. Keep those images in `numpy` arrays (for the next part) but also save those images as `.png` files, appropriately named (`im1-b-shift.png`, `im1-c-shift.png`, etc.). Note: you'll need to think a bit about how you treat the edges in the `shift` operation."
   ]
  },
  {
   "cell_type": "markdown",
   "metadata": {},
   "source": [
    "3) Mask out the registered images by finding an appropriate `mask` for the grey-level regions making 5 new masked arrays like:\n",
    "```python\n",
    "new_masked_a = ma.masked_array(ima,mask=mask)\n",
    "```\n",
    "Combine the masked arrays using `np.ma.median` to reveal the hidden message."
   ]
  },
  {
   "cell_type": "code",
   "execution_count": 4,
   "metadata": {
    "collapsed": false
   },
   "outputs": [],
   "source": [
    "#(c) Python Seminar UC Berkeley 2013\n",
    "__author__ = \"Josh Bloom\"\n",
    "__email__ = \"joshbloom@berkeley.edu\""
   ]
  }
 ],
 "metadata": {
  "kernelspec": {
   "display_name": "Python 2",
   "language": "python",
   "name": "python2"
  },
  "language_info": {
   "codemirror_mode": {
    "name": "ipython",
    "version": 2
   },
   "file_extension": ".py",
   "mimetype": "text/x-python",
   "name": "python",
   "nbconvert_exporter": "python",
   "pygments_lexer": "ipython2",
   "version": "2.7.11"
  }
 },
 "nbformat": 4,
 "nbformat_minor": 0
}
