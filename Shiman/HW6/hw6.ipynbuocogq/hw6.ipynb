{
 "cells": [
  {
   "cell_type": "code",
   "execution_count": 1,
   "metadata": {
    "collapsed": false
   },
   "outputs": [],
   "source": [
    "# Shiman, shiman@berkeley.edu"
   ]
  },
  {
   "cell_type": "markdown",
   "metadata": {},
   "source": [
    "## 6-1 Create table of Top Airports Information"
   ]
  },
  {
   "cell_type": "code",
   "execution_count": 64,
   "metadata": {
    "collapsed": false
   },
   "outputs": [],
   "source": [
    "import pandas as pd\n",
    "import matplotlib.pyplot as plt\n",
    "import numpy as np\n",
    "%matplotlib inline\n",
    "\n",
    "pd.set_option('display.notebook_repr_html', False) # turn off html, i.e., without table.\n",
    "pd.set_option('display.max_rows', 5)   # getting the summary of the view versus getting everything. Terminal takes time to buffer."
   ]
  },
  {
   "cell_type": "code",
   "execution_count": 29,
   "metadata": {
    "collapsed": true
   },
   "outputs": [
    {
     "name": "stdout",
     "output_type": "stream",
     "text": [
      "            City  FAA IATA  ICAO  \\\n",
      "0        Atlanta  ATL  ATL  KATL   \n",
      "1        Chicago  ORD  ORD  KORD   \n",
      "..           ...  ...  ...   ...   \n",
      "48        Dallas  DAL  DAL  KDAL   \n",
      "49  Indianapolis  IND  IND  KIND   \n",
      "\n",
      "                                             Airport Role  Enplanements  \n",
      "0   Hartsfield-Jackson Atlanta International Airport  P-L      43130585  \n",
      "1               Chicago O'Hare International Airport  P-L      32171831  \n",
      "..                                               ...  ...           ...  \n",
      "48                                 Dallas Love Field  P-M       3783407  \n",
      "49                Indianapolis International Airport  P-M       3728698  \n",
      "\n",
      "[50 rows x 7 columns]\n"
     ]
    }
   ],
   "source": [
    "# read data\n",
    "top_airport = pd.read_csv('Data/top_airports.csv')\n",
    "airport_info = pd.read_csv('Data/ICAO_airports.csv')\n",
    "print(top_airport)"
   ]
  },
  {
   "cell_type": "code",
   "execution_count": 45,
   "metadata": {
    "collapsed": false
   },
   "outputs": [
    {
     "data": {
      "text/plain": [
       "Index([u'City', u'FAA', u'IATA', u'ICAO', u'name', u'Role', u'Enplanements'], dtype='object')"
      ]
     },
     "execution_count": 45,
     "metadata": {},
     "output_type": "execute_result"
    }
   ],
   "source": [
    "top_airport.columns"
   ]
  },
  {
   "cell_type": "code",
   "execution_count": 47,
   "metadata": {
    "collapsed": false
   },
   "outputs": [
    {
     "data": {
      "text/plain": [
       "Index([u'id', u'ICAO', u'type', u'name', u'latitude_deg', u'longitude_deg',\n",
       "       u'elevation_ft', u'continent', u'iso_country', u'iso_region',\n",
       "       u'municipality', u'scheduled_service', u'gps_code', u'iata_code',\n",
       "       u'local_code', u'home_link', u'wikipedia_link', u'keywords'],\n",
       "      dtype='object')"
      ]
     },
     "execution_count": 47,
     "metadata": {},
     "output_type": "execute_result"
    }
   ],
   "source": [
    "airport_info.columns"
   ]
  },
  {
   "cell_type": "code",
   "execution_count": 41,
   "metadata": {
    "collapsed": false
   },
   "outputs": [],
   "source": [
    "# rename column for consistency\n",
    "top_airport.rename(columns={'Airport': 'name'}, inplace=True)\n",
    "airport_info.rename(columns={'ident': 'ICAO'}, inplace=True)"
   ]
  },
  {
   "cell_type": "code",
   "execution_count": 49,
   "metadata": {
    "collapsed": false
   },
   "outputs": [],
   "source": [
    "top_airport_info = pd.merge(top_airport, airport_info, on=['ICAO'])"
   ]
  },
  {
   "cell_type": "code",
   "execution_count": 65,
   "metadata": {
    "collapsed": false
   },
   "outputs": [],
   "source": [
    "key_info = top_airport_info[['name_y', 'City', 'ICAO', 'latitude_deg', 'longitude_deg']]"
   ]
  },
  {
   "cell_type": "code",
   "execution_count": 66,
   "metadata": {
    "collapsed": true
   },
   "outputs": [
    {
     "data": {
      "text/plain": [
       "                                              name_y          City  ICAO  \\\n",
       "0   Hartsfield Jackson Atlanta International Airport       Atlanta  KATL   \n",
       "1               Chicago O'Hare International Airport       Chicago  KORD   \n",
       "..                                               ...           ...   ...   \n",
       "48                                 Dallas Love Field        Dallas  KDAL   \n",
       "49                Indianapolis International Airport  Indianapolis  KIND   \n",
       "\n",
       "    latitude_deg  longitude_deg  \n",
       "0      33.636700     -84.428101  \n",
       "1      41.978600     -87.904800  \n",
       "..           ...            ...  \n",
       "48     32.847099     -96.851799  \n",
       "49     39.717300     -86.294403  \n",
       "\n",
       "[50 rows x 5 columns]"
      ]
     },
     "execution_count": 66,
     "metadata": {},
     "output_type": "execute_result"
    }
   ],
   "source": [
    "key_info"
   ]
  },
  {
   "cell_type": "markdown",
   "metadata": {},
   "source": [
    "## 6-2 Create table of Historical Weather Info"
   ]
  },
  {
   "cell_type": "code",
   "execution_count": 69,
   "metadata": {
    "collapsed": true
   },
   "outputs": [],
   "source": [
    "a = 'http://www.wunderground.com/history/airport/KSFO/2013/9/1/MonthlyHistory.html?format=1'\n",
    "aa = pd.read_csv(a)"
   ]
  },
  {
   "cell_type": "code",
   "execution_count": 97,
   "metadata": {
    "collapsed": false
   },
   "outputs": [],
   "source": [
    "def readTemp(ICAO, \n",
    "             feature = ['Max TemperatureF', 'Min TemperatureF', ' Mean Humidity', 'PrecipitationIn', ' CloudCover']):\n",
    "    fname = 'http://www.wunderground.com/history/airport/' + ICAO + '/2015/9/1/MonthlyHistory.html?format=1'\n",
    "    ftemp = pd.read_csv(fname)[feature]\n",
    "    #ftemp['ICAO'] = ICAO\n",
    "    print(ICAO)\n",
    "    return(ftemp)"
   ]
  },
  {
   "cell_type": "code",
   "execution_count": 98,
   "metadata": {
    "collapsed": true
   },
   "outputs": [
    {
     "name": "stdout",
     "output_type": "stream",
     "text": [
      "KATL\n",
      "KORD\n",
      "KLAX\n",
      "KDFW\n",
      "KDEN\n",
      "KJFK\n",
      "KSFO\n",
      "KIAH\n",
      "KLAS\n",
      "KPHX\n",
      "KCLT\n",
      "KMIA\n",
      "KMCO\n",
      "KEWR\n",
      "KDTW\n",
      "KMSP\n",
      "KSEA\n",
      "KPHL\n",
      "KBOS\n",
      "KLGA\n",
      "KIAD\n",
      "KBWI\n",
      "KFLL\n",
      "KSLC\n",
      "PHNL\n",
      "KDCA\n",
      "KMDW\n",
      "KSAN\n",
      "KTPA\n",
      "KPDX\n",
      "KSTL\n",
      "KMCI\n",
      "KMEM\n",
      "KCLE\n",
      "KOAK\n",
      "TJSJ\n",
      "KRDU\n",
      "KBNA\n",
      "KSMF\n",
      "KHOU\n",
      "KSNA\n",
      "KAUS\n",
      "KSJC\n",
      "KMSY\n",
      "KPIT\n",
      "KSAT\n",
      "KCVG\n",
      "KMKE\n",
      "KDAL\n",
      "KIND\n"
     ]
    }
   ],
   "source": [
    "#Temp = pd.DataFrame()\n",
    "#for k in key_info['ICAO']:\n",
    "frames = [readTemp(f) for f in key_info['ICAO']]\n",
    "Temperature = pd.concat(frames)"
   ]
  },
  {
   "cell_type": "code",
   "execution_count": 103,
   "metadata": {
    "collapsed": false
   },
   "outputs": [
    {
     "data": {
      "text/plain": [
       "    Max TemperatureF  Min TemperatureF   Mean Humidity PrecipitationIn  \\\n",
       "0                 87                69              69            0.00   \n",
       "1                 90                73              67            0.00   \n",
       "..               ...               ...             ...             ...   \n",
       "28                73                61              81            0.27   \n",
       "29                69                56              61               T   \n",
       "\n",
       "     CloudCover  ICAO  \n",
       "0             4  KATL  \n",
       "1             5  KATL  \n",
       "..          ...   ...  \n",
       "28            8  KIND  \n",
       "29            7  KIND  \n",
       "\n",
       "[1500 rows x 6 columns]"
      ]
     },
     "execution_count": 103,
     "metadata": {},
     "output_type": "execute_result"
    }
   ],
   "source": [
    "Temperature"
   ]
  }
 ],
 "metadata": {
  "kernelspec": {
   "display_name": "Python 2",
   "language": "python",
   "name": "python2"
  },
  "language_info": {
   "codemirror_mode": {
    "name": "ipython",
    "version": 2
   },
   "file_extension": ".py",
   "mimetype": "text/x-python",
   "name": "python",
   "nbconvert_exporter": "python",
   "pygments_lexer": "ipython2",
   "version": "2.7.11"
  }
 },
 "nbformat": 4,
 "nbformat_minor": 0
}
